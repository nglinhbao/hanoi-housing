{
  "nbformat": 4,
  "nbformat_minor": 0,
  "metadata": {
    "colab": {
      "provenance": [],
      "toc_visible": true
    },
    "kernelspec": {
      "name": "python3",
      "display_name": "Python 3"
    },
    "language_info": {
      "name": "python"
    }
  },
  "cells": [
    {
      "cell_type": "markdown",
      "source": [
        "# **Dự Đoán Giá Nhà từ Dữ Liệu Bất Động Sản ở Hà Nội (tuần 4)**"
      ],
      "metadata": {
        "id": "4XlUhgWUpgK1"
      }
    },
    {
      "cell_type": "markdown",
      "source": [
        "Ở bài trước, chúng ta đã chạy được lan truyền xuôi dựa trên tập dữ liệu bất động sản ở Hà Nội. Trong bài tập này, chúng ta sẽ đi sâu hơn về phần huấn luyện mô hình.\n",
        "\n",
        "**Dữ Liệu**:\n",
        "\n",
        "Chúng ta sẽ sử dụng tập dữ liệu về dự đoán giá nhà được lấy từ Kaggle (https://www.kaggle.com/datasets/ladcva/vietnam-housing-dataset-hanoi/data). Tập dữ liệu này chứa thông tin về các giao dịch bất động sản ở Hà Nội, bao gồm các thuộc tính liên quan như địa chỉ, quận, huyện, diện tích, số phòng ngủ,... và giá bán. Mục tiêu của chúng ta là xây dựng một mô hình để dự đoán giá của các căn nhà dựa trên các thuộc tính này.\n",
        "\n",
        "**Phương Pháp**:\n",
        "\n",
        "Chúng ta sẽ tiến hành các bước sau:\n",
        "* Normalization\n",
        "* Gradient clipping\n",
        "* Adam optimizer\n",
        "* Learning rate decay"
      ],
      "metadata": {
        "id": "WbKY5K3gpdU7"
      }
    },
    {
      "cell_type": "markdown",
      "source": [
        "# Tải các dữ liệu đầu vào"
      ],
      "metadata": {
        "id": "DcPzilVUqOhr"
      }
    },
    {
      "cell_type": "code",
      "source": [
        "from google.colab import drive\n",
        "drive.mount('/content/drive')"
      ],
      "metadata": {
        "colab": {
          "base_uri": "https://localhost:8080/"
        },
        "id": "_28fbiP8LI20",
        "outputId": "9fef1452-b8b5-4faf-feb8-0e7219278663"
      },
      "execution_count": null,
      "outputs": [
        {
          "output_type": "stream",
          "name": "stdout",
          "text": [
            "Mounted at /content/drive\n"
          ]
        }
      ]
    },
    {
      "cell_type": "markdown",
      "source": [
        "Vì bài tập tuần 1 chỉ tập trung vào lan truyền xuôi, chúng ta sẽ tải những dữ liệu và thông số đã được xử lý. Đầu tiên chúng ta sẽ tải các biến đã được xử lý vào notebook (X_train, y_train, X_test, y_test). Trong đó:\n",
        "- Train (Dữ liệu huấn luyện): Dùng để dạy mô hình học từ dữ liệu, với X_train là biến đầu vào và y_train là nhãn đầu ra.\n",
        "- Test (Dữ liệu kiểm tra): Dùng để đánh giá hiệu suất của mô hình sau khi huấn luyện, với X_test là biến đầu vào và y_test là nhãn đầu ra."
      ],
      "metadata": {
        "id": "qVuqd-0kAOQQ"
      }
    },
    {
      "cell_type": "markdown",
      "source": [
        "Giải thích thư viện: **NumPy** (`import numpy as np`):\n",
        "   - **Mục đích**: NumPy là thư viện nền tảng cho tính toán khoa học trong Python.\n",
        "   - **Chức năng chính**: Cung cấp các mảng (arrays) và ma trận (matrices) đa chiều hiệu suất cao, cùng với các hàm toán học để thao tác với chúng."
      ],
      "metadata": {
        "id": "0gv1LRXqyxEO"
      }
    },
    {
      "cell_type": "code",
      "source": [
        "import numpy as np\n",
        "\n",
        "# Load the x and y arrays from .npy files\n",
        "x = np.load('/content/drive/MyDrive/notebook/original_x.npy')\n",
        "y = np.load('/content/drive/MyDrive/notebook/original_y.npy')\n",
        "\n",
        "# Verify the shapes of x and y\n",
        "print(f\"Shape of x: {x.shape}\")\n",
        "print(f\"Shape of y: {y.shape}\")"
      ],
      "metadata": {
        "id": "rWGdm52RneHe",
        "colab": {
          "base_uri": "https://localhost:8080/"
        },
        "outputId": "83452df4-f1a6-48ca-fb79-5d9f49f2455e"
      },
      "execution_count": null,
      "outputs": [
        {
          "output_type": "stream",
          "name": "stdout",
          "text": [
            "Shape of x: (75074, 6)\n",
            "Shape of y: (75074,)\n"
          ]
        }
      ]
    },
    {
      "cell_type": "markdown",
      "source": [
        "# Các hàm ở bài tập trước"
      ],
      "metadata": {
        "id": "onILALe-inIX"
      }
    },
    {
      "cell_type": "markdown",
      "source": [
        "## Hàm ReLU"
      ],
      "metadata": {
        "id": "JXzcDZPqCtD7"
      }
    },
    {
      "cell_type": "markdown",
      "source": [
        "Hàm này là hàm kích hoạt ReLU (Rectified Linear Activation Function), được định nghĩa bằng công thức:\n",
        "\n",
        "ReLU(x) = max(0, x)\n",
        "\n",
        "Hàm này trả về giá trị của x nếu x lớn hơn hoặc bằng 0, và trả về 0 nếu x nhỏ hơn 0. Điều này làm cho hàm ReLU trở thành một hàm phi tuyến tính, giúp nó hoạt động tốt trong việc giải quyết vấn đề biến mất đạo hàm và tăng cường hiệu suất của mạng nơ-ron."
      ],
      "metadata": {
        "id": "rNw1YJEyCws2"
      }
    },
    {
      "cell_type": "code",
      "source": [
        "import numpy as np\n",
        "\n",
        "# Định nghĩa hàm kích hoạt ReLU\n",
        "def relu(x):\n",
        "    \"\"\"\n",
        "    Hàm kích hoạt ReLU (Rectified Linear Unit).\n",
        "\n",
        "    Hàm ReLU là một hàm phi tuyến tính thường được sử dụng trong các mạng neural.\n",
        "    Nó thay thế tất cả các giá trị âm trong đầu vào bằng 0 và giữ nguyên các giá trị dương.\n",
        "\n",
        "    Tham số:\n",
        "    x -- đầu vào dưới dạng mảng NumPy (numpy array), có thể là một số, vector, hoặc ma trận.\n",
        "\n",
        "    Trả về:\n",
        "    Hàm ReLU trả về mảng cùng kích thước với đầu vào, trong đó các giá trị âm đã bị thay thế bằng 0.\n",
        "    \"\"\"\n",
        "    return np.maximum(0, x)"
      ],
      "metadata": {
        "id": "2UY-CHgXAw-y"
      },
      "execution_count": 4,
      "outputs": []
    },
    {
      "cell_type": "markdown",
      "source": [
        "## Tính độ mất mát\n",
        "Trong cell này, chúng ta định nghĩa hàm compute_cost để tính toán độ mất mát của mô hình bằng phương pháp Mean Squared Error (MSE)."
      ],
      "metadata": {
        "id": "OqVV_UhDEf_m"
      }
    },
    {
      "cell_type": "code",
      "source": [
        "# Tính toán độ mất mát (mean squared error)\n",
        "def compute_cost(A, Y):\n",
        "    \"\"\"\n",
        "    Tính toán lỗi bình phương trung bình.\n",
        "\n",
        "    Tham số:\n",
        "    A -- Đầu ra của kích hoạt cuối cùng, có dạng (1, số lượng ví dụ)\n",
        "    Y -- vector nhãn \"thật\" có dạng (1, số lượng ví dụ)\n",
        "\n",
        "    Trả về:\n",
        "    cost -- lỗi bình phương trung bình\n",
        "    \"\"\"\n",
        "    m = Y.shape[1]\n",
        "    cost = (1.0 / m) * np.sum(np.square(A - Y))\n",
        "    return float(np.squeeze(cost))"
      ],
      "metadata": {
        "id": "HOoqX2hiBAsr"
      },
      "execution_count": 5,
      "outputs": []
    },
    {
      "cell_type": "markdown",
      "source": [
        "## Lan truyền ngược\n",
        "Trong cell này, chúng ta định nghĩa hàm backward_propagation để thực hiện lan truyền ngược cho một lớp của mạng neural. Lan truyền ngược giúp tính toán gradient của hàm mất mát đối với các tham số của mạng, qua đó cập nhật trọng số và bias để tối ưu hóa mô hình."
      ],
      "metadata": {
        "id": "PxEP5S50Fcas"
      }
    },
    {
      "cell_type": "code",
      "source": [
        "# Lan truyền ngược (một lớp)\n",
        "def backward_propagation(dA, cache, activation):\n",
        "    \"\"\"\n",
        "    Thực hiện lan truyền ngược qua một lớp của mạng neural.\n",
        "\n",
        "    Hàm này tính toán gradient của hàm mất mát đối với các tham số của lớp (trọng số và bias)\n",
        "    và gradient đối với đầu vào của lớp đó. Đây là bước cần thiết để cập nhật các tham số trong quá trình huấn luyện.\n",
        "\n",
        "    Tham số:\n",
        "    dA -- Gradient của hàm mất mát đối với đầu ra của lớp hiện tại, có kích thước (số lượng đơn vị lớp hiện tại, số lượng ví dụ).\n",
        "    cache -- Dictionary chứa các giá trị cần thiết cho lan truyền ngược, bao gồm:\n",
        "        - \"Z\" -- Giá trị trước kích hoạt của lớp hiện tại.\n",
        "        - \"A_prev\" -- Đầu vào của lớp hiện tại.\n",
        "        - \"W\" -- Trọng số của lớp hiện tại.\n",
        "        - \"A\" -- Đầu ra của lớp hiện tại sau khi áp dụng hàm kích hoạt.\n",
        "    activation -- Loại hàm kích hoạt, có thể là \"relu\" hoặc \"linear\".\n",
        "\n",
        "    Trả về:\n",
        "    dA_prev -- Gradient của hàm mất mát đối với đầu vào của lớp hiện tại, có kích thước (số lượng đặc trưng, số lượng ví dụ).\n",
        "    dW -- Gradient của hàm mất mát đối với ma trận trọng số của lớp hiện tại.\n",
        "    db -- Gradient của hàm mất mát đối với vector bias của lớp hiện tại.\n",
        "    \"\"\"\n",
        "    Z = cache[\"Z\"]\n",
        "\n",
        "    if activation == \"relu\":\n",
        "        dZ = np.array(dA, copy=True)\n",
        "        dZ[Z <= 0] = 0\n",
        "    elif activation == \"linear\":\n",
        "        dZ = dA  # Đối với kích hoạt tuyến tính, dZ = dA\n",
        "    else:\n",
        "        raise ValueError(\"Hàm kích hoạt không được hỗ trợ\")\n",
        "\n",
        "    A_prev = cache[\"A_prev\"]\n",
        "    m = A_prev.shape[1]\n",
        "\n",
        "    dW = (1 / m) * np.dot(dZ, A_prev.T)\n",
        "    db = (1 / m) * np.sum(dZ, axis=1, keepdims=True)\n",
        "    dA_prev = np.dot(cache[\"W\"].T, dZ)\n",
        "\n",
        "    return dA_prev, dW, db"
      ],
      "metadata": {
        "id": "I5h6TqSrBDVf"
      },
      "execution_count": 6,
      "outputs": []
    },
    {
      "cell_type": "markdown",
      "source": [
        "## Khởi tạo thông số\n",
        "Trong cell này, chúng ta định nghĩa hàm initialize_parameters để khởi tạo các tham số cho một lớp của mạng neural. Hàm này sẽ khởi tạo trọng số (W) sử dụng phương pháp He Normal initialization và bias (b) với giá trị 0."
      ],
      "metadata": {
        "id": "qOQjoCmNIS9z"
      }
    },
    {
      "cell_type": "code",
      "source": [
        "# Khởi tạo tham số thông thường\n",
        "def initialize_parameters(input_dim, units):\n",
        "    \"\"\"\n",
        "    Khởi tạo trọng số với khởi tạo thông thường (Gaussian với phương sai nhỏ) và bias với giá trị 0.\n",
        "\n",
        "    Tham số:\n",
        "    input_dim -- kích thước của lớp đầu vào\n",
        "    units -- số lượng đơn vị trong lớp\n",
        "\n",
        "    Trả về:\n",
        "    parameters -- dictionary chứa các tham số:\n",
        "                    W -- ma trận trọng số có dạng (units, input_dim)\n",
        "                    b -- vector bias có dạng (units, 1)\n",
        "    \"\"\"\n",
        "    W = np.random.randn(units, input_dim) * 0.01  # Khởi tạo thông thường với giá trị nhỏ\n",
        "    b = np.zeros((units, 1))\n",
        "    parameters = {\"W\": W, \"b\": b}\n",
        "    return parameters"
      ],
      "metadata": {
        "id": "aOR5sYTHIJG9"
      },
      "execution_count": 7,
      "outputs": []
    },
    {
      "cell_type": "markdown",
      "source": [
        "# BÀI TẬP: Chuẩn hóa dữ liệu (normalization)\n",
        "\n",
        "Quá trình chuẩn hóa dữ liệu liên quan đến việc biến đổi dữ liệu để mỗi thuộc tính (feature) có giá trị trung bình bằng 0 và độ lệch chuẩn bằng 1. Đây là một bước quan trọng trong tiền xử lý dữ liệu để đảm bảo rằng tất cả các thuộc tính đóng góp đồng đều vào mô hình học máy và tránh việc một thuộc tính chi phối các thuộc tính khác.\n",
        "\n",
        "## Công thức chuẩn hóa\n",
        "\n",
        "Để chuẩn hóa một thuộc tính $x_i$ (giá trị của thuộc tính ở hàng thứ \\(i\\)):\n",
        "\n",
        "$x_i' = \\frac{x_i - \\mu}{\\sigma}$\n",
        "\n",
        "Trong đó:\n",
        "- $x_i'$ là giá trị đã được chuẩn hóa của $x_i$.\n",
        "- $\\mu$ là giá trị trung bình của tất cả các giá trị trong thuộc tính đó.\n",
        "- $\\sigma$ là độ lệch chuẩn của tất cả các giá trị trong thuộc tính đó.\n",
        "\n",
        "## Các bước thực hiện\n",
        "\n",
        "1. **Tính giá trị trung bình ($\\mu$)** cho từng thuộc tính:\n",
        "   $\\mu = \\frac{1}{n} \\sum_{i=1}^{n} x_i$\n",
        "   Trong đó $n$ là số lượng mẫu.\n",
        "\n",
        "2. **Tính độ lệch chuẩn ($\\sigma$)** cho từng thuộc tính:\n",
        "   $\\sigma = \\sqrt{\\frac{1}{n} \\sum_{i=1}^{n} (x_i - \\mu)^2}$\n",
        "\n",
        "3. **Chuẩn hóa** từng giá trị của thuộc tính:\n",
        "   $x_i' = \\frac{x_i - \\mu}{\\sigma}$\n",
        "\n",
        "Bằng cách thực hiện các bước trên, tất cả các thuộc tính của dữ liệu sẽ có trung bình bằng 0 và độ lệch chuẩn bằng 1, giúp mô hình học máy hoạt động hiệu quả hơn.\n",
        "\n",
        "Gợi ý:\n",
        "* Trung bình có thể được tính bằng hàm [numpy.mean](https://numpy.org/doc/stable/reference/generated/numpy.mean.html)\n",
        "* Độ lệch chuẩn có thể được tính bằng hàm [numpy.std](https://numpy.org/doc/stable/reference/generated/numpy.std.html)"
      ],
      "metadata": {
        "id": "i587iw9QP6eC"
      }
    },
    {
      "cell_type": "code",
      "source": [
        "def normalization(x):\n",
        "    '''\n",
        "    Chuẩn hóa dữ liệu bằng cách trừ đi giá trị trung bình và chia cho độ lệch chuẩn của từng thuộc tính.\n",
        "\n",
        "    Tham số:\n",
        "    x -- mảng numpy chứa dữ liệu cần chuẩn hóa, có hình dạng (số_lượng_examples, số_lượng_features)\n",
        "\n",
        "    Trả về:\n",
        "    x_normalized -- mảng numpy chứa dữ liệu đã được chuẩn hóa, có cùng hình dạng với đầu vào\n",
        "    mean -- mảng numpy chứa giá trị trung bình của từng thuộc tính, có hình dạng (số_lượng_features, )\n",
        "    std -- mảng numpy chứa độ lệch chuẩn của từng thuộc tính, có hình dạng (số_lượng_features, )\n",
        "    '''\n",
        "    ### BEGIN SOLUTION\n",
        "    mean = x.mean(axis=0)\n",
        "    std = x.std(axis=0)\n",
        "    x_normalized = (x - mean) / std\n",
        "    ### END SOLUTION\n",
        "    return x_normalized, mean, std"
      ],
      "metadata": {
        "id": "rGHMFzEelJ5B"
      },
      "execution_count": 8,
      "outputs": []
    },
    {
      "cell_type": "code",
      "source": [
        "# Tests 10 points.\n",
        "\n",
        "x1 = np.array([[1, 2], [3, 4], [5, 6]])\n",
        "normalized_x1, temp_mean, temp_std = normalization(x1.copy())\n",
        "assert np.allclose(normalized_x1.mean(axis=0), 0, atol=1e-7), \"Test 1 sai: Trung bình khác 0.\"\n",
        "assert np.allclose(normalized_x1.std(axis=0), 1, atol=1e-7), \"Test 1 sai: Độ lệch chuẩn khác 1.\"\n",
        "\n",
        "### BEGIN HIDDEN TESTS\n",
        "\n",
        "# Test 2: Array with negative values\n",
        "x2 = np.array([[-1, -2], [-3, -4], [-5, -6]])\n",
        "normalized_x2, temp_mean, temp_std = normalization(x2.copy())\n",
        "assert np.allclose(normalized_x2.mean(axis=0), 0, atol=1e-7), \"Test 2 failed: Mean is not zero.\"\n",
        "assert np.allclose(normalized_x2.std(axis=0), 1, atol=1e-7), \"Test 2 failed: Standard deviation is not one.\"\n",
        "\n",
        "# Test 3: Array with mixed values\n",
        "x3 = np.array([[1, -1], [2, -2], [3, -3]])\n",
        "normalized_x3, temp_mean, temp_std = normalization(x3.copy())\n",
        "assert np.allclose(normalized_x3.mean(axis=0), 0, atol=1e-7), \"Test 3 failed: Mean is not zero.\"\n",
        "assert np.allclose(normalized_x3.std(axis=0), 1, atol=1e-7), \"Test 3 failed: Standard deviation is not one.\"\n",
        "\n",
        "### END HIDDEN TESTS"
      ],
      "metadata": {
        "id": "TgwwEFzY3K2M"
      },
      "execution_count": 9,
      "outputs": []
    },
    {
      "cell_type": "code",
      "source": [
        "x_normalized, mean, std = normalization(x)"
      ],
      "metadata": {
        "id": "YtBEivTa2Awr"
      },
      "execution_count": 10,
      "outputs": []
    },
    {
      "cell_type": "code",
      "source": [
        "x_normalized"
      ],
      "metadata": {
        "id": "ynKIQ7OA2Ri5",
        "colab": {
          "base_uri": "https://localhost:8080/"
        },
        "outputId": "e3632da3-1eb0-40a6-c123-70d3d936ecde"
      },
      "execution_count": 11,
      "outputs": [
        {
          "output_type": "execute_result",
          "data": {
            "text/plain": [
              "array([[-0.98443252, -0.38611126,  0.43489474,  0.77770389, -0.02255992,\n",
              "        -1.10025004],\n",
              "       [ 0.74864915, -0.79891509, -1.6646029 , -0.60181414, -0.16567025,\n",
              "        -0.7286822 ],\n",
              "       [-0.73684943, -0.51745793,  0.43489474,  0.08794487, -0.1179668 ,\n",
              "        -0.36828932],\n",
              "       ...,\n",
              "       [-0.98443252,  0.2330945 , -1.6646029 ,  0.08794487, -0.10206566,\n",
              "        -0.16993356],\n",
              "       [-0.98443252,  0.2330945 ,  0.43489474,  0.08794487,  0.20005616,\n",
              "         0.33014647],\n",
              "       [-0.98443252, -0.55498555,  2.53439239,  0.08794487, -0.03846106,\n",
              "        -0.82646321]])"
            ]
          },
          "metadata": {},
          "execution_count": 11
        }
      ]
    },
    {
      "cell_type": "markdown",
      "source": [
        "Chia dữ liệu thành các tập huấn luyện và kiểm tra (training và test datasets) sử dụng hàm train_test_split() từ thư viện sklearn.model_selection theo tỉ lệ 70% cho training và 30% cho testing."
      ],
      "metadata": {
        "id": "Pso636Y0QUYq"
      }
    },
    {
      "cell_type": "code",
      "source": [
        "from sklearn.model_selection import train_test_split\n",
        "import numpy as np\n",
        "\n",
        "# Giả định rằng x_normalized và y đã được định nghĩa và chuẩn hóa trước đó\n",
        "# x_normalized: Ma trận đặc trưng đã được chuẩn hóa (normalized features matrix)\n",
        "# y: Vector mục tiêu (target vector)\n",
        "\n",
        "# Chia dữ liệu thành tập huấn luyện và tập kiểm tra\n",
        "# test_size=0.3: 30% dữ liệu được sử dụng cho tập kiểm tra\n",
        "# random_state=0: Đảm bảo rằng việc chia dữ liệu là ngẫu nhiên nhưng có thể tái lập\n",
        "X_train, X_test, y_train, y_test = train_test_split(x_normalized, y, test_size=0.3, random_state=0)\n",
        "\n",
        "# Output:\n",
        "# X_train: Ma trận đặc trưng cho tập huấn luyện\n",
        "# X_test: Ma trận đặc trưng cho tập kiểm tra\n",
        "# y_train: Vector mục tiêu cho tập huấn luyện\n",
        "# y_test: Vector mục tiêu cho tập kiểm tra"
      ],
      "metadata": {
        "id": "KKikWAYyQZGh"
      },
      "execution_count": 12,
      "outputs": []
    },
    {
      "cell_type": "code",
      "source": [
        "# In ra kích thước của X_test\n",
        "print(X_train.shape)\n",
        "print(y_train.shape)\n",
        "print(X_test.shape)\n",
        "print(y_test.shape)"
      ],
      "metadata": {
        "id": "Vp4sZ5DxRrj4",
        "colab": {
          "base_uri": "https://localhost:8080/"
        },
        "outputId": "4cf6c537-5397-492d-b5ac-d07e77503d3e"
      },
      "execution_count": 13,
      "outputs": [
        {
          "output_type": "stream",
          "name": "stdout",
          "text": [
            "(52551, 6)\n",
            "(52551,)\n",
            "(22523, 6)\n",
            "(22523,)\n"
          ]
        }
      ]
    },
    {
      "cell_type": "markdown",
      "source": [
        "# BÀI TẬP: Dropout\n",
        "\n",
        "Dropout là một kỹ thuật thường được sử dụng trong mạng neural để giảm thiểu *overfitting*. Trong quá trình huấn luyện, dropout làm tắt ngẫu nhiên một số neuron tại mỗi lớp bằng cách nhân đầu ra của các neuron này với 0. Mỗi neuron có xác suất `keep_prob` để được giữ lại. Dropout mask \\( D \\) (chứa các giá trị 0 hoặc 1) quyết định neuron nào sẽ hoạt động trong lượt lan truyền xuôi. Sau khi áp dụng dropout, giá trị đầu ra \\( A \\) được chia cho `keep_prob` để giữ nguyên kỳ vọng đầu ra. Điều này giúp mạng học cách dựa vào nhiều neuron hơn, tăng cường khả năng tổng quát hoá khi gặp dữ liệu mới."
      ],
      "metadata": {
        "id": "kvfJS6qopWJS"
      }
    },
    {
      "cell_type": "markdown",
      "source": [
        "## Dropout trong lan truyền xuôi\n",
        "\n",
        "Dropout giúp làm tắt ngẫu nhiên một số neuron trong lớp hiện tại, giúp mạng tránh *overfitting*. Khi áp dụng dropout, ta thực hiện các bước sau:\n",
        "\n",
        "1. **Tạo Dropout Mask**:\n",
        "   - Dropout mask $D$ là một ma trận nhị phân (0 hoặc 1), có cùng kích thước với đầu ra của lớp, trong đó mỗi phần tử của $D$ sẽ là 1 với xác suất bằng `keep_prob` và 0 với xác suất $1 - \\text{keep_prob}$.\n",
        "   - Ta tạo $D$ bằng cách:\n",
        "    \\begin{equation*}\n",
        "      D_{i,j} =\n",
        "      \\begin{cases}\n",
        "      1, & \\text{nếu } r_{i,j} < \\text{keep_prob} \\\\\n",
        "      0, & \\text{nếu } r_{i,j} \\geq \\text{keep_prob}\n",
        "      \\end{cases}\n",
        "    \\end{equation*}\n",
        "\n",
        "Trong đó:\n",
        "- $D_{i,j}$ là phần tử tại hàng $i$, cột $j$ của dropout mask $D$.\n",
        "- $r_{i,j}$ là một số ngẫu nhiên được lấy từ phân phối đều trên khoảng [0, 1].\n",
        "- `keep_prob` là xác suất giữ lại một neuron (nghĩa là, xác suất mà $D_{i,j} = 1$).\n",
        "\n",
        "Nói cách khác, mỗi phần tử của $D$ là 1 với xác suất `keep_prob` và 0 với xác suất $1 - \\text{keep_prob}$.\n",
        "   - Trong đó $\\mathbb{1}$ là hàm chỉ báo, giúp gán giá trị 1 cho những phần tử có xác suất nhỏ hơn `keep_prob`.\n",
        "\n",
        "2. **Áp dụng Dropout Mask**:\n",
        "   - Sau khi tạo $D$, ta nhân $D$ với đầu ra $A$ của lớp:\n",
        "     \\begin{equation*}\n",
        "     A = A \\odot D\n",
        "     \\end{equation*}\n",
        "   - Ở đây, $\\odot$ là phép nhân từng phần tử, giúp làm tắt (đặt giá trị bằng 0) những neuron có mask $D$ bằng 0.\n",
        "\n",
        "3. **Chuẩn hóa Đầu Ra**:\n",
        "   - Sau khi áp dụng dropout mask, để đảm bảo kỳ vọng của $A$ không thay đổi, ta chia $A$ cho `keep_prob`:\n",
        "     \\begin{equation*}\n",
        "     A = \\frac{A}{\\text{keep_prob}}\n",
        "     \\end{equation*}\n",
        "   - Điều này giúp giữ cho giá trị trung bình của đầu ra không bị giảm sút do dropout.\n",
        "\n",
        "#### Tóm tắt công thức\n",
        "\n",
        "Với dropout, công thức tính đầu ra $A$ sau khi áp dụng hàm kích hoạt và dropout sẽ là:\n",
        "\n",
        "\\begin{equation*}\n",
        "A = \\frac{(A \\odot D)}{\\text{keep_prob}}\n",
        "\\end{equation*}\n",
        "\n",
        "Trong đó:\n",
        "- $A$ là đầu ra của lớp sau khi qua hàm kích hoạt.\n",
        "- $D$ là dropout mask với xác suất giữ lại mỗi phần tử là `keep_prob`.\n",
        "- `keep_prob` là xác suất giữ lại một neuron, thường có giá trị trong khoảng (0, 1].\n",
        "\n",
        "Gợi ý:\n",
        "\n",
        "1. Tạo một **dropout mask** `D` với cùng kích thước như `A`, sử dụng [np.random.rand](https://numpy.org/doc/2.0/reference/random/generated/numpy.random.rand.html). Mỗi phần tử của `D` nên có xác suất bằng `keep_prob` để là 1, và xác suất $1 - \\text{keep_prob}$ để là 0.\n",
        "\n",
        "2. **Nhân** đầu ra `A` với mask `D` để làm tắt các neuron theo ý muốn.\n",
        "\n",
        "3. **Chia** `A` cho `keep_prob` để điều chỉnh lại giá trị kỳ vọng của đầu ra, giúp mạng hoạt động ổn định ngay cả khi sử dụng dropout."
      ],
      "metadata": {
        "id": "T-4OLEp8IfqR"
      }
    },
    {
      "cell_type": "code",
      "source": [
        "def forward_propagation(A_prev, parameters, activation, keep_prob=1.0):\n",
        "    \"\"\"\n",
        "    Thực hiện lan truyền xuôi qua một lớp của mạng neural với dropout.\n",
        "\n",
        "    Tham số:\n",
        "    A_prev -- Đầu vào của lớp hiện tại, có thể là mảng NumPy với kích thước (số lượng đặc trưng, số lượng ví dụ).\n",
        "    parameters -- Dictionary chứa các tham số của lớp hiện tại:\n",
        "        - \"W\" -- Ma trận trọng số\n",
        "        - \"b\" -- Vector bias\n",
        "    activation -- Loại hàm kích hoạt, có thể là \"relu\" hoặc \"linear\"\n",
        "    keep_prob -- Xác suất giữ lại một neuron (1 - tỉ lệ dropout)\n",
        "\n",
        "    Trả về:\n",
        "    A -- Giá trị kích hoạt đầu ra của lớp hiện tại\n",
        "    cache -- Dictionary chứa các giá trị cần thiết cho lan truyền ngược\n",
        "    \"\"\"\n",
        "    W = parameters[\"W\"]\n",
        "    b = parameters[\"b\"]\n",
        "    Z = np.dot(W, A_prev) + b\n",
        "\n",
        "    if activation == \"relu\":\n",
        "        A = relu(Z)\n",
        "    elif activation == \"linear\":\n",
        "        A = Z\n",
        "    else:\n",
        "        raise ValueError(\"Hàm kích hoạt không được hỗ trợ\")\n",
        "\n",
        "    # Áp dụng dropout chỉ khi huấn luyện và keep_prob < 1\n",
        "    D = np.ones(A.shape)\n",
        "    if keep_prob < 1.0:\n",
        "        ### BEGIN SOLUTION\n",
        "        D = np.random.rand(*A.shape) < keep_prob\n",
        "        A = np.multiply(A, D)\n",
        "        A = A / keep_prob  # Scale để giữ kỳ vọng của đầu ra không đổi\n",
        "        ### END SOLUTION\n",
        "\n",
        "    # Thêm dropout mask vào cache\n",
        "    cache = {\n",
        "        \"Z\": Z,\n",
        "        \"A\": A,\n",
        "        \"W\": W,\n",
        "        \"A_prev\": A_prev,\n",
        "        \"D\": D,\n",
        "        \"keep_prob\": keep_prob\n",
        "    }\n",
        "    return A, cache"
      ],
      "metadata": {
        "id": "x3mFsTyqT-vv"
      },
      "execution_count": 27,
      "outputs": []
    },
    {
      "cell_type": "code",
      "source": [
        "# Tests 10 points.\n",
        "\n",
        "def test_dropout_functionality():\n",
        "    input_dim, units = 5, 3\n",
        "    A_prev = np.random.randn(input_dim, 4)\n",
        "    params = initialize_parameters(input_dim, units)\n",
        "    keep_prob = 0.8\n",
        "    A, cache = forward_propagation(A_prev, params, activation=\"relu\", keep_prob=keep_prob)\n",
        "    D = cache[\"D\"]\n",
        "    assert np.all((D == 0) | (D == 1)), \"Dropout mask contains values other than 0 or 1.\"\n",
        "    dropout_rate = 1 - np.mean(D)\n",
        "    assert abs(dropout_rate - (1 - keep_prob)) < 0.2, f\"Dropout rate is incorrect. Expected {1 - keep_prob}, but got {dropout_rate}\"\n",
        "    print(\"test_dropout_functionality passed!\")\n",
        "\n",
        "test_dropout_functionality()\n",
        "\n",
        "### BEGIN HIDDEN TESTS\n",
        "def test_keep_prob_1():\n",
        "    input_dim, units = 5, 3\n",
        "    A_prev = np.random.randn(input_dim, 4)\n",
        "    params = initialize_parameters(input_dim, units)\n",
        "    A, cache = forward_propagation(A_prev, params, activation=\"relu\", keep_prob=1.0)\n",
        "    assert np.array_equal(cache[\"D\"], np.ones(A.shape)), \"When keep_prob=1, dropout mask should be all ones.\"\n",
        "    print(\"test_keep_prob_1 passed!\")\n",
        "\n",
        "test_keep_prob_1()\n",
        "### END HIDDEN TESTS"
      ],
      "metadata": {
        "colab": {
          "base_uri": "https://localhost:8080/"
        },
        "id": "kI0yvwe0KpAx",
        "outputId": "f4dd5223-c449-4ca6-9890-ffb7a6a33279"
      },
      "execution_count": 29,
      "outputs": [
        {
          "output_type": "stream",
          "name": "stdout",
          "text": [
            "test_dropout_functionality passed!\n",
            "test_keep_prob_1 passed!\n"
          ]
        }
      ]
    },
    {
      "cell_type": "markdown",
      "source": [
        "# Cập nhật tham số Nâng Cao\n",
        "Trong cell này, chúng ta cập nhật các tham số của mô hình bằng phương pháp gradient descent và áp dụng gradient clipping và Adam để điều chỉnh các giá trị gradient tốt nhất."
      ],
      "metadata": {
        "id": "1ecOnrYqJOFS"
      }
    },
    {
      "cell_type": "markdown",
      "source": [
        "## Gradient Clipping\n",
        "Gradient clipping là một kỹ thuật nhằm kiểm soát độ lớn của các gradient để tránh vấn đề gradient exploding (gradients quá lớn) hoặc gradient vanishing (gradients quá nhỏ). Đây là bước quan trọng để cải thiện hiệu quả và ổn định của việc huấn luyện mạng neural.\n",
        "\n",
        "### Các Bước Của Gradient Clipping\n",
        "- **Tính Toán Độ Lớn Gradient**:\n",
        "  - Tính độ lớn (norm) của gradient trọng số ($dW$) và gradient bias ($db$) bằng cách sử dụng hàm `np.linalg.norm`, tính toán chuẩn Euclidean (L2 norm) của các gradient.\n",
        "\n",
        "    $ \\|dW\\| = \\sqrt{\\sum_{i} dW_i^2} $\n",
        "\n",
        "    $ \\|db\\| = \\sqrt{\\sum_{i} db_i^2} $\n",
        "\n",
        "- **So Sánh Với Clip Norm**:\n",
        "  - `clip_norm` là giá trị ngưỡng mà ta muốn giới hạn gradient. Nếu độ lớn của gradient vượt quá `clip_norm`, gradient sẽ được điều chỉnh.\n",
        "  - Nếu độ lớn của gradient trọng số (`dW_norm`) lớn hơn `clip_norm`, gradient trọng số (`dW`) sẽ được điều chỉnh sao cho độ lớn của nó bằng `clip_norm`.\n",
        "    \\begin{equation*}\n",
        "    dW := dW \\times \\frac{clip\\_norm}{\\|dW\\|} \\quad \\text{if} \\quad \\|dW\\| > clip\\_norm\n",
        "    \\end{equation*}\n",
        "\n",
        "  - Tương tự, nếu độ lớn của gradient bias (`db_norm`) lớn hơn `clip_norm`, gradient bias (`db`) cũng sẽ được điều chỉnh.\n",
        "    \\begin{equation*}\n",
        "    db := db \\times \\frac{clip\\_norm}{\\|db\\|} \\quad \\text{if} \\quad \\|db\\| > clip\\_norm\n",
        "    \\end{equation*}\n",
        "\n",
        "- **Cập Nhật Tham Số**:\n",
        "  - Cập nhật các trọng số (`W`) và bias (`b`) bằng cách trừ đi gradient đã điều chỉnh, nhân với tốc độ học (`learning_rate`).\n",
        "\n",
        "    $W := W - \\alpha * dW$\n",
        "\n",
        "    $b := b - \\alpha * db$\n",
        "\n",
        "- **Trả Về Các Tham Số Cập Nhật**:\n",
        "  - Sau khi cập nhật, tham số `parameters` được gán lại với giá trị trọng số và bias đã được cập nhật."
      ],
      "metadata": {
        "id": "069B6mgSJXsS"
      }
    },
    {
      "cell_type": "code",
      "source": [
        "def update_parameters_with_clipping(parameters, grads, clip_value=1.0):\n",
        "    \"\"\"\n",
        "    Cập nhật các tham số của mô hình sử dụng kỹ thuật gradient clipping.\n",
        "\n",
        "    Tham số:\n",
        "    parameters -- dictionary chứa các trọng số và bias của mô hình\n",
        "    grads -- dictionary chứa gradient của các trọng số và bias\n",
        "    clip_value -- giá trị để giới hạn gradient (default: 1.0)\n",
        "\n",
        "    Trả về:\n",
        "    parameters -- các tham số sau khi đã được cập nhật\n",
        "    \"\"\"\n",
        "    for layer in parameters:\n",
        "        for param in ['W', 'b']:\n",
        "            # Clip gradients\n",
        "            grads[layer]['d' + param] = np.clip(grads[layer]['d' + param], -clip_value, clip_value)\n",
        "\n",
        "            # Update parameters\n",
        "            parameters[layer][param] -= grads[layer]['d' + param]\n",
        "\n",
        "    return parameters"
      ],
      "metadata": {
        "id": "X5A9SXQLJl-L"
      },
      "execution_count": null,
      "outputs": []
    },
    {
      "cell_type": "markdown",
      "source": [
        "## Adam Optimizer\n",
        "Adam (viết tắt của Adaptive Moment Estimation) là một thuật toán tối ưu hóa sử dụng cả hai kỹ thuật Momentum và RMSProp. Adam giữ lại các trung bình trọng số của cả gradient (momentum) và bình phương của gradient (RMSProp), đồng thời sử dụng các hiệu chỉnh độ chệch (bias correction) để tăng độ chính xác của các ước lượng ở giai đoạn đầu của quá trình huấn luyện. Adam rất hiệu quả trong việc tối ưu hóa mạng neural phức tạp và thường được sử dụng trong các mô hình học sâu hiện đại.\n",
        "\n",
        "### Các Bước Của Adam Optimizer\n",
        "\n",
        "- **Cập Nhật Biến Động Đầu Tiên (First Moment Estimate - Momentum)**:\n",
        "  - Với mỗi trọng số ($W$) và bias ($b$), Adam tính toán trung bình có trọng số (moving average) của gradient dựa trên hệ số suy giảm $\\beta_1$.\n",
        "  - Công thức cập nhật biến động đầu tiên cho gradient trọng số ($dW$):\n",
        "    \\begin{equation*}\n",
        "    v_dW := \\beta_1 v_dW + (1 - \\beta_1) dW\n",
        "    \\end{equation*}\n",
        "  - Tương tự với gradient bias ($db$):\n",
        "    \\begin{equation*}\n",
        "    v_db := \\beta_1 v_db + (1 - \\beta_1) db\n",
        "    \\end{equation*}\n",
        "  - Ở đây, $\\beta_1$ là hệ số điều chỉnh, thường có giá trị gần 1 (thường là 0.9), để đảm bảo rằng các biến động của gradient được theo dõi ổn định.\n",
        "\n",
        "- **Cập Nhật Biến Động Thứ Hai (Second Moment Estimate - RMSProp)**:\n",
        "  - Adam cũng tính toán trung bình có trọng số của bình phương gradient (RMSProp) với hệ số suy giảm $\\beta_2$.\n",
        "  - Công thức cập nhật biến động thứ hai cho gradient trọng số:\n",
        "    \\begin{equation*}\n",
        "    s_dW := \\beta_2 s_dW + (1 - \\beta_2) (dW^2)\n",
        "    \\end{equation*}\n",
        "  - Tương tự với gradient bias:\n",
        "    \\begin{equation*}\n",
        "    s_db := \\beta_2 s_db + (1 - \\beta_2) (db^2)\n",
        "    \\end{equation*}\n",
        "  - Hệ số $\\beta_2$ cũng thường gần bằng 1 (thường là 0.999) để giảm thiểu sự thay đổi lớn của các gradient.\n",
        "\n",
        "- **Hiệu Chỉnh Độ Chệch (Bias Correction)**:\n",
        "  - Do Adam dựa trên các trung bình có trọng số của gradient, ở giai đoạn đầu các giá trị này có thể bị lệch. Do đó, Adam áp dụng hiệu chỉnh độ chệch cho cả biến động đầu tiên và thứ hai.\n",
        "  - Hiệu chỉnh cho biến động đầu tiên ($v_{dW}$) của gradient trọng số:\n",
        "    \\begin{equation*}\n",
        "    v_{dW}^{\\text{corrected}} := \\frac{v_{dW}}{1 - \\beta_1^t}\n",
        "    \\end{equation*}\n",
        "  - Hiệu chỉnh cho biến động thứ hai ($s_{dW}$) của gradient trọng số:\n",
        "    \\begin{equation*}\n",
        "    s_{dW}^{\\text{corrected}} := \\frac{s_{dW}}{1 - \\beta_2^t}\n",
        "    \\end{equation*}\n",
        "  - Tương tự với $v_{db}$ và $s_{db}$ cho gradient bias.\n",
        "\n",
        "- **Cập Nhật Tham Số**:\n",
        "  - Sau khi có giá trị hiệu chỉnh, Adam cập nhật trọng số và bias bằng cách chia biến động đầu tiên cho căn bậc hai của biến động thứ hai cộng với một giá trị epsilon rất nhỏ để tránh chia cho 0.\n",
        "  - Cập nhật tham số trọng số ($W$):\n",
        "    \\begin{equation*}\n",
        "    W := W - \\alpha \\frac{v_{dW}^{\\text{corrected}}}{\\sqrt{s_{dW}^{\\text{corrected}}} + \\epsilon}\n",
        "    \\end{equation*}\n",
        "  - Tương tự với bias ($b$):\n",
        "    \\begin{equation*}\n",
        "    b := b - \\alpha \\frac{v_{db}^{\\text{corrected}}}{\\sqrt{s_{db}^{\\text{corrected}}} + \\epsilon}\n",
        "    \\end{equation*}\n",
        "  - Ở đây, $\\alpha$ là tốc độ học (learning rate) và $\\epsilon$ là một giá trị rất nhỏ (thường là $10^{-8}$) để đảm bảo độ ổn định số học.\n",
        "\n",
        "- **Trả Về Các Tham Số Cập Nhật**:\n",
        "  - Sau khi cập nhật, tham số `parameters` được gán lại với giá trị trọng số và bias đã được cập nhật."
      ],
      "metadata": {
        "id": "tSfq5gxwL0o2"
      }
    },
    {
      "cell_type": "code",
      "source": [
        "def initialize_adam(parameters):\n",
        "    \"\"\"\n",
        "    Khởi tạo các tham số cho Adam optimizer.\n",
        "\n",
        "    Tham số:\n",
        "    parameters -- dictionary chứa các trọng số và bias của mô hình\n",
        "\n",
        "    Trả về:\n",
        "    v -- dictionary lưu trữ trung bình trọng số của gradient theo thời gian\n",
        "    s -- dictionary lưu trữ trung bình trọng số bình phương của gradient theo thời gian\n",
        "    \"\"\"\n",
        "    v = {}\n",
        "    s = {}\n",
        "    for layer in parameters:\n",
        "        v[layer] = {\n",
        "            \"dW\": np.zeros_like(parameters[layer]['W']),  # Khởi tạo giá trị ban đầu cho dW\n",
        "            \"db\": np.zeros_like(parameters[layer]['b'])   # Khởi tạo giá trị ban đầu cho db\n",
        "        }\n",
        "        s[layer] = {\n",
        "            \"dW\": np.zeros_like(parameters[layer]['W']),  # Khởi tạo giá trị ban đầu cho dW (momentum)\n",
        "            \"db\": np.zeros_like(parameters[layer]['b'])   # Khởi tạo giá trị ban đầu cho db (momentum)\n",
        "        }\n",
        "    return v, s"
      ],
      "metadata": {
        "id": "5c_sK3xIKJeu"
      },
      "execution_count": 34,
      "outputs": []
    },
    {
      "cell_type": "code",
      "source": [
        "def update_parameters_adam(parameters, grads, v, s, t, learning_rate=0.01, beta1=0.9, beta2=0.999, epsilon=1e-8):\n",
        "    \"\"\"\n",
        "    Cập nhật các tham số sử dụng thuật toán Adam.\n",
        "\n",
        "    Tham số:\n",
        "    parameters -- dictionary chứa các trọng số và bias\n",
        "    grads -- dictionary chứa gradient của trọng số và bias\n",
        "    v -- dictionary lưu trữ trung bình trọng số của gradient\n",
        "    s -- dictionary lưu trữ trung bình trọng số bình phương của gradient\n",
        "    t -- số bước lặp hiện tại\n",
        "    learning_rate -- tốc độ học (default: 0.01)\n",
        "    beta1 -- hệ số suy giảm cho v (default: 0.9)\n",
        "    beta2 -- hệ số suy giảm cho s (default: 0.999)\n",
        "    epsilon -- giá trị nhỏ để tránh chia cho 0 (default: 1e-8)\n",
        "\n",
        "    Trả về:\n",
        "    parameters -- các tham số sau khi được cập nhật\n",
        "    v -- giá trị cập nhật của v\n",
        "    s -- giá trị cập nhật của s\n",
        "    \"\"\"\n",
        "    for layer in parameters:\n",
        "        for param in ['W', 'b']:\n",
        "            # Update biased first moment estimate\n",
        "            v[layer]['d' + param] = beta1 * v[layer]['d' + param] + (1 - beta1) * grads[layer]['d' + param]\n",
        "\n",
        "            # Update biased second raw moment estimate\n",
        "            s[layer]['d' + param] = beta2 * s[layer]['d' + param] + (1 - beta2) * np.square(grads[layer]['d' + param])\n",
        "\n",
        "            # Compute bias-corrected first moment estimate\n",
        "            v_corrected = v[layer]['d' + param] / (1 - beta1**t)\n",
        "\n",
        "            # Compute bias-corrected second raw moment estimate\n",
        "            s_corrected = s[layer]['d' + param] / (1 - beta2**t)\n",
        "\n",
        "            # Update parameters\n",
        "            parameters[layer][param] -= learning_rate * v_corrected / (np.sqrt(s_corrected) + epsilon)\n",
        "\n",
        "    return parameters, v, s"
      ],
      "metadata": {
        "id": "3JtI2F8jJ72L"
      },
      "execution_count": 35,
      "outputs": []
    },
    {
      "cell_type": "markdown",
      "source": [
        "## BÀI TẬP: Kết hợp Adam optimizer và Gradient Clipping\n",
        "\n",
        "Hàm `update_parameters_adam_clipping` cập nhật các tham số của mô hình sử dụng thuật toán Adam kết hợp với gradient clipping để kiểm soát độ lớn gradient. Cụ thể, nó:\n",
        "\n",
        "1. **Gradient Clipping**: Giới hạn giá trị gradient trong khoảng [-clip_value, clip_value] để tránh gradient quá lớn.\n",
        "2. **Cập Nhật Adam**: Tính toán biến động thứ nhất (momentum) và biến động thứ hai (RMSProp), sau đó áp dụng hiệu chỉnh độ chệch cho cả hai.\n",
        "3. **Cập Nhật Tham Số**: Tham số được cập nhật dựa trên các biến động đã hiệu chỉnh, theo công thức Adam.\n",
        "\n",
        "Hàm trả về các tham số, cùng với biến động đã được cập nhật.\n",
        "\n",
        "Gợi ý: dựa trên code từ Gradient Clipping và Adam Optimizer."
      ],
      "metadata": {
        "id": "6WBROZd3J-dr"
      }
    },
    {
      "cell_type": "code",
      "source": [
        "def update_parameters_adam_clipping(parameters, grads, v, s, t, learning_rate=0.01, beta1=0.9, beta2=0.999, epsilon=1e-8, clip_value=1.0):\n",
        "    \"\"\"\n",
        "    Cập nhật các tham số của mô hình sử dụng thuật toán Adam kết hợp với gradient clipping.\n",
        "\n",
        "    Tham số:\n",
        "    parameters -- dictionary chứa các trọng số và bias của mô hình\n",
        "    grads -- dictionary chứa gradient của các trọng số và bias\n",
        "    v -- dictionary lưu trữ trung bình trọng số của gradient (biến động thứ nhất)\n",
        "    s -- dictionary lưu trữ trung bình trọng số bình phương của gradient (biến động thứ hai)\n",
        "    t -- số bước lặp hiện tại\n",
        "    learning_rate -- tốc độ học (default: 0.01)\n",
        "    beta1 -- hệ số suy giảm cho v (default: 0.9)\n",
        "    beta2 -- hệ số suy giảm cho s (default: 0.999)\n",
        "    epsilon -- giá trị nhỏ để tránh chia cho 0 (default: 1e-8)\n",
        "    clip_value -- giá trị để giới hạn gradient (default: 1.0)\n",
        "\n",
        "    Trả về:\n",
        "    parameters -- các tham số sau khi được cập nhật\n",
        "    v -- giá trị cập nhật của v\n",
        "    s -- giá trị cập nhật của s\n",
        "    \"\"\"\n",
        "    for layer in parameters:\n",
        "        for param in ['W', 'b']:\n",
        "            ### BEGIN SOLUTION\n",
        "            # Clip gradients\n",
        "            grads[layer]['d' + param] = np.clip(grads[layer]['d' + param], -clip_value, clip_value)\n",
        "\n",
        "            # Update biased first moment estimate\n",
        "            v[layer]['d' + param] = beta1 * v[layer]['d' + param] + (1 - beta1) * grads[layer]['d' + param]\n",
        "\n",
        "            # Update biased second raw moment estimate\n",
        "            s[layer]['d' + param] = beta2 * s[layer]['d' + param] + (1 - beta2) * np.square(grads[layer]['d' + param])\n",
        "\n",
        "            # Compute bias-corrected first moment estimate\n",
        "            v_corrected = v[layer]['d' + param] / (1 - beta1**t)\n",
        "\n",
        "            # Compute bias-corrected second raw moment estimate\n",
        "            s_corrected = s[layer]['d' + param] / (1 - beta2**t)\n",
        "\n",
        "            # Update parameters\n",
        "            parameters[layer][param] -= learning_rate * v_corrected / (np.sqrt(s_corrected) + epsilon)\n",
        "            ### END SOLUTION\n",
        "\n",
        "    return parameters, v, s"
      ],
      "metadata": {
        "id": "qjTCsBq0KD19"
      },
      "execution_count": 31,
      "outputs": []
    },
    {
      "cell_type": "code",
      "source": [
        "def test_initialize_adam():\n",
        "    # Test case 1: Simple one-layer network\n",
        "    parameters = {\n",
        "        'layer1': {\n",
        "            'W': np.random.randn(3, 2),\n",
        "            'b': np.random.randn(3, 1)\n",
        "        }\n",
        "    }\n",
        "    v, s = initialize_adam(parameters)\n",
        "\n",
        "    # Check structure\n",
        "    assert set(v.keys()) == set(parameters.keys())\n",
        "    assert set(s.keys()) == set(parameters.keys())\n",
        "\n",
        "    # Check shapes\n",
        "    assert v['layer1']['dW'].shape == parameters['layer1']['W'].shape\n",
        "    assert v['layer1']['db'].shape == parameters['layer1']['b'].shape\n",
        "    assert s['layer1']['dW'].shape == parameters['layer1']['W'].shape\n",
        "    assert s['layer1']['db'].shape == parameters['layer1']['b'].shape\n",
        "\n",
        "    # Check initialization to zeros\n",
        "    assert np.all(v['layer1']['dW'] == 0)\n",
        "    assert np.all(v['layer1']['db'] == 0)\n",
        "    assert np.all(s['layer1']['dW'] == 0)\n",
        "    assert np.all(s['layer1']['db'] == 0)\n",
        "\n",
        "test_initialize_adam()\n",
        "\n",
        "### BEGIN HIDDEN TESTS\n",
        "\n",
        "def test_update_parameters_adam_clipping():\n",
        "    # Initialize test parameters with larger values\n",
        "    parameters = {\n",
        "        'layer1': {\n",
        "            'W': np.array([[1., 2.], [3., 4.], [5., 6.]]),\n",
        "            'b': np.array([[1.], [2.], [3.]])\n",
        "        }\n",
        "    }\n",
        "\n",
        "    # Initialize gradients with larger values\n",
        "    grads = {\n",
        "        'layer1': {\n",
        "            'dW': np.array([[2.0, -2.0], [3.0, -3.0], [1.0, -1.0]]),\n",
        "            'db': np.array([[1.5], [-1.5], [0.5]])\n",
        "        }\n",
        "    }\n",
        "\n",
        "    # Initialize v and s\n",
        "    v, s = initialize_adam(parameters)\n",
        "\n",
        "    # Test case 1: Basic update with clipping\n",
        "    t = 1\n",
        "    clip_value = 2.0\n",
        "    learning_rate = 0.1  # Increased learning rate\n",
        "\n",
        "    # Store initial parameter values\n",
        "    initial_W = parameters['layer1']['W'].copy()\n",
        "    initial_b = parameters['layer1']['b'].copy()\n",
        "\n",
        "    # Perform update\n",
        "    params_updated, v_updated, s_updated = update_parameters_adam_clipping(\n",
        "        parameters.copy(), grads, v, s, t,\n",
        "        learning_rate=learning_rate, beta1=0.9, beta2=0.999,\n",
        "        epsilon=1e-8, clip_value=clip_value\n",
        "    )\n",
        "\n",
        "    # Check gradient clipping\n",
        "    assert np.all(np.abs(grads['layer1']['dW']) <= clip_value)\n",
        "    assert np.all(np.abs(grads['layer1']['db']) <= clip_value)\n",
        "\n",
        "    # Check that parameters were updated (with tolerance)\n",
        "    assert not np.allclose(params_updated['layer1']['W'], initial_W, rtol=1e-10)\n",
        "    assert not np.allclose(params_updated['layer1']['b'], initial_b, rtol=1e-10)\n",
        "\n",
        "    # Check that v and s were updated\n",
        "    assert not np.all(v_updated['layer1']['dW'] == 0)\n",
        "    assert not np.all(v_updated['layer1']['db'] == 0)\n",
        "    assert not np.all(s_updated['layer1']['dW'] == 0)\n",
        "    assert not np.all(s_updated['layer1']['db'] == 0)\n",
        "\n",
        "def test_edge_cases():\n",
        "    # Test case 1: Zero gradients\n",
        "    parameters = {\n",
        "        'layer1': {\n",
        "            'W': np.ones((2, 2)),\n",
        "            'b': np.ones((2, 1))\n",
        "        }\n",
        "    }\n",
        "    grads = {\n",
        "        'layer1': {\n",
        "            'dW': np.zeros((2, 2)),\n",
        "            'db': np.zeros((2, 1))\n",
        "        }\n",
        "    }\n",
        "    v, s = initialize_adam(parameters)\n",
        "    t = 1\n",
        "\n",
        "    initial_params = {k: {p: v.copy() for p, v in layer.items()}\n",
        "                     for k, layer in parameters.items()}\n",
        "\n",
        "    # Should handle zero gradients without division by zero\n",
        "    params_updated, _, _ = update_parameters_adam_clipping(\n",
        "        parameters.copy(), grads, v, s, t,\n",
        "        epsilon=1e-8, clip_value=1.0\n",
        "    )\n",
        "\n",
        "    # With zero gradients, parameters should remain unchanged\n",
        "    for layer in parameters:\n",
        "        for param in ['W', 'b']:\n",
        "            assert np.array_equal(params_updated[layer][param],\n",
        "                                initial_params[layer][param])\n",
        "\n",
        "def test_numerical_stability():\n",
        "    # Test case 1: Very small gradients\n",
        "    parameters = {\n",
        "        'layer1': {\n",
        "            'W': np.ones((2, 2)),\n",
        "            'b': np.ones((2, 1))\n",
        "        }\n",
        "    }\n",
        "    grads = {\n",
        "        'layer1': {\n",
        "            'dW': np.ones((2, 2)) * 1e-10,\n",
        "            'db': np.ones((2, 1)) * 1e-10\n",
        "        }\n",
        "    }\n",
        "    v, s = initialize_adam(parameters)\n",
        "    t = 1\n",
        "\n",
        "    # Should handle very small values without numerical issues\n",
        "    params_updated, _, _ = update_parameters_adam_clipping(\n",
        "        parameters.copy(), grads, v, s, t,\n",
        "        epsilon=1e-8, clip_value=1.0\n",
        "    )\n",
        "\n",
        "    assert np.all(np.isfinite(params_updated['layer1']['W']))\n",
        "    assert np.all(np.isfinite(params_updated['layer1']['b']))\n",
        "\n",
        "test_update_parameters_adam_clipping()\n",
        "test_edge_cases()\n",
        "test_numerical_stability()\n",
        "print(\"All tests passed!\")\n",
        "\n",
        "### END HIDDEN TESTS"
      ],
      "metadata": {
        "colab": {
          "base_uri": "https://localhost:8080/"
        },
        "id": "CB3uiV7APkoi",
        "outputId": "707fabbe-bc5a-4f6f-aa6a-6f67c2c1f6e8"
      },
      "execution_count": 45,
      "outputs": [
        {
          "output_type": "stream",
          "name": "stdout",
          "text": [
            "All tests passed!\n"
          ]
        }
      ]
    },
    {
      "cell_type": "markdown",
      "source": [
        "## BÀI TẬP: Learning rate decay\n",
        "\n",
        "Hàm `learning_rate_decay` tính toán learning rate mới dựa trên learning rate ban đầu và tỉ lệ giảm (decay rate) sau mỗi epoch để làm chậm quá trình học trong quá trình huấn luyện. Kỹ thuật này giúp mô hình ổn định hơn khi tiến gần đến lời giải tối ưu, tránh bước nhảy quá lớn khi cập nhật tham số.\n",
        "\n",
        "### Các Bước:\n",
        "1. **Tham Số Đầu Vào**:\n",
        "   - `initial_learning_rate`: Learning rate ban đầu của quá trình huấn luyện.\n",
        "   - `decay_rate`: Tỉ lệ giảm của learning rate sau mỗi epoch (giá trị nhỏ hơn 1).\n",
        "   - `epoch`: Số lượng epoch hiện tại, xác định mức độ điều chỉnh.\n",
        "\n",
        "2. **Công Thức Cập Nhật**:\n",
        "   - Learning rate mới được tính bằng công thức:\n",
        "   \\begin{equation*}\n",
        "   \\text{new\\_learning\\_rate} = \\frac{\\text{initial\\_learning\\_rate}}{1 + \\text{decay\\_rate} \\times \\text{epoch}}\n",
        "   \\end{equation*}\n",
        "   - Điều này đảm bảo learning rate giảm dần theo thời gian.\n",
        "\n",
        "3. **Kết Quả**:\n",
        "   - Hàm trả về giá trị learning rate mới đã được điều chỉnh theo số epoch.\n",
        "\n",
        "Sử dụng phương pháp này giúp mô hình học chậm hơn khi số lượng epoch tăng lên, từ đó cải thiện sự hội tụ trong quá trình huấn luyện mạng neural."
      ],
      "metadata": {
        "id": "qMnJp9UPKVEl"
      }
    },
    {
      "cell_type": "code",
      "source": [
        "def learning_rate_decay(initial_learning_rate, decay_rate, epoch):\n",
        "    \"\"\"\n",
        "    Tính toán learning rate mới dựa trên decay rate và số epoch hiện tại.\n",
        "\n",
        "    Tham số:\n",
        "    initial_learning_rate -- learning rate ban đầu\n",
        "    decay_rate -- tỉ lệ giảm learning rate (0 < decay_rate < 1)\n",
        "    epoch -- số epoch hiện tại\n",
        "\n",
        "    Trả về:\n",
        "    new_learning_rate -- learning rate mới sau khi áp dụng decay\n",
        "    \"\"\"\n",
        "    return initial_learning_rate / (1 + decay_rate * epoch)"
      ],
      "metadata": {
        "id": "ETcCNCDGKUYm"
      },
      "execution_count": null,
      "outputs": []
    },
    {
      "cell_type": "markdown",
      "source": [
        "Sau đó, ta sẽ dùng các thông số đã được huấn luyện để dự đoán `y_test` dựa trên `X_test`."
      ],
      "metadata": {
        "id": "728V7FvJKeNu"
      }
    },
    {
      "cell_type": "code",
      "source": [
        "def predict(X, parameters):\n",
        "    \"\"\"\n",
        "    Thực hiện dự đoán với mạng neural (forward pass) trong phase test.\n",
        "\n",
        "    Parameters:\n",
        "    X -- input data, shape (n_x, m)\n",
        "    parameters -- parameters của mạng neural\n",
        "    keep_prob -- để là 1.0 trong phase test\n",
        "\n",
        "    Returns:\n",
        "    A -- activation của layer cuối cùng\n",
        "    \"\"\"\n",
        "    L = len(parameters)  # số layers\n",
        "    A = X.T\n",
        "\n",
        "    # Forward propagation\n",
        "    for l in range(1, L):\n",
        "        layer_name = f'layer{l}'\n",
        "        A, _ = forward_propagation(A, parameters[layer_name], 'relu')  # Không dùng dropout trong test\n",
        "\n",
        "    # Output layer\n",
        "    A, _ = forward_propagation(A, parameters[f'layer{L}'], 'linear')\n",
        "\n",
        "    return A"
      ],
      "metadata": {
        "id": "3k7c45u0-naO"
      },
      "execution_count": null,
      "outputs": []
    },
    {
      "cell_type": "markdown",
      "source": [
        "# Tổng hợp các functions trên để huấn luyện mô hình\n",
        "Như mô hình ở bài trước, chúng ta sẽ xây dựng mô hình như sau:\n",
        "* Input layer: một lớp Dense với 6 neurons tương ứng 6 thuộc tính.\n",
        "* Hidden layers: Thêm 1 lớp Dense với mỗi lớp có 10 neurons và hàm kích hoạt là 'relu'.\n",
        "* Output layer: Thêm một lớp Dense với 1 neurons (vì đây là bài toán dự đoán giá) mà không có activation function (hàm kích hoạt) (vì đây là bài toán linear regression (dự đoán giá trị liên tục)).\n",
        "\n",
        "Dưới đây là phần mô tả cập nhật của hàm `nn_model`:\n",
        "\n",
        "### Quy Trình\n",
        "\n",
        "1. **Khởi Tạo**\n",
        "\n",
        "   - **Khởi Tạo Tham Số**:\n",
        "     - `np.random.seed(2)`: Đảm bảo rằng kết quả có thể lặp lại.\n",
        "     - `n_x` và `m`: Lấy số lượng đặc trưng và số lượng mẫu từ dữ liệu đầu vào.\n",
        "     - Khởi tạo các tham số cho lớp ẩn và lớp đầu ra:\n",
        "       - `parameters['layer1']`: Kích thước $(n_x, n_h)$ cho lớp ẩn.\n",
        "       - `parameters['layer2']`: Kích thước $(n_h, 1)$ cho lớp đầu ra.\n",
        "\n",
        "   - **Khởi Tạo Các Biến Cho Adam**:\n",
        "     - `v, s`: Khởi tạo các biến lưu trữ trung bình của gradient và bình phương gradient cho Adam.\n",
        "\n",
        "2. **Vòng Lặp Qua Các Epochs**\n",
        "\n",
        "   - **Cập Nhật Learning Rate**:\n",
        "     - Sử dụng `learning_rate_decay` để giảm learning rate qua các epochs dựa trên `decay_rate`.\n",
        "\n",
        "   - **Xử Lý Batch**:\n",
        "     - **Tách Dữ Liệu Thành Batch**: Lấy dữ liệu theo kích thước batch từ dữ liệu gốc.\n",
        "     - **Lan Truyền Xuôi**:\n",
        "       - Tính toán output của lớp ẩn với ReLU và lớp đầu ra với hàm kích hoạt tuyến tính.\n",
        "     - **Tính Độ Mất Mát**: Tính toán cost cho mỗi batch và cập nhật tổng cost của epoch.\n",
        "     - **Lan Truyền Ngược**:\n",
        "       - Tính toán gradient cho các lớp bằng cách sử dụng backward propagation.\n",
        "     - **Cập Nhật Tham Số**:\n",
        "       - Sử dụng `update_parameters_adam_clipping` để cập nhật các tham số với Adam optimizer, có áp dụng gradient clipping.\n",
        "\n",
        "3. **In Kết Quả**:\n",
        "   - Nếu `print_cost` là `True`, in độ mất mát (cost) và learning rate sau mỗi epoch để theo dõi quá trình huấn luyện.\n",
        "\n",
        "### Tổng Quan\n",
        "Hàm `nn_model` triển khai một mô hình mạng neural hai lớp, sử dụng Adam optimizer kết hợp với gradient clipping và decay learning rate. Quá trình huấn luyện được thực hiện qua các epoch với kích thước batch, đồng thời theo dõi sự thay đổi của độ mất mát để điều chỉnh quá trình học."
      ],
      "metadata": {
        "id": "_BnQ4U8aKJAd"
      }
    },
    {
      "cell_type": "code",
      "source": [
        "import matplotlib.pyplot as plt"
      ],
      "metadata": {
        "id": "wj2xPlAjadao"
      },
      "execution_count": null,
      "outputs": []
    },
    {
      "cell_type": "code",
      "source": [
        "def nn_model(X, Y, X_test, Y_test, layers_dims, num_epochs=20, batch_size=32, initial_learning_rate=0.0001,\n",
        "             beta1=0.9, beta2=0.999, epsilon=1e-8,\n",
        "             clip_value=1.0, decay_rate=0.01, keep_prob=0.1, print_cost=True):\n",
        "    \"\"\"\n",
        "    Implement a multi-layer neural network with Adam optimizer, learning rate decay, and dropout.\n",
        "    Tracks both training and validation loss.\n",
        "\n",
        "    Parameters:\n",
        "    X, Y -- training data and labels\n",
        "    X_test, Y_test -- validation data and labels\n",
        "    layers_dims -- array chứa số lượng units cho mỗi layer, ví dụ [n_x, 20, 10, 1]\n",
        "    \"\"\"\n",
        "    np.random.seed(2)\n",
        "    n_x = X.shape[1]\n",
        "    m = X.shape[0]\n",
        "    Y = Y.reshape(1, m)\n",
        "    Y_test = Y_test.reshape(1, X_test.shape[0])\n",
        "    L = len(layers_dims) - 1  # số lượng layers\n",
        "\n",
        "    # Để track history của losses\n",
        "    train_costs = []\n",
        "    val_costs = []\n",
        "\n",
        "    # Khởi tạo parameters cho tất cả các layers\n",
        "    parameters = {}\n",
        "    for l in range(1, L + 1):\n",
        "        layer_name = f'layer{l}'\n",
        "        parameters[layer_name] = initialize_parameters(layers_dims[l-1], layers_dims[l])\n",
        "\n",
        "    # Khởi tạo Adam optimizer parameters\n",
        "    v, s = initialize_adam(parameters)\n",
        "    t = 0  # Initialize time step for Adam\n",
        "\n",
        "    for epoch in range(num_epochs):\n",
        "        epoch_cost = 0\n",
        "        num_batches = int(m / batch_size)\n",
        "\n",
        "        # Calculate the current learning rate\n",
        "        current_learning_rate = learning_rate_decay(initial_learning_rate, decay_rate, epoch)\n",
        "\n",
        "        for batch in range(num_batches):\n",
        "            t += 1  # Increment time step\n",
        "            start = batch * batch_size\n",
        "            end = min(start + batch_size, m)\n",
        "            X_batch = X[start:end, :]\n",
        "            Y_batch = Y[:, start:end]\n",
        "\n",
        "            # Forward propagation\n",
        "            caches = {}\n",
        "            A = X_batch.T\n",
        "\n",
        "            # Hidden layers với ReLU và dropout\n",
        "            for l in range(1, L):\n",
        "                layer_name = f'layer{l}'\n",
        "                A, cache = forward_propagation(A, parameters[layer_name], 'relu',\n",
        "                                            keep_prob=keep_prob)\n",
        "                caches[layer_name] = cache\n",
        "\n",
        "            # Output layer với Linear activation\n",
        "            A, cache = forward_propagation(A, parameters[f'layer{L}'], 'linear')\n",
        "            caches[f'layer{L}'] = cache\n",
        "\n",
        "            # Compute training cost\n",
        "            batch_cost = compute_cost(A, Y_batch)\n",
        "            epoch_cost += batch_cost / num_batches\n",
        "\n",
        "            # Backward propagation\n",
        "            grads = {}\n",
        "            dA = -(Y_batch - A)\n",
        "\n",
        "            # Output layer\n",
        "            dA_prev, dW, db = backward_propagation(dA, caches[f'layer{L}'], 'linear')\n",
        "            grads[f'layer{L}'] = {\"dW\": dW, \"db\": db}\n",
        "\n",
        "            # Hidden layers\n",
        "            for l in range(L-1, 0, -1):\n",
        "                layer_name = f'layer{l}'\n",
        "                dA_prev, dW, db = backward_propagation(dA_prev, caches[layer_name], 'relu')\n",
        "                grads[layer_name] = {\"dW\": dW, \"db\": db}\n",
        "\n",
        "            # Update parameters using Adam\n",
        "            parameters, v, s = update_parameters_adam_clipping(\n",
        "                parameters, grads, v, s, t,\n",
        "                current_learning_rate, beta1, beta2, epsilon, clip_value\n",
        "            )\n",
        "\n",
        "        # Compute validation cost after each epoch\n",
        "        Y_pred_test = predict(X_test, parameters)\n",
        "        val_cost = compute_cost(Y_pred_test, Y_test)\n",
        "\n",
        "        # Store costs\n",
        "        train_costs.append(epoch_cost)\n",
        "        val_costs.append(val_cost)\n",
        "\n",
        "        if print_cost and epoch % 1 == 0:\n",
        "            print(f\"Epoch {epoch+1}/{num_epochs}:\")\n",
        "            print(f\"  Training Loss: {epoch_cost:.6f}\")\n",
        "            print(f\"  Validation Loss: {val_cost:.6f}\")\n",
        "            print(f\"  Learning rate: {current_learning_rate:.6f}\")\n",
        "            print(\"----------------------------------------\")\n",
        "\n",
        "    # Vẽ đồ thị loss\n",
        "    plt.figure(figsize=(10, 6))\n",
        "    plt.plot(train_costs, label='Training Loss')\n",
        "    plt.plot(val_costs, label='Validation Loss')\n",
        "    plt.title('Model Loss Over Time')\n",
        "    plt.xlabel('Epoch')\n",
        "    plt.ylabel('Loss')\n",
        "    plt.legend()\n",
        "    plt.grid(True)\n",
        "    plt.show()\n",
        "\n",
        "    history = {\n",
        "        'train_loss': train_costs,\n",
        "        'val_loss': val_costs\n",
        "    }\n",
        "\n",
        "    return parameters, history"
      ],
      "metadata": {
        "id": "3ftpxrxFBMoS"
      },
      "execution_count": null,
      "outputs": []
    },
    {
      "cell_type": "code",
      "source": [
        "# Ví dụ sử dụng:\n",
        "layers_dims = [X_train.shape[1], 128, 16, 1]  # 3 hidden layers\n",
        "parameters, history = nn_model(X_train, y_train, X_test, y_test,\n",
        "                             layers_dims=layers_dims,\n",
        "                             num_epochs=10,\n",
        "                             batch_size=32,\n",
        "                             keep_prob=1.0)"
      ],
      "metadata": {
        "colab": {
          "base_uri": "https://localhost:8080/",
          "height": 1000
        },
        "id": "JKvPgYsY4O5a",
        "outputId": "cfa5af4b-3928-45fc-add9-572d11742ec7"
      },
      "execution_count": null,
      "outputs": [
        {
          "output_type": "stream",
          "name": "stdout",
          "text": [
            "Epoch 1/10:\n",
            "  Training Loss: 6249.846174\n",
            "  Validation Loss: 3536.339299\n",
            "  Learning rate: 0.000100\n",
            "----------------------------------------\n",
            "Epoch 2/10:\n",
            "  Training Loss: 3276.262104\n",
            "  Validation Loss: 954.591778\n",
            "  Learning rate: 0.000099\n",
            "----------------------------------------\n",
            "Epoch 3/10:\n",
            "  Training Loss: 1459.109682\n",
            "  Validation Loss: 406.901808\n",
            "  Learning rate: 0.000098\n",
            "----------------------------------------\n",
            "Epoch 4/10:\n",
            "  Training Loss: 466.601747\n",
            "  Validation Loss: 181.592226\n",
            "  Learning rate: 0.000097\n",
            "----------------------------------------\n",
            "Epoch 5/10:\n",
            "  Training Loss: 392.711953\n",
            "  Validation Loss: 119.784197\n",
            "  Learning rate: 0.000096\n",
            "----------------------------------------\n",
            "Epoch 6/10:\n",
            "  Training Loss: 577.513268\n",
            "  Validation Loss: 108.164866\n",
            "  Learning rate: 0.000095\n",
            "----------------------------------------\n",
            "Epoch 7/10:\n",
            "  Training Loss: 718.462482\n",
            "  Validation Loss: 103.623253\n",
            "  Learning rate: 0.000094\n",
            "----------------------------------------\n",
            "Epoch 8/10:\n",
            "  Training Loss: 735.798220\n",
            "  Validation Loss: 119.783989\n",
            "  Learning rate: 0.000093\n",
            "----------------------------------------\n",
            "Epoch 9/10:\n",
            "  Training Loss: 320.017770\n",
            "  Validation Loss: 136.069847\n",
            "  Learning rate: 0.000093\n",
            "----------------------------------------\n",
            "Epoch 10/10:\n",
            "  Training Loss: 374.011275\n",
            "  Validation Loss: 145.005380\n",
            "  Learning rate: 0.000092\n",
            "----------------------------------------\n"
          ]
        },
        {
          "output_type": "display_data",
          "data": {
            "text/plain": [
              "<Figure size 1000x600 with 1 Axes>"
            ],
            "image/png": "[encoded data removed]"
          },
          "metadata": {}
        }
      ]
    },
    {
      "cell_type": "markdown",
      "source": [
        "Dựa vào các kết quả dự đoán, chúng ta sẽ đánh giá mô hình dựa vào hàm mất mát MSE."
      ],
      "metadata": {
        "id": "gFfmOZzHKt3D"
      }
    },
    {
      "cell_type": "code",
      "source": [
        "# Dự đoán giá trị dựa trên X_test và thông số đã được huấn luyện\n",
        "predictions = predict(X_test, parameters)\n",
        "\n",
        "# Đánh giá mô hình\n",
        "mse = compute_cost(predictions, y_test.reshape(1, -1))  # Đổi kích thước y_test để đồng nhất\n",
        "print(\"Mean Squared Error trên tệp Test:\", mse)"
      ],
      "metadata": {
        "id": "iUOU9tcz4XPh",
        "colab": {
          "base_uri": "https://localhost:8080/"
        },
        "outputId": "d9c60ee4-e63b-430f-83d3-727ed60e4b00"
      },
      "execution_count": null,
      "outputs": [
        {
          "output_type": "stream",
          "name": "stdout",
          "text": [
            "Mean Squared Error trên tệp Test: 0.0005621823359612597\n"
          ]
        }
      ]
    },
    {
      "cell_type": "markdown",
      "source": [
        "Cuối cùng, để có cái nhìn trực quan hơn về kết quả, chúng ta sẽ in biểu đồ so sánh kết quả thực tế và kết quả dự đoán."
      ],
      "metadata": {
        "id": "yx1kQY5HLK-Z"
      }
    },
    {
      "cell_type": "code",
      "source": [
        "import matplotlib.pyplot as plt\n",
        "\n",
        "# Vẽ biểu đồ\n",
        "plt.scatter(y_test, predictions, color='blue', label='Predictions')\n",
        "plt.plot([min(y_test), max(y_test)], [min(y_test), max(y_test)], color='red', linestyle='--', label='Perfect prediction')\n",
        "plt.xlabel('True values')\n",
        "plt.ylabel('Predicted values')\n",
        "plt.title('True vs Predicted values')\n",
        "plt.legend()\n",
        "plt.show()"
      ],
      "metadata": {
        "colab": {
          "base_uri": "https://localhost:8080/",
          "height": 472
        },
        "id": "qQgi2HXp-Osa",
        "outputId": "19758e80-f424-4907-bf9a-6b9f10a284a3"
      },
      "execution_count": null,
      "outputs": [
        {
          "output_type": "display_data",
          "data": {
            "text/plain": [
              "<Figure size 640x480 with 1 Axes>"
            ],
            "image/png": "[encoded data removed]"
          },
          "metadata": {}
        }
      ]
    },
    {
      "cell_type": "markdown",
      "source": [
        "#Thử với data trong dataset"
      ],
      "metadata": {
        "id": "M0z2QulD-nof"
      }
    },
    {
      "cell_type": "markdown",
      "source": [
        "Đầu tiên, ta sẽ lấy 1 data trong X_test và in ra thông tin trong đó."
      ],
      "metadata": {
        "id": "6Z2dIPvZ-3ji"
      }
    },
    {
      "cell_type": "code",
      "source": [
        "x_demo = X_test[0].reshape((1, -1))\n",
        "print(x_demo)"
      ],
      "metadata": {
        "id": "hhComlf8BJ5m",
        "colab": {
          "base_uri": "https://localhost:8080/"
        },
        "outputId": "ff45ef05-db02-4708-ad66-2a29501ae20c"
      },
      "execution_count": null,
      "outputs": [
        {
          "output_type": "stream",
          "name": "stdout",
          "text": [
            "[[-0.98443252 -1.26801036  0.43489474  1.4674629  -0.1497691  -1.42432425]]\n"
          ]
        }
      ]
    },
    {
      "cell_type": "markdown",
      "source": [
        "Để chuyển đổi data về giá trị ban đầu, ta cần:\n",
        "\n",
        "*   Trung bình bằng 0 và độ lệch chuẩn bằng 1\n",
        "*   LabelEncoder từ thư viện sklearn.preprocessing để chuyển đổi các giá trị trong các cột 'Đường', 'Quận', 'Huyện', và 'Loại hình nhà ở' từ dạng số sang dạng chuỗi."
      ],
      "metadata": {
        "id": "8yRlvNfqGuAd"
      }
    },
    {
      "cell_type": "markdown",
      "source": [
        "Đầu tiên, ta cần tải các encoder đã được tạo sẵn (tuần 3) sử dụng thư viện joblib."
      ],
      "metadata": {
        "id": "XkXXE55TSz6v"
      }
    },
    {
      "cell_type": "code",
      "source": [
        "import joblib\n",
        "\n",
        "# Tải các encoders\n",
        "quan_label_encoder = joblib.load('/content/drive/MyDrive/notebook/quan_label_encoder.pkl')\n",
        "huyen_label_encoder = joblib.load('/content/drive/MyDrive/notebook/huyen_label_encoder.pkl')\n",
        "loai_hinh_nha_o_label_encoder = joblib.load('/content/drive/MyDrive/notebook/loai_hinh_nha_o_label_encoder.pkl')\n",
        "duong_label_encoder = joblib.load('/content/drive/MyDrive/notebook/duong_label_encoder.pkl')\n",
        "\n",
        "# Tải giá trị trung bình và độ lệch chuẩn\n",
        "mean = joblib.load('/content/drive/MyDrive/notebook/mean.pkl')\n",
        "std = joblib.load('/content/drive/MyDrive/notebook/std.pkl')"
      ],
      "metadata": {
        "colab": {
          "base_uri": "https://localhost:8080/"
        },
        "id": "0qv1mDgNJBix",
        "outputId": "365a8cd4-3f13-4448-d978-21a99fcce7a6"
      },
      "execution_count": null,
      "outputs": [
        {
          "output_type": "stream",
          "name": "stderr",
          "text": [
            "/usr/local/lib/python3.10/dist-packages/sklearn/base.py:376: InconsistentVersionWarning: Trying to unpickle estimator LabelEncoder from version 1.3.2 when using version 1.5.2. This might lead to breaking code or invalid results. Use at your own risk. For more info please refer to:\n",
            "https://scikit-learn.org/stable/model_persistence.html#security-maintainability-limitations\n",
            "  warnings.warn(\n"
          ]
        }
      ]
    },
    {
      "cell_type": "code",
      "source": [
        "# Convert x_demo back to original data\n",
        "x_demo_original = x_demo * std + mean\n",
        "\n",
        "# Convert categorical features back to original values\n",
        "quan = quan_label_encoder.inverse_transform([int(x_demo_original[0][0])])[0]\n",
        "huyen = huyen_label_encoder.inverse_transform([int(x_demo_original[0][1])])[0]\n",
        "loai_hinh_nha_o = loai_hinh_nha_o_label_encoder.inverse_transform([int(x_demo_original[0][2])])[0]\n",
        "duong = duong_label_encoder.inverse_transform([int(x_demo_original[0][5])])[0]\n",
        "so_phong_ngu = int(x_demo_original[0][3])\n",
        "dien_tich = int(x_demo_original[0][4])\n",
        "\n",
        "print({'đường': duong, 'quận': quan, 'huyện': huyen, 'loại hình nhà ở': loai_hinh_nha_o, 'số phòng ngủ': so_phong_ngu, 'diện tích': dien_tich})"
      ],
      "metadata": {
        "colab": {
          "base_uri": "https://localhost:8080/"
        },
        "id": "sUVCqpKOBoy0",
        "outputId": "5b2fb367-6d9f-4ca1-9a80-5923690701ba"
      },
      "execution_count": null,
      "outputs": [
        {
          "output_type": "stream",
          "name": "stdout",
          "text": [
            "{'đường': 'cầu giấy', 'quận': 'Quận Cầu Giấy', 'huyện': 'Phường Dịch Vọng', 'loại hình nhà ở': 'Nhà ngõ, hẻm', 'số phòng ngủ': 6, 'diện tích': 38}\n"
          ]
        }
      ]
    },
    {
      "cell_type": "markdown",
      "source": [
        "Cuối cùng, xem giá nhà dự đoán ở vị trí X_train[0]."
      ],
      "metadata": {
        "id": "i3SfDYV5HP4N"
      }
    },
    {
      "cell_type": "code",
      "source": [
        "demo_prediction = predict(x_demo, parameters)\n",
        "print(f\"Giá nhà dự đoán {demo_prediction}\")\n",
        "print(f\"Giá nhà thực tế {y_test[0]}\")"
      ],
      "metadata": {
        "colab": {
          "base_uri": "https://localhost:8080/"
        },
        "id": "21oPQ67u_6-z",
        "outputId": "a8237c86-2ef0-464b-9d1e-7e41a0a316db"
      },
      "execution_count": null,
      "outputs": [
        {
          "output_type": "stream",
          "name": "stdout",
          "text": [
            "Giá nhà dự đoán [[37.99559592]]\n",
            "Giá nhà thực tế 38\n"
          ]
        }
      ]
    },
    {
      "cell_type": "markdown",
      "source": [
        "# Thử với data của bạn"
      ],
      "metadata": {
        "id": "JAvVLBVG-ldJ"
      }
    },
    {
      "cell_type": "markdown",
      "source": [
        "Đầu tiên, ta cần nhập vào input và mã hóa các thông tin của đường, quận, huyện, loại hình nhà ở. Ta sẽ sử dụng LabelEncoder để chuyển hóa dữ liệu từ số sang chữ (giải thích kĩ ở tuần 3).\n",
        "\n",
        "Lưu ý:\n",
        "* Chỉ nhập tên đường, không bắt đầu bằng \"đường\" hoặc \"phố\".\n",
        "* Đối với data không được train, cell này sẽ xảy ra lỗi."
      ],
      "metadata": {
        "id": "O5F4fzHm-pM7"
      }
    },
    {
      "cell_type": "code",
      "source": [
        "duong = 'minh khai'\n",
        "quan = 'Quận Hai Bà Trưng'\n",
        "huyen = 'Phường Minh Khai'\n",
        "loai = 'Nhà mặt phố, mặt tiền'\n",
        "so_phong = 6\n",
        "dien_tich = 50\n",
        "\n",
        "# Chuyển đổi cột 'Địa chỉ'\n",
        "duong = duong_label_encoder.transform([duong])[0]\n",
        "\n",
        "# Chuyển đổi cột 'Quận'\n",
        "quan = quan_label_encoder.transform([quan])[0]\n",
        "\n",
        "# Chuyển đổi cột 'Huyện'\n",
        "huyen = huyen_label_encoder.transform([huyen])[0]\n",
        "\n",
        "# Chuyển đổi cột 'Loại hình nhà ở'\n",
        "loai = loai_hinh_nha_o_label_encoder.transform([loai])[0]"
      ],
      "metadata": {
        "id": "9C6RSq8N3T1Z"
      },
      "execution_count": null,
      "outputs": []
    },
    {
      "cell_type": "markdown",
      "source": [
        "Sau đó, chúng ta chuẩn hóa x cho chúng có trung bình bằng 0 và độ lệch chuẩn bằng 1. (giải thích kĩ ở tuần 3)"
      ],
      "metadata": {
        "id": "Ja75hN6Y_lx2"
      }
    },
    {
      "cell_type": "code",
      "source": [
        "input = [[quan, huyen, loai, so_phong, dien_tich, duong]]\n",
        "input = np.array(input)\n",
        "input = (input-mean)/std\n",
        "print(input)"
      ],
      "metadata": {
        "colab": {
          "base_uri": "https://localhost:8080/"
        },
        "id": "yPvS5LPovloI",
        "outputId": "d1b15951-3611-407d-c652-3d494276b7b1"
      },
      "execution_count": null,
      "outputs": [
        {
          "output_type": "stream",
          "name": "stdout",
          "text": [
            "[[-0.73684943 -0.51745793 -1.6646029   1.4674629   0.04104468 -0.36828932]]\n"
          ]
        }
      ]
    },
    {
      "cell_type": "markdown",
      "source": [
        "Cuối cùng, xem giá nhà dự đoán của bạn."
      ],
      "metadata": {
        "id": "ILKw2Cb5_mmI"
      }
    },
    {
      "cell_type": "code",
      "source": [
        "input_prediction = predict(input, parameters)\n",
        "print(input_prediction)"
      ],
      "metadata": {
        "colab": {
          "base_uri": "https://localhost:8080/"
        },
        "id": "9sMHGuePxmyK",
        "outputId": "bcbd6f32-b630-4ac3-d500-a8d3dbdfb234"
      },
      "execution_count": null,
      "outputs": [
        {
          "output_type": "stream",
          "name": "stdout",
          "text": [
            "[[49.99545845]]\n"
          ]
        }
      ]
    }
  ]
}