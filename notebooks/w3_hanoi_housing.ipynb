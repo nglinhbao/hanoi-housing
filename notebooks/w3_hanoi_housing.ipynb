{
  "nbformat": 4,
  "nbformat_minor": 0,
  "metadata": {
    "colab": {
      "provenance": [],
      "toc_visible": true
    },
    "kernelspec": {
      "name": "python3",
      "display_name": "Python 3"
    },
    "language_info": {
      "name": "python"
    }
  },
  "cells": [
    {
      "cell_type": "markdown",
      "source": [
        "# **Dự Đoán Giá Nhà từ Dữ Liệu Bất Động Sản ở Hà Nội (tuần 3)**"
      ],
      "metadata": {
        "id": "4XlUhgWUpgK1"
      }
    },
    {
      "cell_type": "markdown",
      "source": [
        "Ở bài trước, chúng ta đã chạy được lan truyền xuôi dựa trên tập dữ liệu bất động sản ở Hà Nội. Trong bài tập này, chúng ta sẽ đi sâu hơn về phần huấn luyện mô hình.\n",
        "\n",
        "**Dữ Liệu**:\n",
        "\n",
        "Chúng ta sẽ sử dụng tập dữ liệu về dự đoán giá nhà được lấy từ Kaggle (https://www.kaggle.com/datasets/ladcva/vietnam-housing-dataset-hanoi/data). Tập dữ liệu này chứa thông tin về các giao dịch bất động sản ở Hà Nội, bao gồm các thuộc tính liên quan như địa chỉ, quận, huyện, diện tích, số phòng ngủ,... và giá bán. Mục tiêu của chúng ta là xây dựng một mô hình để dự đoán giá của các căn nhà dựa trên các thuộc tính này.\n",
        "\n",
        "**Phương Pháp**:\n",
        "\n",
        "Chúng ta sẽ tiến hành các bước sau:\n",
        "* Xử lý dữ liệu\n",
        "* Huấn luyện mô hình\n",
        "* Đánh giá mô hình\n",
        "* Chạy thử mô hình"
      ],
      "metadata": {
        "id": "WbKY5K3gpdU7"
      }
    },
    {
      "cell_type": "markdown",
      "source": [
        "# Tải và khám phá dữ liệu"
      ],
      "metadata": {
        "id": "DcPzilVUqOhr"
      }
    },
    {
      "cell_type": "markdown",
      "source": [
        "Trong mỗi dự án machine learning, phần xử lý dữ liệu luôn chiếm phần lớn quá trình để giúp cho các mô hình AI chạy hiệu quả nhất. Bắt đầu bằng việc tải dữ liệu từ Kaggle và khám phá nó để hiểu rõ về cấu trúc và tính chất của dữ liệu."
      ],
      "metadata": {
        "id": "Oo41Tn7iRsKH"
      }
    },
    {
      "cell_type": "code",
      "source": [
        "from google.colab import drive\n",
        "drive.mount('/content/drive')"
      ],
      "metadata": {
        "colab": {
          "base_uri": "https://localhost:8080/"
        },
        "id": "_28fbiP8LI20",
        "outputId": "337bac3d-2c82-40b9-eaf1-ff9a8a056f98"
      },
      "execution_count": 4,
      "outputs": [
        {
          "output_type": "stream",
          "name": "stdout",
          "text": [
            "Drive already mounted at /content/drive; to attempt to forcibly remount, call drive.mount(\"/content/drive\", force_remount=True).\n"
          ]
        }
      ]
    },
    {
      "cell_type": "markdown",
      "source": [
        "Chúng ta sẽ đọc file CSV thành DataFrame thông qua đường dẫn đến file sử dụng Pandas.\n",
        "\n",
        "Giải thích thư viện: Pandas (`import pandas as pd`):\n",
        "* Mục đích: Pandas là một thư viện mạnh mẽ cho việc phân tích và xử lý dữ liệu trong Python.\n",
        "* Chức năng: Cung cấp các cấu trúc dữ liệu linh hoạt như DataFrame (bảng dữ liệu hai chiều) và Series (mảng một chiều), giúp dễ dàng thao tác, lọc, và xử lý dữ liệu.\n",
        "\n",
        "Sau đó, ta sẽ in vài dòng đầu tiên của DataFrame"
      ],
      "metadata": {
        "id": "33VvlTkLTMjZ"
      }
    },
    {
      "cell_type": "code",
      "source": [
        "import pandas as pd\n",
        "\n",
        "# Đường dẫn đến file CSV trên Google Drive\n",
        "file_path = '/content/drive/MyDrive/notebook/dataset/VN_housing_dataset.csv'\n",
        "\n",
        "# Đọc file CSV vào DataFrame\n",
        "df = pd.read_csv(file_path)\n",
        "\n",
        "# Hiển thị vài dòng đầu tiên của DataFrame\n",
        "display(df.head())"
      ],
      "metadata": {
        "colab": {
          "base_uri": "https://localhost:8080/",
          "height": 310
        },
        "id": "lwWzWVuhSmnj",
        "outputId": "3738964d-2036-4291-8901-c73d426011d2"
      },
      "execution_count": 5,
      "outputs": [
        {
          "output_type": "display_data",
          "data": {
            "text/plain": [
              "   Unnamed: 0        Ngày                                            Địa chỉ  \\\n",
              "0         0.0  2020-08-05  Đường Hoàng Quốc Việt, Phường Nghĩa Đô, Quận C...   \n",
              "1         1.0  2020-08-05  Đường Kim Giang, Phường Kim Giang, Quận Thanh ...   \n",
              "2         2.0  2020-08-05  phố minh khai, Phường Minh Khai, Quận Hai Bà T...   \n",
              "3         3.0  2020-08-05  Đường Võng Thị, Phường Thụy Khuê, Quận Tây Hồ,...   \n",
              "4         4.0  2020-08-05  Đường Kim Giang, Phường Kim Giang, Quận Thanh ...   \n",
              "\n",
              "                Quận             Huyện        Loại hình nhà ở Giấy tờ pháp lý  \\\n",
              "0      Quận Cầu Giấy   Phường Nghĩa Đô           Nhà ngõ, hẻm        Đã có sổ   \n",
              "1    Quận Thanh Xuân  Phường Kim Giang  Nhà mặt phố, mặt tiền             NaN   \n",
              "2  Quận Hai Bà Trưng  Phường Minh Khai           Nhà ngõ, hẻm        Đã có sổ   \n",
              "3        Quận Tây Hồ  Phường Thụy Khuê           Nhà ngõ, hẻm        Đã có sổ   \n",
              "4    Quận Thanh Xuân  Phường Kim Giang           Nhà ngõ, hẻm             NaN   \n",
              "\n",
              "  Số tầng Số phòng ngủ Diện tích      Dài Rộng           Giá/m2  \n",
              "0       4      5 phòng     46 m²      NaN  NaN   86,96 triệu/m²  \n",
              "1     NaN      3 phòng     37 m²      NaN  NaN  116,22 triệu/m²  \n",
              "2       4      4 phòng     40 m²     10 m  4 m      65 triệu/m²  \n",
              "3     NaN      6 phòng     51 m²  12.75 m  4 m     100 triệu/m²  \n",
              "4     NaN      4 phòng     36 m²      9 m  4 m   86,11 triệu/m²  "
            ],
            "text/html": [
              "\n",
              "  <div id=\"df-90c3e50e-16e2-407e-b125-4fc6188f4092\" class=\"colab-df-container\">\n",
              "    <div>\n",
              "<style scoped>\n",
              "    .dataframe tbody tr th:only-of-type {\n",
              "        vertical-align: middle;\n",
              "    }\n",
              "\n",
              "    .dataframe tbody tr th {\n",
              "        vertical-align: top;\n",
              "    }\n",
              "\n",
              "    .dataframe thead th {\n",
              "        text-align: right;\n",
              "    }\n",
              "</style>\n",
              "<table border=\"1\" class=\"dataframe\">\n",
              "  <thead>\n",
              "    <tr style=\"text-align: right;\">\n",
              "      <th></th>\n",
              "      <th>Unnamed: 0</th>\n",
              "      <th>Ngày</th>\n",
              "      <th>Địa chỉ</th>\n",
              "      <th>Quận</th>\n",
              "      <th>Huyện</th>\n",
              "      <th>Loại hình nhà ở</th>\n",
              "      <th>Giấy tờ pháp lý</th>\n",
              "      <th>Số tầng</th>\n",
              "      <th>Số phòng ngủ</th>\n",
              "      <th>Diện tích</th>\n",
              "      <th>Dài</th>\n",
              "      <th>Rộng</th>\n",
              "      <th>Giá/m2</th>\n",
              "    </tr>\n",
              "  </thead>\n",
              "  <tbody>\n",
              "    <tr>\n",
              "      <th>0</th>\n",
              "      <td>0.0</td>\n",
              "      <td>2020-08-05</td>\n",
              "      <td>Đường Hoàng Quốc Việt, Phường Nghĩa Đô, Quận C...</td>\n",
              "      <td>Quận Cầu Giấy</td>\n",
              "      <td>Phường Nghĩa Đô</td>\n",
              "      <td>Nhà ngõ, hẻm</td>\n",
              "      <td>Đã có sổ</td>\n",
              "      <td>4</td>\n",
              "      <td>5 phòng</td>\n",
              "      <td>46 m²</td>\n",
              "      <td>NaN</td>\n",
              "      <td>NaN</td>\n",
              "      <td>86,96 triệu/m²</td>\n",
              "    </tr>\n",
              "    <tr>\n",
              "      <th>1</th>\n",
              "      <td>1.0</td>\n",
              "      <td>2020-08-05</td>\n",
              "      <td>Đường Kim Giang, Phường Kim Giang, Quận Thanh ...</td>\n",
              "      <td>Quận Thanh Xuân</td>\n",
              "      <td>Phường Kim Giang</td>\n",
              "      <td>Nhà mặt phố, mặt tiền</td>\n",
              "      <td>NaN</td>\n",
              "      <td>NaN</td>\n",
              "      <td>3 phòng</td>\n",
              "      <td>37 m²</td>\n",
              "      <td>NaN</td>\n",
              "      <td>NaN</td>\n",
              "      <td>116,22 triệu/m²</td>\n",
              "    </tr>\n",
              "    <tr>\n",
              "      <th>2</th>\n",
              "      <td>2.0</td>\n",
              "      <td>2020-08-05</td>\n",
              "      <td>phố minh khai, Phường Minh Khai, Quận Hai Bà T...</td>\n",
              "      <td>Quận Hai Bà Trưng</td>\n",
              "      <td>Phường Minh Khai</td>\n",
              "      <td>Nhà ngõ, hẻm</td>\n",
              "      <td>Đã có sổ</td>\n",
              "      <td>4</td>\n",
              "      <td>4 phòng</td>\n",
              "      <td>40 m²</td>\n",
              "      <td>10 m</td>\n",
              "      <td>4 m</td>\n",
              "      <td>65 triệu/m²</td>\n",
              "    </tr>\n",
              "    <tr>\n",
              "      <th>3</th>\n",
              "      <td>3.0</td>\n",
              "      <td>2020-08-05</td>\n",
              "      <td>Đường Võng Thị, Phường Thụy Khuê, Quận Tây Hồ,...</td>\n",
              "      <td>Quận Tây Hồ</td>\n",
              "      <td>Phường Thụy Khuê</td>\n",
              "      <td>Nhà ngõ, hẻm</td>\n",
              "      <td>Đã có sổ</td>\n",
              "      <td>NaN</td>\n",
              "      <td>6 phòng</td>\n",
              "      <td>51 m²</td>\n",
              "      <td>12.75 m</td>\n",
              "      <td>4 m</td>\n",
              "      <td>100 triệu/m²</td>\n",
              "    </tr>\n",
              "    <tr>\n",
              "      <th>4</th>\n",
              "      <td>4.0</td>\n",
              "      <td>2020-08-05</td>\n",
              "      <td>Đường Kim Giang, Phường Kim Giang, Quận Thanh ...</td>\n",
              "      <td>Quận Thanh Xuân</td>\n",
              "      <td>Phường Kim Giang</td>\n",
              "      <td>Nhà ngõ, hẻm</td>\n",
              "      <td>NaN</td>\n",
              "      <td>NaN</td>\n",
              "      <td>4 phòng</td>\n",
              "      <td>36 m²</td>\n",
              "      <td>9 m</td>\n",
              "      <td>4 m</td>\n",
              "      <td>86,11 triệu/m²</td>\n",
              "    </tr>\n",
              "  </tbody>\n",
              "</table>\n",
              "</div>\n",
              "    <div class=\"colab-df-buttons\">\n",
              "\n",
              "  <div class=\"colab-df-container\">\n",
              "    <button class=\"colab-df-convert\" onclick=\"convertToInteractive('df-90c3e50e-16e2-407e-b125-4fc6188f4092')\"\n",
              "            title=\"Convert this dataframe to an interactive table.\"\n",
              "            style=\"display:none;\">\n",
              "\n",
              "  <svg xmlns=\"http://www.w3.org/2000/svg\" height=\"24px\" viewBox=\"0 -960 960 960\">\n",
              "    <path d=\"M120-120v-720h720v720H120Zm60-500h600v-160H180v160Zm220 220h160v-160H400v160Zm0 220h160v-160H400v160ZM180-400h160v-160H180v160Zm440 0h160v-160H620v160ZM180-180h160v-160H180v160Zm440 0h160v-160H620v160Z\"/>\n",
              "  </svg>\n",
              "    </button>\n",
              "\n",
              "  <style>\n",
              "    .colab-df-container {\n",
              "      display:flex;\n",
              "      gap: 12px;\n",
              "    }\n",
              "\n",
              "    .colab-df-convert {\n",
              "      background-color: #E8F0FE;\n",
              "      border: none;\n",
              "      border-radius: 50%;\n",
              "      cursor: pointer;\n",
              "      display: none;\n",
              "      fill: #1967D2;\n",
              "      height: 32px;\n",
              "      padding: 0 0 0 0;\n",
              "      width: 32px;\n",
              "    }\n",
              "\n",
              "    .colab-df-convert:hover {\n",
              "      background-color: #E2EBFA;\n",
              "      box-shadow: 0px 1px 2px rgba(60, 64, 67, 0.3), 0px 1px 3px 1px rgba(60, 64, 67, 0.15);\n",
              "      fill: #174EA6;\n",
              "    }\n",
              "\n",
              "    .colab-df-buttons div {\n",
              "      margin-bottom: 4px;\n",
              "    }\n",
              "\n",
              "    [theme=dark] .colab-df-convert {\n",
              "      background-color: #3B4455;\n",
              "      fill: #D2E3FC;\n",
              "    }\n",
              "\n",
              "    [theme=dark] .colab-df-convert:hover {\n",
              "      background-color: #434B5C;\n",
              "      box-shadow: 0px 1px 3px 1px rgba(0, 0, 0, 0.15);\n",
              "      filter: drop-shadow(0px 1px 2px rgba(0, 0, 0, 0.3));\n",
              "      fill: #FFFFFF;\n",
              "    }\n",
              "  </style>\n",
              "\n",
              "    <script>\n",
              "      const buttonEl =\n",
              "        document.querySelector('#df-90c3e50e-16e2-407e-b125-4fc6188f4092 button.colab-df-convert');\n",
              "      buttonEl.style.display =\n",
              "        google.colab.kernel.accessAllowed ? 'block' : 'none';\n",
              "\n",
              "      async function convertToInteractive(key) {\n",
              "        const element = document.querySelector('#df-90c3e50e-16e2-407e-b125-4fc6188f4092');\n",
              "        const dataTable =\n",
              "          await google.colab.kernel.invokeFunction('convertToInteractive',\n",
              "                                                    [key], {});\n",
              "        if (!dataTable) return;\n",
              "\n",
              "        const docLinkHtml = 'Like what you see? Visit the ' +\n",
              "          '<a target=\"_blank\" href=https://colab.research.google.com/notebooks/data_table.ipynb>data table notebook</a>'\n",
              "          + ' to learn more about interactive tables.';\n",
              "        element.innerHTML = '';\n",
              "        dataTable['output_type'] = 'display_data';\n",
              "        await google.colab.output.renderOutput(dataTable, element);\n",
              "        const docLink = document.createElement('div');\n",
              "        docLink.innerHTML = docLinkHtml;\n",
              "        element.appendChild(docLink);\n",
              "      }\n",
              "    </script>\n",
              "  </div>\n",
              "\n",
              "\n",
              "<div id=\"df-37ec1acb-5099-4916-b3e2-604f08adf35d\">\n",
              "  <button class=\"colab-df-quickchart\" onclick=\"quickchart('df-37ec1acb-5099-4916-b3e2-604f08adf35d')\"\n",
              "            title=\"Suggest charts\"\n",
              "            style=\"display:none;\">\n",
              "\n",
              "<svg xmlns=\"http://www.w3.org/2000/svg\" height=\"24px\"viewBox=\"0 0 24 24\"\n",
              "     width=\"24px\">\n",
              "    <g>\n",
              "        <path d=\"M19 3H5c-1.1 0-2 .9-2 2v14c0 1.1.9 2 2 2h14c1.1 0 2-.9 2-2V5c0-1.1-.9-2-2-2zM9 17H7v-7h2v7zm4 0h-2V7h2v10zm4 0h-2v-4h2v4z\"/>\n",
              "    </g>\n",
              "</svg>\n",
              "  </button>\n",
              "\n",
              "<style>\n",
              "  .colab-df-quickchart {\n",
              "      --bg-color: #E8F0FE;\n",
              "      --fill-color: #1967D2;\n",
              "      --hover-bg-color: #E2EBFA;\n",
              "      --hover-fill-color: #174EA6;\n",
              "      --disabled-fill-color: #AAA;\n",
              "      --disabled-bg-color: #DDD;\n",
              "  }\n",
              "\n",
              "  [theme=dark] .colab-df-quickchart {\n",
              "      --bg-color: #3B4455;\n",
              "      --fill-color: #D2E3FC;\n",
              "      --hover-bg-color: #434B5C;\n",
              "      --hover-fill-color: #FFFFFF;\n",
              "      --disabled-bg-color: #3B4455;\n",
              "      --disabled-fill-color: #666;\n",
              "  }\n",
              "\n",
              "  .colab-df-quickchart {\n",
              "    background-color: var(--bg-color);\n",
              "    border: none;\n",
              "    border-radius: 50%;\n",
              "    cursor: pointer;\n",
              "    display: none;\n",
              "    fill: var(--fill-color);\n",
              "    height: 32px;\n",
              "    padding: 0;\n",
              "    width: 32px;\n",
              "  }\n",
              "\n",
              "  .colab-df-quickchart:hover {\n",
              "    background-color: var(--hover-bg-color);\n",
              "    box-shadow: 0 1px 2px rgba(60, 64, 67, 0.3), 0 1px 3px 1px rgba(60, 64, 67, 0.15);\n",
              "    fill: var(--button-hover-fill-color);\n",
              "  }\n",
              "\n",
              "  .colab-df-quickchart-complete:disabled,\n",
              "  .colab-df-quickchart-complete:disabled:hover {\n",
              "    background-color: var(--disabled-bg-color);\n",
              "    fill: var(--disabled-fill-color);\n",
              "    box-shadow: none;\n",
              "  }\n",
              "\n",
              "  .colab-df-spinner {\n",
              "    border: 2px solid var(--fill-color);\n",
              "    border-color: transparent;\n",
              "    border-bottom-color: var(--fill-color);\n",
              "    animation:\n",
              "      spin 1s steps(1) infinite;\n",
              "  }\n",
              "\n",
              "  @keyframes spin {\n",
              "    0% {\n",
              "      border-color: transparent;\n",
              "      border-bottom-color: var(--fill-color);\n",
              "      border-left-color: var(--fill-color);\n",
              "    }\n",
              "    20% {\n",
              "      border-color: transparent;\n",
              "      border-left-color: var(--fill-color);\n",
              "      border-top-color: var(--fill-color);\n",
              "    }\n",
              "    30% {\n",
              "      border-color: transparent;\n",
              "      border-left-color: var(--fill-color);\n",
              "      border-top-color: var(--fill-color);\n",
              "      border-right-color: var(--fill-color);\n",
              "    }\n",
              "    40% {\n",
              "      border-color: transparent;\n",
              "      border-right-color: var(--fill-color);\n",
              "      border-top-color: var(--fill-color);\n",
              "    }\n",
              "    60% {\n",
              "      border-color: transparent;\n",
              "      border-right-color: var(--fill-color);\n",
              "    }\n",
              "    80% {\n",
              "      border-color: transparent;\n",
              "      border-right-color: var(--fill-color);\n",
              "      border-bottom-color: var(--fill-color);\n",
              "    }\n",
              "    90% {\n",
              "      border-color: transparent;\n",
              "      border-bottom-color: var(--fill-color);\n",
              "    }\n",
              "  }\n",
              "</style>\n",
              "\n",
              "  <script>\n",
              "    async function quickchart(key) {\n",
              "      const quickchartButtonEl =\n",
              "        document.querySelector('#' + key + ' button');\n",
              "      quickchartButtonEl.disabled = true;  // To prevent multiple clicks.\n",
              "      quickchartButtonEl.classList.add('colab-df-spinner');\n",
              "      try {\n",
              "        const charts = await google.colab.kernel.invokeFunction(\n",
              "            'suggestCharts', [key], {});\n",
              "      } catch (error) {\n",
              "        console.error('Error during call to suggestCharts:', error);\n",
              "      }\n",
              "      quickchartButtonEl.classList.remove('colab-df-spinner');\n",
              "      quickchartButtonEl.classList.add('colab-df-quickchart-complete');\n",
              "    }\n",
              "    (() => {\n",
              "      let quickchartButtonEl =\n",
              "        document.querySelector('#df-37ec1acb-5099-4916-b3e2-604f08adf35d button');\n",
              "      quickchartButtonEl.style.display =\n",
              "        google.colab.kernel.accessAllowed ? 'block' : 'none';\n",
              "    })();\n",
              "  </script>\n",
              "</div>\n",
              "\n",
              "    </div>\n",
              "  </div>\n"
            ],
            "application/vnd.google.colaboratory.intrinsic+json": {
              "type": "dataframe",
              "summary": "{\n  \"name\": \"display(df\",\n  \"rows\": 5,\n  \"fields\": [\n    {\n      \"column\": \"Unnamed: 0\",\n      \"properties\": {\n        \"dtype\": \"number\",\n        \"std\": 1.5811388300841898,\n        \"min\": 0.0,\n        \"max\": 4.0,\n        \"num_unique_values\": 5,\n        \"samples\": [\n          1.0,\n          4.0,\n          2.0\n        ],\n        \"semantic_type\": \"\",\n        \"description\": \"\"\n      }\n    },\n    {\n      \"column\": \"Ng\\u00e0y\",\n      \"properties\": {\n        \"dtype\": \"object\",\n        \"num_unique_values\": 1,\n        \"samples\": [\n          \"2020-08-05\"\n        ],\n        \"semantic_type\": \"\",\n        \"description\": \"\"\n      }\n    },\n    {\n      \"column\": \"\\u0110\\u1ecba ch\\u1ec9\",\n      \"properties\": {\n        \"dtype\": \"string\",\n        \"num_unique_values\": 4,\n        \"samples\": [\n          \"\\u0110\\u01b0\\u1eddng Kim Giang, Ph\\u01b0\\u1eddng Kim Giang, Qu\\u1eadn Thanh Xu\\u00e2n, H\\u00e0 N\\u1ed9i\"\n        ],\n        \"semantic_type\": \"\",\n        \"description\": \"\"\n      }\n    },\n    {\n      \"column\": \"Qu\\u1eadn\",\n      \"properties\": {\n        \"dtype\": \"string\",\n        \"num_unique_values\": 4,\n        \"samples\": [\n          \"Qu\\u1eadn Thanh Xu\\u00e2n\"\n        ],\n        \"semantic_type\": \"\",\n        \"description\": \"\"\n      }\n    },\n    {\n      \"column\": \"Huy\\u1ec7n\",\n      \"properties\": {\n        \"dtype\": \"string\",\n        \"num_unique_values\": 4,\n        \"samples\": [\n          \"Ph\\u01b0\\u1eddng Kim Giang\"\n        ],\n        \"semantic_type\": \"\",\n        \"description\": \"\"\n      }\n    },\n    {\n      \"column\": \"Lo\\u1ea1i h\\u00ecnh nh\\u00e0 \\u1edf\",\n      \"properties\": {\n        \"dtype\": \"category\",\n        \"num_unique_values\": 2,\n        \"samples\": [\n          \"Nh\\u00e0 m\\u1eb7t ph\\u1ed1, m\\u1eb7t ti\\u1ec1n\"\n        ],\n        \"semantic_type\": \"\",\n        \"description\": \"\"\n      }\n    },\n    {\n      \"column\": \"Gi\\u1ea5y t\\u1edd ph\\u00e1p l\\u00fd\",\n      \"properties\": {\n        \"dtype\": \"category\",\n        \"num_unique_values\": 1,\n        \"samples\": [\n          \"\\u0110\\u00e3 c\\u00f3 s\\u1ed5\"\n        ],\n        \"semantic_type\": \"\",\n        \"description\": \"\"\n      }\n    },\n    {\n      \"column\": \"S\\u1ed1 t\\u1ea7ng\",\n      \"properties\": {\n        \"dtype\": \"category\",\n        \"num_unique_values\": 1,\n        \"samples\": [\n          \"4\"\n        ],\n        \"semantic_type\": \"\",\n        \"description\": \"\"\n      }\n    },\n    {\n      \"column\": \"S\\u1ed1 ph\\u00f2ng ng\\u1ee7\",\n      \"properties\": {\n        \"dtype\": \"string\",\n        \"num_unique_values\": 4,\n        \"samples\": [\n          \"3 ph\\u00f2ng\"\n        ],\n        \"semantic_type\": \"\",\n        \"description\": \"\"\n      }\n    },\n    {\n      \"column\": \"Di\\u1ec7n t\\u00edch\",\n      \"properties\": {\n        \"dtype\": \"string\",\n        \"num_unique_values\": 5,\n        \"samples\": [\n          \"37 m\\u00b2\"\n        ],\n        \"semantic_type\": \"\",\n        \"description\": \"\"\n      }\n    },\n    {\n      \"column\": \"D\\u00e0i\",\n      \"properties\": {\n        \"dtype\": \"string\",\n        \"num_unique_values\": 3,\n        \"samples\": [\n          \"10 m\"\n        ],\n        \"semantic_type\": \"\",\n        \"description\": \"\"\n      }\n    },\n    {\n      \"column\": \"R\\u1ed9ng\",\n      \"properties\": {\n        \"dtype\": \"category\",\n        \"num_unique_values\": 1,\n        \"samples\": [\n          \"4 m\"\n        ],\n        \"semantic_type\": \"\",\n        \"description\": \"\"\n      }\n    },\n    {\n      \"column\": \"Gi\\u00e1/m2\",\n      \"properties\": {\n        \"dtype\": \"string\",\n        \"num_unique_values\": 5,\n        \"samples\": [\n          \"116,22 tri\\u1ec7u/m\\u00b2\"\n        ],\n        \"semantic_type\": \"\",\n        \"description\": \"\"\n      }\n    }\n  ]\n}"
            }
          },
          "metadata": {}
        }
      ]
    },
    {
      "cell_type": "markdown",
      "source": [
        "Trong dataset trên, mỗi hàng tượng trưng cho 1 nhà. Dưới đây là giải thích từng cột trong dataset:\n",
        "\n",
        "* index: Chỉ số hàng (số thứ tự) của mỗi dòng trong bảng. Thường được sinh tự động khi lưu trữ dữ liệu dưới dạng bảng. (int)\n",
        "\n",
        "* Unnamed: 0: Một cột không được đặt tên cụ thể hoặc không có tên. Thường là một chỉ số hàng (index) thừa khi đọc dữ liệu từ file. (float)\n",
        "\n",
        "* Ngày: Ngày đăng thông tin về bất động sản. (string)\n",
        "\n",
        "* Địa chỉ: Địa chỉ chi tiết của bất động sản, bao gồm tên đường, phường/xã, quận/huyện và thành phố. (string)\n",
        "\n",
        "* Quận: Tên quận/huyện của địa chỉ bất động sản. (string)\n",
        "\n",
        "* Huyện: Tên huyện/phường của địa chỉ bất động sản (nếu có). (string)\n",
        "\n",
        "* Loại hình nhà ở: Loại hình nhà ở như \"Nhà ngõ, hẻm\", \"Nhà mặt phố, mặt tiền\",... (string)\n",
        "\n",
        "* Giấy tờ pháp lý: Tình trạng giấy tờ pháp lý của bất động sản, ví dụ \"Đã có sổ\". (string)\n",
        "\n",
        "* Số tầng: Số tầng của ngôi nhà. (string)\n",
        "\n",
        "* Số phòng ngủ: Số lượng phòng ngủ của ngôi nhà. (string)\n",
        "\n",
        "* Diện tích: Diện tích của bất động sản. (string)\n",
        "\n",
        "* Dài: Chiều dài của diện tích (nếu có). (string)\n",
        "\n",
        "* Rộng: Chiều rộng của diện tích (nếu có). (string)\n",
        "\n",
        "* Giá/m2: Giá bán hoặc giá cho thuê của bất động sản tính theo m2. (string)"
      ],
      "metadata": {
        "id": "McoBQic8P-Ex"
      }
    },
    {
      "cell_type": "markdown",
      "source": [
        "# Xử lý dữ liệu"
      ],
      "metadata": {
        "id": "P_kOu9WHqZq5"
      }
    },
    {
      "cell_type": "markdown",
      "source": [
        "Mục đích chính của việc xử lý dữ liệu trong bài tập này là chuyển các dữ liệu string thành dạng số. Ở phần này, chúng ta sẽ\n",
        "  * Xóa các cột chứa nhiều dữ liệu NaN\n",
        "  * Xóa các giá trị NaN trong các cột còn lại\n",
        "  * Đồng bộ cột Đường\n",
        "  * Chuyển các loại dữ liệu của các cột thành số\n",
        "  * Xóa các giá trị NaN xảy ra trong quá trình chuyển loại dữ liệu\n",
        "  * Khám phá độ tương quan của các cột\n",
        "  * Chuẩn hóa dữ liệu"
      ],
      "metadata": {
        "id": "YcHKNjgpUFb0"
      }
    },
    {
      "cell_type": "markdown",
      "source": [
        "Dòng code phía dưới được sử dụng để đếm số lượng giá trị thiếu (null) trong mỗi cột của DataFrame df. Việc này giúp chúng ta xác định dữ liệu có bị thiếu không, giúp chuẩn bị cho các bước xử lý dữ liệu tiếp theo."
      ],
      "metadata": {
        "id": "-ot8H5uNi8Ox"
      }
    },
    {
      "cell_type": "code",
      "source": [
        "# Kiểm tra nếu dữ liệu có data null (rỗng)\n",
        "print(df.isnull().sum())"
      ],
      "metadata": {
        "colab": {
          "base_uri": "https://localhost:8080/"
        },
        "id": "lIEzZsvpMDxA",
        "outputId": "b213839a-530b-433e-957c-8efe1956cd33"
      },
      "execution_count": 6,
      "outputs": [
        {
          "output_type": "stream",
          "name": "stdout",
          "text": [
            "Unnamed: 0             1\n",
            "Ngày                   1\n",
            "Địa chỉ               48\n",
            "Quận                   2\n",
            "Huyện                 48\n",
            "Loại hình nhà ở       32\n",
            "Giấy tờ pháp lý    28887\n",
            "Số tầng            46098\n",
            "Số phòng ngủ          39\n",
            "Diện tích              2\n",
            "Dài                62670\n",
            "Rộng               47052\n",
            "Giá/m2                13\n",
            "dtype: int64\n"
          ]
        }
      ]
    },
    {
      "cell_type": "markdown",
      "source": [
        "Vì các cột 'Giấy tờ pháp lý', 'Số tầng', 'Dài', 'Rộng' chứa nhiều dữ liệu null, chúng ta sẽ loại chúng khỏi dataset bằng hàm drop (xóa cột) của Pandas"
      ],
      "metadata": {
        "id": "PxRhW9X3vTZE"
      }
    },
    {
      "cell_type": "code",
      "source": [
        "df = df.drop(['Giấy tờ pháp lý', 'Số tầng', 'Dài', 'Rộng'],axis=1)"
      ],
      "metadata": {
        "id": "3UyLs40oY5qE"
      },
      "execution_count": 7,
      "outputs": []
    },
    {
      "cell_type": "markdown",
      "source": [
        "Sau đó, xóa các hàng có null trong các cột còn lại (các cột chứa ít giá trị null) bằng cách sử dụng dropna."
      ],
      "metadata": {
        "id": "ZlIvQsfHveRi"
      }
    },
    {
      "cell_type": "code",
      "source": [
        "# Loại bỏ các hàng có giá trị null\n",
        "df = df.dropna()"
      ],
      "metadata": {
        "id": "ScJOfmqXYOVD"
      },
      "execution_count": 8,
      "outputs": []
    },
    {
      "cell_type": "code",
      "source": [
        "# Lấy số lượng hàng\n",
        "num_rows = df.shape[0]\n",
        "\n",
        "# Hiển thị số lượng cột\n",
        "print(\"Number of rows:\", num_rows)"
      ],
      "metadata": {
        "colab": {
          "base_uri": "https://localhost:8080/"
        },
        "id": "ujxoLPkMZq1I",
        "outputId": "1f652015-c8c8-4f09-8dea-949a7842be1f"
      },
      "execution_count": 9,
      "outputs": [
        {
          "output_type": "stream",
          "name": "stdout",
          "text": [
            "Number of rows: 82360\n"
          ]
        }
      ]
    },
    {
      "cell_type": "markdown",
      "source": [
        "Vì hầu hết các địa chỉ trong cột \"Địa chỉ\" được cách nhau bởi dấu \",\" hoặc \"||\", đầu tiên chúng ta cần tách địa chỉ thành 1 chuỗi theo dấu \",\" và \"||\" và lưu chúng vào cột mới tên \"Đường\" để dễ dàng xử lý ở đoạn sau."
      ],
      "metadata": {
        "id": "sUmjm206voHN"
      }
    },
    {
      "cell_type": "code",
      "source": [
        "# Chia cột \"Địa chỉ\" thành các mảng theo dấu \",\" và \"||\"\n",
        "df['Đường'] = df['Địa chỉ'].str.split(\",|-|\\|\\|\")\n",
        "\n",
        "# In ra mảng kết quả\n",
        "print(df['Đường'])"
      ],
      "metadata": {
        "id": "MBDvEBvlQk2T",
        "colab": {
          "base_uri": "https://localhost:8080/"
        },
        "outputId": "5eebb1d0-8795-44dd-a693-3d5ce681faba"
      },
      "execution_count": 10,
      "outputs": [
        {
          "output_type": "stream",
          "name": "stdout",
          "text": [
            "0        [Đường Hoàng Quốc Việt,  Phường Nghĩa Đô,  Quậ...\n",
            "1        [Đường Kim Giang,  Phường Kim Giang,  Quận Tha...\n",
            "2        [phố minh khai,  Phường Minh Khai,  Quận Hai B...\n",
            "3        [Đường Võng Thị,  Phường Thụy Khuê,  Quận Tây ...\n",
            "4        [Đường Kim Giang,  Phường Kim Giang,  Quận Tha...\n",
            "                               ...                        \n",
            "82491    [Đường Hồ Tùng Mậu,  Phường Phúc Diễn,  Quận B...\n",
            "82492    [Đường Trần Quốc Hoàn,  Phường Quan Hoa,  Quận...\n",
            "82493    [Đường Nguyễn Khánh Toàn,  Phường Quan Hoa,  Q...\n",
            "82494    [Đường Quan Hoa,  Phường Quan Hoa,  Quận Cầu G...\n",
            "82495    [Đường Hồ Tùng Mậu,  Phường Mai Dịch,  Quận Cầ...\n",
            "Name: Đường, Length: 82360, dtype: object\n"
          ]
        }
      ]
    },
    {
      "cell_type": "code",
      "source": [
        "# In thử địa chỉ\n",
        "print(df['Đường'][122])"
      ],
      "metadata": {
        "colab": {
          "base_uri": "https://localhost:8080/"
        },
        "id": "_QaJpQ51XGrD",
        "outputId": "10e76f9e-aca9-4b81-f2a8-d4e3e749d69d"
      },
      "execution_count": 11,
      "outputs": [
        {
          "output_type": "stream",
          "name": "stdout",
          "text": [
            "['Đường Ngô Gia Tự', '1279', ' Phường Đức Giang', ' Quận Long Biên', ' Hà Nội']\n"
          ]
        }
      ]
    },
    {
      "cell_type": "markdown",
      "source": [
        "Vì chúng ta đã có tên phường, quận, v.v ở các cột khác, ta chỉ cần lọc tên đường ra cho cột \"Đường\". Để lọc ra tên đường, chúng ta sẽ chạy qua từng phần tử trong mảng và chỉ giữ lại phần tử bắt đầu bằng \"đường \" hoặc \"phố \""
      ],
      "metadata": {
        "id": "ZfrZZFgywI3p"
      }
    },
    {
      "cell_type": "code",
      "source": [
        "# Lặp qua tất cả các hàng trong cột \"Đường\"\n",
        "for index, row in df.iterrows():\n",
        "  # Lấy giá trị của cột \"Đường\" tại hàng hiện tại\n",
        "  address_array = row[\"Đường\"]\n",
        "  done = False\n",
        "\n",
        "  for i in range(0,len(address_array)):\n",
        "    address_array[i] = address_array[i].strip()\n",
        "\n",
        "  if isinstance(address_array, list):\n",
        "    for i in range(0,len(address_array)):\n",
        "      if address_array[i].lower().startswith(('đường','phố')):\n",
        "        df.loc[index, \"Đường\"] = address_array[i]\n",
        "\n",
        "print(df['Đường'])"
      ],
      "metadata": {
        "colab": {
          "base_uri": "https://localhost:8080/"
        },
        "id": "I3nwkF1YDPJ5",
        "outputId": "64b2821f-49ec-47d6-b743-fe39e7e1c628"
      },
      "execution_count": 12,
      "outputs": [
        {
          "output_type": "stream",
          "name": "stdout",
          "text": [
            "0          Đường Hoàng Quốc Việt\n",
            "1                Đường Kim Giang\n",
            "2                  phố minh khai\n",
            "3                 Đường Võng Thị\n",
            "4                Đường Kim Giang\n",
            "                  ...           \n",
            "82491          Đường Hồ Tùng Mậu\n",
            "82492       Đường Trần Quốc Hoàn\n",
            "82493    Đường Nguyễn Khánh Toàn\n",
            "82494             Đường Quan Hoa\n",
            "82495          Đường Hồ Tùng Mậu\n",
            "Name: Đường, Length: 82360, dtype: object\n"
          ]
        }
      ]
    },
    {
      "cell_type": "markdown",
      "source": [
        "Xóa các cột không được xử lý (không có phần tử bắt đầu bằng \"đường \" hoặc \"phố \")"
      ],
      "metadata": {
        "id": "H3rXw-MZzbh4"
      }
    },
    {
      "cell_type": "code",
      "source": [
        "# Chuyển đổi mỗi giá trị trong cột 'Đường' thành chuỗi và kiểm tra xem nó có phải là một danh sách không\n",
        "mask = df['Đường'].apply(lambda x: isinstance(x, list))\n",
        "\n",
        "# Đảo ngược mặt nạ để chọn các hàng mà giá trị trong cột 'Đường' không phải là một danh sách\n",
        "df = df[~mask]\n",
        "\n",
        "# Đặt lại chỉ mục\n",
        "df.reset_index(drop=True, inplace=True)"
      ],
      "metadata": {
        "id": "kNQjlBlJHfLP"
      },
      "execution_count": 13,
      "outputs": []
    },
    {
      "cell_type": "code",
      "source": [
        "print(df['Đường'])"
      ],
      "metadata": {
        "colab": {
          "base_uri": "https://localhost:8080/"
        },
        "id": "30mJk1peHlY2",
        "outputId": "a03bf6e1-343d-49eb-849f-29eab28e0fa6"
      },
      "execution_count": 14,
      "outputs": [
        {
          "output_type": "stream",
          "name": "stdout",
          "text": [
            "0          Đường Hoàng Quốc Việt\n",
            "1                Đường Kim Giang\n",
            "2                  phố minh khai\n",
            "3                 Đường Võng Thị\n",
            "4                Đường Kim Giang\n",
            "                  ...           \n",
            "75809          Đường Hồ Tùng Mậu\n",
            "75810       Đường Trần Quốc Hoàn\n",
            "75811    Đường Nguyễn Khánh Toàn\n",
            "75812             Đường Quan Hoa\n",
            "75813          Đường Hồ Tùng Mậu\n",
            "Name: Đường, Length: 75814, dtype: object\n"
          ]
        }
      ]
    },
    {
      "cell_type": "markdown",
      "source": [
        "Để tránh các tên đường có cách gọi khác nhau, chúng ta sẽ chuyển các kí tự viết hoa thành viết thường và xóa \"đường \" hoặc \"phố \" ở đầu chuỗi. Việc trên làm một vài hàng bị xóa đi, ta cần đặt lại chỉ mục (thứ tự)."
      ],
      "metadata": {
        "id": "img1h8W_zybN"
      }
    },
    {
      "cell_type": "code",
      "source": [
        "# Đổi các kí tự viết hoa thành viết thường\n",
        "df['Đường'] = df['Đường'].str.lower()\n",
        "\n",
        "# Loại bỏ 'đường ' hoặc 'phố ' từ đầu của các chuỗi\n",
        "df.loc[:, 'Đường'] = df['Đường'].str.replace('^đường |^phố ', '', regex=True)\n",
        "\n",
        "# Đặt lại chỉ mục nếu cần\n",
        "df.reset_index(drop=True, inplace=True)"
      ],
      "metadata": {
        "id": "lajnv-fJbuZC",
        "colab": {
          "base_uri": "https://localhost:8080/"
        },
        "outputId": "f383d9e5-e7c3-412c-debb-ae8c08339e94"
      },
      "execution_count": 15,
      "outputs": [
        {
          "output_type": "stream",
          "name": "stderr",
          "text": [
            "<ipython-input-15-bf397e33dc09>:2: SettingWithCopyWarning: \n",
            "A value is trying to be set on a copy of a slice from a DataFrame.\n",
            "Try using .loc[row_indexer,col_indexer] = value instead\n",
            "\n",
            "See the caveats in the documentation: https://pandas.pydata.org/pandas-docs/stable/user_guide/indexing.html#returning-a-view-versus-a-copy\n",
            "  df['Đường'] = df['Đường'].str.lower()\n"
          ]
        }
      ]
    },
    {
      "cell_type": "code",
      "source": [
        "print(df['Đường'])"
      ],
      "metadata": {
        "colab": {
          "base_uri": "https://localhost:8080/"
        },
        "id": "Uf9Nw12waRUl",
        "outputId": "afcc4e9a-4b98-47da-d209-4c6efaf3a93d"
      },
      "execution_count": 16,
      "outputs": [
        {
          "output_type": "stream",
          "name": "stdout",
          "text": [
            "0          hoàng quốc việt\n",
            "1                kim giang\n",
            "2                minh khai\n",
            "3                 võng thị\n",
            "4                kim giang\n",
            "               ...        \n",
            "75809          hồ tùng mậu\n",
            "75810       trần quốc hoàn\n",
            "75811    nguyễn khánh toàn\n",
            "75812             quan hoa\n",
            "75813          hồ tùng mậu\n",
            "Name: Đường, Length: 75814, dtype: object\n"
          ]
        }
      ]
    },
    {
      "cell_type": "markdown",
      "source": [
        "Dòng code này sử dụng LabelEncoder từ thư viện sklearn.preprocessing để chuyển đổi các giá trị trong các cột 'Đường', 'Quận', 'Huyện', và 'Loại hình nhà ở' từ dạng chuỗi sang dạng số.\n",
        "\n",
        "Giải thích thư viện: **Scikit-learn** (`from sklearn.preprocessing import LabelEncoder`):\n",
        "   - **Mục đích**: Thư viện mạnh mẽ cho học máy và khai phá dữ liệu.\n",
        "   - **Chức năng**:\n",
        "     - `LabelEncoder`: Chuyển đổi các nhãn văn bản thành các số nguyên duy nhất, giúp mô hình học máy dễ dàng xử lý các dữ liệu phân loại.\n",
        "\n",
        "Vì các mô hình máy học chỉ xử lý được dữ liệu số, ta cần dùng LabelEncoder để mã hóa các biến phân loại thành các số nguyên. Cụ thể, mỗi giá trị trong cột sẽ được ánh xạ tới một số nguyên duy nhất.\n",
        "\n",
        "Ví dụ:\n",
        "*   Quận Hoàn Kiếm -> 1\n",
        "*   Quận Hai Bà Trưng -> 2\n",
        "*   Quận Đống Đa -> 3\n",
        "*   Quận Hoàn Kiếm -> 1\n",
        "\n",
        "\n"
      ],
      "metadata": {
        "id": "K27KoH2O0VVc"
      }
    },
    {
      "cell_type": "code",
      "source": [
        "from sklearn.preprocessing import LabelEncoder\n",
        "\n",
        "# Khởi tạo LabelEncoder\n",
        "duong_label_encoder = LabelEncoder()\n",
        "quan_label_encoder = LabelEncoder()\n",
        "huyen_label_encoder = LabelEncoder()\n",
        "loai_hinh_nha_o_label_encoder = LabelEncoder()\n",
        "\n",
        "# Chuyển đổi cột 'Địa chỉ'\n",
        "duong_label_encoder.fit(df['Đường'])\n",
        "df['Đường'] = duong_label_encoder.transform(df['Đường'])\n",
        "\n",
        "# Chuyển đổi cột 'Quận'\n",
        "quan_label_encoder.fit(df['Quận'])\n",
        "df['Quận'] = quan_label_encoder.fit_transform(df['Quận'])\n",
        "\n",
        "# Chuyển đổi cột 'Huyện'\n",
        "huyen_label_encoder.fit(df['Huyện'])\n",
        "df['Huyện'] = huyen_label_encoder.fit_transform(df['Huyện'])\n",
        "\n",
        "# Chuyển đổi cột 'Loại hình nhà ở'\n",
        "loai_hinh_nha_o_label_encoder.fit(df['Loại hình nhà ở'])\n",
        "df['Loại hình nhà ở'] = loai_hinh_nha_o_label_encoder.fit_transform(df['Loại hình nhà ở'])"
      ],
      "metadata": {
        "id": "yAmkEw3scPNX"
      },
      "execution_count": 17,
      "outputs": []
    },
    {
      "cell_type": "markdown",
      "source": [
        "Với mục đích tương tự ở trên, ta cần chuyển các dữ liệu chữ trong các cột \"Số phòng ngủ\", \"Diện tích\", \"Giá/m2\" thành số."
      ],
      "metadata": {
        "id": "tcILLKh30ivM"
      }
    },
    {
      "cell_type": "code",
      "source": [
        "# Chuyển các cột thành kiểu dữ liệu chuỗi (string) nếu chưa\n",
        "df['Số phòng ngủ'] = df['Số phòng ngủ'].astype(str)\n",
        "df['Diện tích'] = df['Diện tích'].astype(str)\n",
        "df['Giá/m2'] = df['Giá/m2'].astype(str)\n",
        "\n",
        "# Trích xuất giá trị bên trái của \" phòng\" từ cột \"Số phòng ngủ\"\n",
        "df['Số phòng ngủ'] = df['Số phòng ngủ'].str.extract(r'(\\d+,\\d+|\\d+)\\s*phòng')[0].astype(int)\n",
        "\n",
        "# Trích xuất giá trị bên trái của \" phòng\" từ cột \"Diện tích\"\n",
        "df['Diện tích'] = df['Diện tích'].str.extract(r'(\\d+,\\d+|\\d+)\\s*m²')[0].astype(int)\n",
        "\n",
        "# Trích xuất giá trị bên trái của \" triệu/m²\" từ cột \"Giá/m2\"\n",
        "df['Giá/m2'] = df['Giá/m2'].str.extract(r'(\\d+,\\d+|\\d+)\\s*triệu/m²')[0].str.replace(',', '.').astype(float)"
      ],
      "metadata": {
        "id": "JfwvsfblINju"
      },
      "execution_count": 18,
      "outputs": []
    },
    {
      "cell_type": "code",
      "source": [
        "display(df.head())"
      ],
      "metadata": {
        "colab": {
          "base_uri": "https://localhost:8080/",
          "height": 206
        },
        "id": "KpesOeSYcYSw",
        "outputId": "cc5ac4d0-d787-494b-c1ae-c37157a54902"
      },
      "execution_count": 19,
      "outputs": [
        {
          "output_type": "display_data",
          "data": {
            "text/plain": [
              "   Unnamed: 0        Ngày                                            Địa chỉ  \\\n",
              "0         0.0  2020-08-05  Đường Hoàng Quốc Việt, Phường Nghĩa Đô, Quận C...   \n",
              "1         1.0  2020-08-05  Đường Kim Giang, Phường Kim Giang, Quận Thanh ...   \n",
              "2         2.0  2020-08-05  phố minh khai, Phường Minh Khai, Quận Hai Bà T...   \n",
              "3         3.0  2020-08-05  Đường Võng Thị, Phường Thụy Khuê, Quận Tây Hồ,...   \n",
              "4         4.0  2020-08-05  Đường Kim Giang, Phường Kim Giang, Quận Thanh ...   \n",
              "\n",
              "   Quận  Huyện  Loại hình nhà ở  Số phòng ngủ  Diện tích  Giá/m2  Đường  \n",
              "0    17     65                2             5         46   86.96    267  \n",
              "1    24     43                1             3         37  116.22    400  \n",
              "2    18     58                2             4         40   65.00    529  \n",
              "3    25    120                2             6         51  100.00   1090  \n",
              "4    24     43                2             4         36   86.11    400  "
            ],
            "text/html": [
              "\n",
              "  <div id=\"df-25971f05-ab6b-48d0-8173-3577ce87f23d\" class=\"colab-df-container\">\n",
              "    <div>\n",
              "<style scoped>\n",
              "    .dataframe tbody tr th:only-of-type {\n",
              "        vertical-align: middle;\n",
              "    }\n",
              "\n",
              "    .dataframe tbody tr th {\n",
              "        vertical-align: top;\n",
              "    }\n",
              "\n",
              "    .dataframe thead th {\n",
              "        text-align: right;\n",
              "    }\n",
              "</style>\n",
              "<table border=\"1\" class=\"dataframe\">\n",
              "  <thead>\n",
              "    <tr style=\"text-align: right;\">\n",
              "      <th></th>\n",
              "      <th>Unnamed: 0</th>\n",
              "      <th>Ngày</th>\n",
              "      <th>Địa chỉ</th>\n",
              "      <th>Quận</th>\n",
              "      <th>Huyện</th>\n",
              "      <th>Loại hình nhà ở</th>\n",
              "      <th>Số phòng ngủ</th>\n",
              "      <th>Diện tích</th>\n",
              "      <th>Giá/m2</th>\n",
              "      <th>Đường</th>\n",
              "    </tr>\n",
              "  </thead>\n",
              "  <tbody>\n",
              "    <tr>\n",
              "      <th>0</th>\n",
              "      <td>0.0</td>\n",
              "      <td>2020-08-05</td>\n",
              "      <td>Đường Hoàng Quốc Việt, Phường Nghĩa Đô, Quận C...</td>\n",
              "      <td>17</td>\n",
              "      <td>65</td>\n",
              "      <td>2</td>\n",
              "      <td>5</td>\n",
              "      <td>46</td>\n",
              "      <td>86.96</td>\n",
              "      <td>267</td>\n",
              "    </tr>\n",
              "    <tr>\n",
              "      <th>1</th>\n",
              "      <td>1.0</td>\n",
              "      <td>2020-08-05</td>\n",
              "      <td>Đường Kim Giang, Phường Kim Giang, Quận Thanh ...</td>\n",
              "      <td>24</td>\n",
              "      <td>43</td>\n",
              "      <td>1</td>\n",
              "      <td>3</td>\n",
              "      <td>37</td>\n",
              "      <td>116.22</td>\n",
              "      <td>400</td>\n",
              "    </tr>\n",
              "    <tr>\n",
              "      <th>2</th>\n",
              "      <td>2.0</td>\n",
              "      <td>2020-08-05</td>\n",
              "      <td>phố minh khai, Phường Minh Khai, Quận Hai Bà T...</td>\n",
              "      <td>18</td>\n",
              "      <td>58</td>\n",
              "      <td>2</td>\n",
              "      <td>4</td>\n",
              "      <td>40</td>\n",
              "      <td>65.00</td>\n",
              "      <td>529</td>\n",
              "    </tr>\n",
              "    <tr>\n",
              "      <th>3</th>\n",
              "      <td>3.0</td>\n",
              "      <td>2020-08-05</td>\n",
              "      <td>Đường Võng Thị, Phường Thụy Khuê, Quận Tây Hồ,...</td>\n",
              "      <td>25</td>\n",
              "      <td>120</td>\n",
              "      <td>2</td>\n",
              "      <td>6</td>\n",
              "      <td>51</td>\n",
              "      <td>100.00</td>\n",
              "      <td>1090</td>\n",
              "    </tr>\n",
              "    <tr>\n",
              "      <th>4</th>\n",
              "      <td>4.0</td>\n",
              "      <td>2020-08-05</td>\n",
              "      <td>Đường Kim Giang, Phường Kim Giang, Quận Thanh ...</td>\n",
              "      <td>24</td>\n",
              "      <td>43</td>\n",
              "      <td>2</td>\n",
              "      <td>4</td>\n",
              "      <td>36</td>\n",
              "      <td>86.11</td>\n",
              "      <td>400</td>\n",
              "    </tr>\n",
              "  </tbody>\n",
              "</table>\n",
              "</div>\n",
              "    <div class=\"colab-df-buttons\">\n",
              "\n",
              "  <div class=\"colab-df-container\">\n",
              "    <button class=\"colab-df-convert\" onclick=\"convertToInteractive('df-25971f05-ab6b-48d0-8173-3577ce87f23d')\"\n",
              "            title=\"Convert this dataframe to an interactive table.\"\n",
              "            style=\"display:none;\">\n",
              "\n",
              "  <svg xmlns=\"http://www.w3.org/2000/svg\" height=\"24px\" viewBox=\"0 -960 960 960\">\n",
              "    <path d=\"M120-120v-720h720v720H120Zm60-500h600v-160H180v160Zm220 220h160v-160H400v160Zm0 220h160v-160H400v160ZM180-400h160v-160H180v160Zm440 0h160v-160H620v160ZM180-180h160v-160H180v160Zm440 0h160v-160H620v160Z\"/>\n",
              "  </svg>\n",
              "    </button>\n",
              "\n",
              "  <style>\n",
              "    .colab-df-container {\n",
              "      display:flex;\n",
              "      gap: 12px;\n",
              "    }\n",
              "\n",
              "    .colab-df-convert {\n",
              "      background-color: #E8F0FE;\n",
              "      border: none;\n",
              "      border-radius: 50%;\n",
              "      cursor: pointer;\n",
              "      display: none;\n",
              "      fill: #1967D2;\n",
              "      height: 32px;\n",
              "      padding: 0 0 0 0;\n",
              "      width: 32px;\n",
              "    }\n",
              "\n",
              "    .colab-df-convert:hover {\n",
              "      background-color: #E2EBFA;\n",
              "      box-shadow: 0px 1px 2px rgba(60, 64, 67, 0.3), 0px 1px 3px 1px rgba(60, 64, 67, 0.15);\n",
              "      fill: #174EA6;\n",
              "    }\n",
              "\n",
              "    .colab-df-buttons div {\n",
              "      margin-bottom: 4px;\n",
              "    }\n",
              "\n",
              "    [theme=dark] .colab-df-convert {\n",
              "      background-color: #3B4455;\n",
              "      fill: #D2E3FC;\n",
              "    }\n",
              "\n",
              "    [theme=dark] .colab-df-convert:hover {\n",
              "      background-color: #434B5C;\n",
              "      box-shadow: 0px 1px 3px 1px rgba(0, 0, 0, 0.15);\n",
              "      filter: drop-shadow(0px 1px 2px rgba(0, 0, 0, 0.3));\n",
              "      fill: #FFFFFF;\n",
              "    }\n",
              "  </style>\n",
              "\n",
              "    <script>\n",
              "      const buttonEl =\n",
              "        document.querySelector('#df-25971f05-ab6b-48d0-8173-3577ce87f23d button.colab-df-convert');\n",
              "      buttonEl.style.display =\n",
              "        google.colab.kernel.accessAllowed ? 'block' : 'none';\n",
              "\n",
              "      async function convertToInteractive(key) {\n",
              "        const element = document.querySelector('#df-25971f05-ab6b-48d0-8173-3577ce87f23d');\n",
              "        const dataTable =\n",
              "          await google.colab.kernel.invokeFunction('convertToInteractive',\n",
              "                                                    [key], {});\n",
              "        if (!dataTable) return;\n",
              "\n",
              "        const docLinkHtml = 'Like what you see? Visit the ' +\n",
              "          '<a target=\"_blank\" href=https://colab.research.google.com/notebooks/data_table.ipynb>data table notebook</a>'\n",
              "          + ' to learn more about interactive tables.';\n",
              "        element.innerHTML = '';\n",
              "        dataTable['output_type'] = 'display_data';\n",
              "        await google.colab.output.renderOutput(dataTable, element);\n",
              "        const docLink = document.createElement('div');\n",
              "        docLink.innerHTML = docLinkHtml;\n",
              "        element.appendChild(docLink);\n",
              "      }\n",
              "    </script>\n",
              "  </div>\n",
              "\n",
              "\n",
              "<div id=\"df-efac5c99-be87-4493-ae8e-baa6df21599c\">\n",
              "  <button class=\"colab-df-quickchart\" onclick=\"quickchart('df-efac5c99-be87-4493-ae8e-baa6df21599c')\"\n",
              "            title=\"Suggest charts\"\n",
              "            style=\"display:none;\">\n",
              "\n",
              "<svg xmlns=\"http://www.w3.org/2000/svg\" height=\"24px\"viewBox=\"0 0 24 24\"\n",
              "     width=\"24px\">\n",
              "    <g>\n",
              "        <path d=\"M19 3H5c-1.1 0-2 .9-2 2v14c0 1.1.9 2 2 2h14c1.1 0 2-.9 2-2V5c0-1.1-.9-2-2-2zM9 17H7v-7h2v7zm4 0h-2V7h2v10zm4 0h-2v-4h2v4z\"/>\n",
              "    </g>\n",
              "</svg>\n",
              "  </button>\n",
              "\n",
              "<style>\n",
              "  .colab-df-quickchart {\n",
              "      --bg-color: #E8F0FE;\n",
              "      --fill-color: #1967D2;\n",
              "      --hover-bg-color: #E2EBFA;\n",
              "      --hover-fill-color: #174EA6;\n",
              "      --disabled-fill-color: #AAA;\n",
              "      --disabled-bg-color: #DDD;\n",
              "  }\n",
              "\n",
              "  [theme=dark] .colab-df-quickchart {\n",
              "      --bg-color: #3B4455;\n",
              "      --fill-color: #D2E3FC;\n",
              "      --hover-bg-color: #434B5C;\n",
              "      --hover-fill-color: #FFFFFF;\n",
              "      --disabled-bg-color: #3B4455;\n",
              "      --disabled-fill-color: #666;\n",
              "  }\n",
              "\n",
              "  .colab-df-quickchart {\n",
              "    background-color: var(--bg-color);\n",
              "    border: none;\n",
              "    border-radius: 50%;\n",
              "    cursor: pointer;\n",
              "    display: none;\n",
              "    fill: var(--fill-color);\n",
              "    height: 32px;\n",
              "    padding: 0;\n",
              "    width: 32px;\n",
              "  }\n",
              "\n",
              "  .colab-df-quickchart:hover {\n",
              "    background-color: var(--hover-bg-color);\n",
              "    box-shadow: 0 1px 2px rgba(60, 64, 67, 0.3), 0 1px 3px 1px rgba(60, 64, 67, 0.15);\n",
              "    fill: var(--button-hover-fill-color);\n",
              "  }\n",
              "\n",
              "  .colab-df-quickchart-complete:disabled,\n",
              "  .colab-df-quickchart-complete:disabled:hover {\n",
              "    background-color: var(--disabled-bg-color);\n",
              "    fill: var(--disabled-fill-color);\n",
              "    box-shadow: none;\n",
              "  }\n",
              "\n",
              "  .colab-df-spinner {\n",
              "    border: 2px solid var(--fill-color);\n",
              "    border-color: transparent;\n",
              "    border-bottom-color: var(--fill-color);\n",
              "    animation:\n",
              "      spin 1s steps(1) infinite;\n",
              "  }\n",
              "\n",
              "  @keyframes spin {\n",
              "    0% {\n",
              "      border-color: transparent;\n",
              "      border-bottom-color: var(--fill-color);\n",
              "      border-left-color: var(--fill-color);\n",
              "    }\n",
              "    20% {\n",
              "      border-color: transparent;\n",
              "      border-left-color: var(--fill-color);\n",
              "      border-top-color: var(--fill-color);\n",
              "    }\n",
              "    30% {\n",
              "      border-color: transparent;\n",
              "      border-left-color: var(--fill-color);\n",
              "      border-top-color: var(--fill-color);\n",
              "      border-right-color: var(--fill-color);\n",
              "    }\n",
              "    40% {\n",
              "      border-color: transparent;\n",
              "      border-right-color: var(--fill-color);\n",
              "      border-top-color: var(--fill-color);\n",
              "    }\n",
              "    60% {\n",
              "      border-color: transparent;\n",
              "      border-right-color: var(--fill-color);\n",
              "    }\n",
              "    80% {\n",
              "      border-color: transparent;\n",
              "      border-right-color: var(--fill-color);\n",
              "      border-bottom-color: var(--fill-color);\n",
              "    }\n",
              "    90% {\n",
              "      border-color: transparent;\n",
              "      border-bottom-color: var(--fill-color);\n",
              "    }\n",
              "  }\n",
              "</style>\n",
              "\n",
              "  <script>\n",
              "    async function quickchart(key) {\n",
              "      const quickchartButtonEl =\n",
              "        document.querySelector('#' + key + ' button');\n",
              "      quickchartButtonEl.disabled = true;  // To prevent multiple clicks.\n",
              "      quickchartButtonEl.classList.add('colab-df-spinner');\n",
              "      try {\n",
              "        const charts = await google.colab.kernel.invokeFunction(\n",
              "            'suggestCharts', [key], {});\n",
              "      } catch (error) {\n",
              "        console.error('Error during call to suggestCharts:', error);\n",
              "      }\n",
              "      quickchartButtonEl.classList.remove('colab-df-spinner');\n",
              "      quickchartButtonEl.classList.add('colab-df-quickchart-complete');\n",
              "    }\n",
              "    (() => {\n",
              "      let quickchartButtonEl =\n",
              "        document.querySelector('#df-efac5c99-be87-4493-ae8e-baa6df21599c button');\n",
              "      quickchartButtonEl.style.display =\n",
              "        google.colab.kernel.accessAllowed ? 'block' : 'none';\n",
              "    })();\n",
              "  </script>\n",
              "</div>\n",
              "\n",
              "    </div>\n",
              "  </div>\n"
            ],
            "application/vnd.google.colaboratory.intrinsic+json": {
              "type": "dataframe",
              "summary": "{\n  \"name\": \"display(df\",\n  \"rows\": 5,\n  \"fields\": [\n    {\n      \"column\": \"Unnamed: 0\",\n      \"properties\": {\n        \"dtype\": \"number\",\n        \"std\": 1.5811388300841898,\n        \"min\": 0.0,\n        \"max\": 4.0,\n        \"num_unique_values\": 5,\n        \"samples\": [\n          1.0,\n          4.0,\n          2.0\n        ],\n        \"semantic_type\": \"\",\n        \"description\": \"\"\n      }\n    },\n    {\n      \"column\": \"Ng\\u00e0y\",\n      \"properties\": {\n        \"dtype\": \"object\",\n        \"num_unique_values\": 1,\n        \"samples\": [\n          \"2020-08-05\"\n        ],\n        \"semantic_type\": \"\",\n        \"description\": \"\"\n      }\n    },\n    {\n      \"column\": \"\\u0110\\u1ecba ch\\u1ec9\",\n      \"properties\": {\n        \"dtype\": \"string\",\n        \"num_unique_values\": 4,\n        \"samples\": [\n          \"\\u0110\\u01b0\\u1eddng Kim Giang, Ph\\u01b0\\u1eddng Kim Giang, Qu\\u1eadn Thanh Xu\\u00e2n, H\\u00e0 N\\u1ed9i\"\n        ],\n        \"semantic_type\": \"\",\n        \"description\": \"\"\n      }\n    },\n    {\n      \"column\": \"Qu\\u1eadn\",\n      \"properties\": {\n        \"dtype\": \"number\",\n        \"std\": 3,\n        \"min\": 17,\n        \"max\": 25,\n        \"num_unique_values\": 4,\n        \"samples\": [\n          24\n        ],\n        \"semantic_type\": \"\",\n        \"description\": \"\"\n      }\n    },\n    {\n      \"column\": \"Huy\\u1ec7n\",\n      \"properties\": {\n        \"dtype\": \"number\",\n        \"std\": 31,\n        \"min\": 43,\n        \"max\": 120,\n        \"num_unique_values\": 4,\n        \"samples\": [\n          43\n        ],\n        \"semantic_type\": \"\",\n        \"description\": \"\"\n      }\n    },\n    {\n      \"column\": \"Lo\\u1ea1i h\\u00ecnh nh\\u00e0 \\u1edf\",\n      \"properties\": {\n        \"dtype\": \"number\",\n        \"std\": 0,\n        \"min\": 1,\n        \"max\": 2,\n        \"num_unique_values\": 2,\n        \"samples\": [\n          1\n        ],\n        \"semantic_type\": \"\",\n        \"description\": \"\"\n      }\n    },\n    {\n      \"column\": \"S\\u1ed1 ph\\u00f2ng ng\\u1ee7\",\n      \"properties\": {\n        \"dtype\": \"number\",\n        \"std\": 1,\n        \"min\": 3,\n        \"max\": 6,\n        \"num_unique_values\": 4,\n        \"samples\": [\n          3\n        ],\n        \"semantic_type\": \"\",\n        \"description\": \"\"\n      }\n    },\n    {\n      \"column\": \"Di\\u1ec7n t\\u00edch\",\n      \"properties\": {\n        \"dtype\": \"number\",\n        \"std\": 6,\n        \"min\": 36,\n        \"max\": 51,\n        \"num_unique_values\": 5,\n        \"samples\": [\n          37\n        ],\n        \"semantic_type\": \"\",\n        \"description\": \"\"\n      }\n    },\n    {\n      \"column\": \"Gi\\u00e1/m2\",\n      \"properties\": {\n        \"dtype\": \"number\",\n        \"std\": 18.928690393157154,\n        \"min\": 65.0,\n        \"max\": 116.22,\n        \"num_unique_values\": 5,\n        \"samples\": [\n          116.22\n        ],\n        \"semantic_type\": \"\",\n        \"description\": \"\"\n      }\n    },\n    {\n      \"column\": \"\\u0110\\u01b0\\u1eddng\",\n      \"properties\": {\n        \"dtype\": \"number\",\n        \"std\": 322,\n        \"min\": 267,\n        \"max\": 1090,\n        \"num_unique_values\": 4,\n        \"samples\": [\n          400\n        ],\n        \"semantic_type\": \"\",\n        \"description\": \"\"\n      }\n    }\n  ]\n}"
            }
          },
          "metadata": {}
        }
      ]
    },
    {
      "cell_type": "markdown",
      "source": [
        "Vì cột Giá/m2 chứa vài dữ liệu khác với format \"n triệu/m2\", ta cần loại bỏ chúng."
      ],
      "metadata": {
        "id": "EDA-RjCi0w9I"
      }
    },
    {
      "cell_type": "code",
      "source": [
        "# Kiểm tra nếu dữ liệu có data null (rỗng)\n",
        "print(df.isnull().sum())"
      ],
      "metadata": {
        "colab": {
          "base_uri": "https://localhost:8080/"
        },
        "id": "UDRDFYedJtge",
        "outputId": "b73c2ca7-3e2c-4a95-d1d6-b12777587981"
      },
      "execution_count": 20,
      "outputs": [
        {
          "output_type": "stream",
          "name": "stdout",
          "text": [
            "Unnamed: 0           0\n",
            "Ngày                 0\n",
            "Địa chỉ              0\n",
            "Quận                 0\n",
            "Huyện                0\n",
            "Loại hình nhà ở      0\n",
            "Số phòng ngủ         0\n",
            "Diện tích            0\n",
            "Giá/m2             740\n",
            "Đường                0\n",
            "dtype: int64\n"
          ]
        }
      ]
    },
    {
      "cell_type": "code",
      "source": [
        "# Loại bỏ các hàng có giá trị null\n",
        "df = df.dropna()"
      ],
      "metadata": {
        "id": "d_FY0WH-KMsz"
      },
      "execution_count": 21,
      "outputs": []
    },
    {
      "cell_type": "markdown",
      "source": [
        "Sau khi chuyển hết thành số, ta bỏ các cột không cần thiết.\n",
        "* 'Unnamed: 0':\n",
        "* 'Ngày': vì các ngày đăng thông tin bất động sản đều trong 2020, nó không ảnh hường nhiều đến giá nhà.\n",
        "* 'Địa chỉ': chúng ta đã tách đường, huyện, quận nên cột này không còn cần thiết."
      ],
      "metadata": {
        "id": "jdXj10Ef0_Se"
      }
    },
    {
      "cell_type": "code",
      "source": [
        "df = df.drop(['Unnamed: 0', 'Ngày', 'Địa chỉ'],axis=1)"
      ],
      "metadata": {
        "id": "IfjzO0cbLaRy"
      },
      "execution_count": 22,
      "outputs": []
    },
    {
      "cell_type": "code",
      "source": [
        "print(df.head())"
      ],
      "metadata": {
        "colab": {
          "base_uri": "https://localhost:8080/"
        },
        "id": "o6r4Y02ALpA0",
        "outputId": "bcc019f6-7ce8-4e7f-a982-9c5b7f37c8fc"
      },
      "execution_count": 23,
      "outputs": [
        {
          "output_type": "stream",
          "name": "stdout",
          "text": [
            "   Quận  Huyện  Loại hình nhà ở  Số phòng ngủ  Diện tích  Giá/m2  Đường\n",
            "0    17     65                2             5         46   86.96    267\n",
            "1    24     43                1             3         37  116.22    400\n",
            "2    18     58                2             4         40   65.00    529\n",
            "3    25    120                2             6         51  100.00   1090\n",
            "4    24     43                2             4         36   86.11    400\n"
          ]
        }
      ]
    },
    {
      "cell_type": "markdown",
      "source": [
        "Dòng code df.describe(include=\"all\").transpose() tạo ra một tóm tắt thống kê cho tất cả các cột trong DataFrame df, bao gồm các thống kê mô tả như mean (trung bình), std (độ lệch chuẩn), min (giá trị nhỏ nhất), max (giá trị lớn nhất), và các phân vị (percentiles) cho dữ liệu số, cũng như số lượng giá trị duy nhất (unique) và mode (giá trị xuất hiện nhiều nhất) cho dữ liệu categorical.\n",
        "\n",
        "Bằng cách sử dụng include=\"all\", chúng ta đảm bảo rằng tất cả các loại dữ liệu, bao gồm cả dữ liệu số và categorical, đều được bao gồm trong tóm tắt thống kê. Điều này giúp chúng ta hiểu rõ hơn về phân phối của dữ liệu và đặc tính của từng cột trong DataFrame."
      ],
      "metadata": {
        "id": "flpX8XDAyF8D"
      }
    },
    {
      "cell_type": "code",
      "source": [
        "# Hàm describe() tạo một tóm tắt thống kê của DataFrame df, bao gồm các thống kê mô tả cho tất cả các cột\n",
        "print(df.describe(include=\"all\").transpose())"
      ],
      "metadata": {
        "colab": {
          "base_uri": "https://localhost:8080/"
        },
        "id": "V6XDtkpkMGqY",
        "outputId": "01a6c4df-8186-49c9-ea6b-50e179fc21b2"
      },
      "execution_count": 24,
      "outputs": [
        {
          "output_type": "stream",
          "name": "stdout",
          "text": [
            "                   count        mean         std  min     25%    50%     75%  \\\n",
            "Quận             75074.0   20.976170    4.039075  0.0   18.00   21.0   24.00   \n",
            "Huyện            75074.0   85.577444   53.294433  0.0   42.00   75.0  129.00   \n",
            "Loại hình nhà ở  75074.0    1.792858    0.476308  0.0    2.00    2.0    2.00   \n",
            "Số phòng ngủ     75074.0    3.872499    1.449791  1.0    3.00    4.0    4.00   \n",
            "Diện tích        75074.0   47.418760   62.888960  1.0   34.00   40.0   50.00   \n",
            "Giá/m2           75074.0  103.223247   63.684960  1.0   73.68   90.0  111.11   \n",
            "Đường            75074.0  660.826478  357.945091  0.0  392.00  621.0  963.00   \n",
            "\n",
            "                     max  \n",
            "Quận                27.0  \n",
            "Huyện              290.0  \n",
            "Loại hình nhà ở      3.0  \n",
            "Số phòng ngủ        10.0  \n",
            "Diện tích        10360.0  \n",
            "Giá/m2             998.0  \n",
            "Đường             1290.0  \n"
          ]
        }
      ]
    },
    {
      "cell_type": "markdown",
      "source": [
        "Đoạn mã này tạo hai mảng x và y từ DataFrame df như sau:\n",
        "* x chứa dữ liệu tất cả các cột trừ 'Giá/m2', được lấy giá trị bằng phương thức .values. Đây là các đặc trưng (features) mà mô hình sẽ sử dụng để dự đoán giá trị 'Giá/m2'.\n",
        "* y chứa dữ liệu từ cột 'Giá/m2, được lấy giá trị bằng phương thức .values. Đây là giá trị mục tiêu (target) mà mô hình cần học để dự đoán."
      ],
      "metadata": {
        "id": "ZKJXgH3tPUPs"
      }
    },
    {
      "cell_type": "code",
      "source": [
        "# Tách các cột thành original_x và original_y\n",
        "y = df.iloc[:, 4].values\n",
        "x = df.iloc[:, df.columns != 'Giá/m2'].values"
      ],
      "metadata": {
        "id": "2nSUmbZtMsge"
      },
      "execution_count": 25,
      "outputs": []
    },
    {
      "cell_type": "markdown",
      "source": [
        "In kích thước của original_x và original_y"
      ],
      "metadata": {
        "id": "ieJAl8XrPsbR"
      }
    },
    {
      "cell_type": "code",
      "source": [
        "print(x)"
      ],
      "metadata": {
        "colab": {
          "base_uri": "https://localhost:8080/"
        },
        "id": "SbR7fJSwvryn",
        "outputId": "0c005b90-aced-4124-b337-c4cdde8977a6"
      },
      "execution_count": 26,
      "outputs": [
        {
          "output_type": "stream",
          "name": "stdout",
          "text": [
            "[[ 17  65   2   5  46 267]\n",
            " [ 24  43   1   3  37 400]\n",
            " [ 18  58   2   4  40 529]\n",
            " ...\n",
            " [ 17  98   1   4  41 600]\n",
            " [ 17  98   2   4  60 779]\n",
            " [ 17  56   3   4  45 365]]\n"
          ]
        }
      ]
    },
    {
      "cell_type": "code",
      "source": [
        "print(\"X shape: \" + str(x.shape))\n",
        "print(\"Y shape: \" + str(y.shape))"
      ],
      "metadata": {
        "colab": {
          "base_uri": "https://localhost:8080/"
        },
        "id": "Nuzw6KIePm4E",
        "outputId": "9eae2634-acd0-432c-a9c8-845bf48e890d"
      },
      "execution_count": 27,
      "outputs": [
        {
          "output_type": "stream",
          "name": "stdout",
          "text": [
            "X shape: (75074, 6)\n",
            "Y shape: (75074,)\n"
          ]
        }
      ]
    },
    {
      "cell_type": "markdown",
      "source": [
        "Để chuẩn bị cho bài tập dưới, chúng ta sẽ import thư viện numpy và Scikit-learn.\n",
        "\n",
        "Giải thích thư viện: **NumPy** (`import numpy as np`):\n",
        "   - **Mục đích**: NumPy là thư viện nền tảng cho tính toán khoa học trong Python.\n",
        "   - **Chức năng chính**: Cung cấp các mảng (arrays) và ma trận (matrices) đa chiều hiệu suất cao, cùng với các hàm toán học để thao tác với chúng.\n",
        "\n",
        "Giải thích thư viện: **Scikit-learn** (`from sklearn.preprocessing import LabelEncoder`, `from sklearn.model_selection import train_test_split`):\n",
        "   - **Mục đích**: Thư viện mạnh mẽ cho học máy và khai phá dữ liệu.\n",
        "   - **Chức năng**:\n",
        "     - `train_test_split`: Chia dữ liệu thành tập huấn luyện và kiểm tra để đánh giá mô hình học máy."
      ],
      "metadata": {
        "id": "7je1kJk0UyLe"
      }
    },
    {
      "cell_type": "markdown",
      "source": [
        "Chia dữ liệu thành các tập huấn luyện và kiểm tra (training và test datasets) sử dụng hàm train_test_split() từ thư viện sklearn.model_selection theo tỉ lệ 70% cho training và 30% cho testing."
      ],
      "metadata": {
        "id": "jk8c80zWy4eN"
      }
    },
    {
      "cell_type": "code",
      "source": [
        "from sklearn.model_selection import train_test_split\n",
        "import numpy as np\n",
        "\n",
        "# Giả định rằng x_normalized và y đã được định nghĩa và chuẩn hóa trước đó\n",
        "# x_normalized: Ma trận đặc trưng đã được chuẩn hóa (normalized features matrix)\n",
        "# y: Vector mục tiêu (target vector)\n",
        "\n",
        "# Chia dữ liệu thành tập huấn luyện và tập kiểm tra\n",
        "# test_size=0.3: 30% dữ liệu được sử dụng cho tập kiểm tra\n",
        "# random_state=0: Đảm bảo rằng việc chia dữ liệu là ngẫu nhiên nhưng có thể tái lập\n",
        "X_train, X_test, y_train, y_test = train_test_split(x, y, test_size=0.3, random_state=0)\n",
        "\n",
        "# Output:\n",
        "# X_train: Ma trận đặc trưng cho tập huấn luyện\n",
        "# X_test: Ma trận đặc trưng cho tập kiểm tra\n",
        "# y_train: Vector mục tiêu cho tập huấn luyện\n",
        "# y_test: Vector mục tiêu cho tập kiểm tra"
      ],
      "metadata": {
        "id": "jXce36PvQgPV"
      },
      "execution_count": 28,
      "outputs": []
    },
    {
      "cell_type": "code",
      "source": [
        "# In ra kích thước của X_test\n",
        "print(X_train.shape)\n",
        "print(y_train.shape)\n",
        "print(X_test.shape)\n",
        "print(y_test.shape)"
      ],
      "metadata": {
        "colab": {
          "base_uri": "https://localhost:8080/"
        },
        "id": "56GlHfLqf0fO",
        "outputId": "b6f699dc-8d84-48df-e0f1-aa9d2a25beee"
      },
      "execution_count": 29,
      "outputs": [
        {
          "output_type": "stream",
          "name": "stdout",
          "text": [
            "(52551, 6)\n",
            "(52551,)\n",
            "(22523, 6)\n",
            "(22523,)\n"
          ]
        }
      ]
    },
    {
      "cell_type": "markdown",
      "source": [
        "# Các hàm ở bài tập trước"
      ],
      "metadata": {
        "id": "onILALe-inIX"
      }
    },
    {
      "cell_type": "markdown",
      "source": [
        "## Hàm ReLU"
      ],
      "metadata": {
        "id": "JXzcDZPqCtD7"
      }
    },
    {
      "cell_type": "markdown",
      "source": [
        "Hàm này là hàm kích hoạt ReLU (Rectified Linear Activation Function), được định nghĩa bằng công thức:\n",
        "\n",
        "ReLU(x) = max(0, x)\n",
        "\n",
        "Hàm này trả về giá trị của x nếu x lớn hơn hoặc bằng 0, và trả về 0 nếu x nhỏ hơn 0. Điều này làm cho hàm ReLU trở thành một hàm phi tuyến tính, giúp nó hoạt động tốt trong việc giải quyết vấn đề biến mất đạo hàm và tăng cường hiệu suất của mạng nơ-ron."
      ],
      "metadata": {
        "id": "rNw1YJEyCws2"
      }
    },
    {
      "cell_type": "code",
      "source": [
        "# Định nghĩa hàm kích hoạt ReLU\n",
        "def relu(x):\n",
        "    \"\"\"\n",
        "    Hàm kích hoạt ReLU (Rectified Linear Unit).\n",
        "\n",
        "    Hàm ReLU là một hàm phi tuyến tính thường được sử dụng trong các mạng neural.\n",
        "    Nó thay thế tất cả các giá trị âm trong đầu vào bằng 0 và giữ nguyên các giá trị dương.\n",
        "\n",
        "    Tham số:\n",
        "    x -- đầu vào dưới dạng mảng NumPy (numpy array), có thể là một số, vector, hoặc ma trận.\n",
        "\n",
        "    Trả về:\n",
        "    Hàm ReLU trả về mảng cùng kích thước với đầu vào, trong đó các giá trị âm đã bị thay thế bằng 0.\n",
        "    \"\"\"\n",
        "    return np.maximum(0, x)"
      ],
      "metadata": {
        "id": "2UY-CHgXAw-y"
      },
      "execution_count": 30,
      "outputs": []
    },
    {
      "cell_type": "markdown",
      "source": [
        "## Lan truyền xuôi\n",
        "Trong cell này, chúng ta định nghĩa hàm forward_propagation để thực hiện lan truyền xuôi cho một lớp của mạng neural. Hàm này tính toán đầu ra của lớp dựa trên đầu vào trước đó (A_prev), trọng số (W), bias (b), và hàm kích hoạt (activation)."
      ],
      "metadata": {
        "id": "kAsPXy-9EHze"
      }
    },
    {
      "cell_type": "markdown",
      "source": [
        "### Tính toán Z\n",
        "Z là tổng có trọng số của đầu vào trước đó (A_prev) nhân với trọng số (W) và cộng với bias (b)."
      ],
      "metadata": {
        "id": "bL47kkLJDszM"
      }
    },
    {
      "cell_type": "markdown",
      "source": [
        "### Hàm kích hoạt\n",
        "* Nếu hàm kích hoạt là relu, hàm relu sẽ được áp dụng cho Z.\n",
        "* Nếu hàm kích hoạt là linear, đầu ra A sẽ bằng Z. Điều này là do trong trường hợp hàm kích hoạt tuyến tính (linear), đầu ra của lớp chỉ đơn giản là tổng có trọng số của đầu vào mà không có bất kỳ hàm phi tuyến nào được áp dụng. Do đó, A = Z."
      ],
      "metadata": {
        "id": "ZnZFy3D8ECl3"
      }
    },
    {
      "cell_type": "code",
      "source": [
        "# Lan truyền xuôi (một lớp)\n",
        "def forward_propagation(A_prev, parameters, activation):\n",
        "    \"\"\"\n",
        "    Thực hiện lan truyền xuôi qua một lớp của mạng neural.\n",
        "\n",
        "    Hàm này tính toán giá trị kích hoạt đầu ra của một lớp trong mạng neural, dựa trên đầu vào và tham số của lớp đó.\n",
        "    Hàm kích hoạt có thể là ReLU hoặc Linear.\n",
        "\n",
        "    Tham số:\n",
        "    A_prev -- Đầu vào của lớp hiện tại, có thể là mảng NumPy với kích thước (số lượng đặc trưng, số lượng ví dụ).\n",
        "    parameters -- Dictionary chứa các tham số của lớp hiện tại:\n",
        "        - \"W\" -- Ma trận trọng số với kích thước (số lượng đơn vị lớp hiện tại, số lượng đơn vị lớp trước đó).\n",
        "        - \"b\" -- Vector bias với kích thước (số lượng đơn vị lớp hiện tại, 1).\n",
        "    activation -- Loại hàm kích hoạt, có thể là \"relu\" hoặc \"linear\".\n",
        "\n",
        "    Trả về:\n",
        "    A -- Giá trị kích hoạt đầu ra của lớp hiện tại, với kích thước giống như Z.\n",
        "    cache -- Dictionary chứa các giá trị cần thiết cho lan truyền ngược (backward propagation):\n",
        "        - \"Z\" -- Giá trị trước kích hoạt.\n",
        "        - \"A\" -- Giá trị sau kích hoạt (đầu ra của lớp).\n",
        "        - \"W\" -- Ma trận trọng số của lớp.\n",
        "        - \"A_prev\" -- Đầu vào của lớp hiện tại.\n",
        "    \"\"\"\n",
        "    W = parameters[\"W\"]\n",
        "    b = parameters[\"b\"]\n",
        "    Z = np.dot(W, A_prev) + b\n",
        "\n",
        "    if activation == \"relu\":\n",
        "        A = relu(Z)\n",
        "    elif activation == \"linear\":\n",
        "        A = Z\n",
        "    else:\n",
        "        raise ValueError(\"Hàm kích hoạt không được hỗ trợ\")\n",
        "\n",
        "    # Thêm A_prev vào cache\n",
        "    cache = {\"Z\": Z, \"A\": A, \"W\": W, \"A_prev\": A_prev}\n",
        "    return A, cache"
      ],
      "metadata": {
        "id": "QOTC0hWXA2pG"
      },
      "execution_count": 31,
      "outputs": []
    },
    {
      "cell_type": "markdown",
      "source": [
        "## Tính độ mất mát\n",
        "Trong cell này, chúng ta định nghĩa hàm compute_cost để tính toán độ mất mát của mô hình bằng phương pháp Mean Squared Error (MSE)."
      ],
      "metadata": {
        "id": "OqVV_UhDEf_m"
      }
    },
    {
      "cell_type": "code",
      "source": [
        "# Tính toán độ mất mát (mean squared error)\n",
        "def compute_cost(A, Y):\n",
        "    \"\"\"\n",
        "    Tính toán lỗi bình phương trung bình.\n",
        "\n",
        "    Tham số:\n",
        "    A -- Đầu ra của kích hoạt cuối cùng, có dạng (1, số lượng ví dụ)\n",
        "    Y -- vector nhãn \"thật\" có dạng (1, số lượng ví dụ)\n",
        "\n",
        "    Trả về:\n",
        "    cost -- lỗi bình phương trung bình\n",
        "    \"\"\"\n",
        "    m = Y.shape[1]\n",
        "    cost = (1.0 / m) * np.sum(np.square(A - Y))\n",
        "    return float(np.squeeze(cost))"
      ],
      "metadata": {
        "id": "HOoqX2hiBAsr"
      },
      "execution_count": 32,
      "outputs": []
    },
    {
      "cell_type": "markdown",
      "source": [
        "## Lan truyền ngược\n",
        "Trong cell này, chúng ta định nghĩa hàm backward_propagation để thực hiện lan truyền ngược cho một lớp của mạng neural. Lan truyền ngược giúp tính toán gradient của hàm mất mát đối với các tham số của mạng, qua đó cập nhật trọng số và bias để tối ưu hóa mô hình."
      ],
      "metadata": {
        "id": "PxEP5S50Fcas"
      }
    },
    {
      "cell_type": "code",
      "source": [
        "# Lan truyền ngược (một lớp)\n",
        "def backward_propagation(dA, cache, activation):\n",
        "    \"\"\"\n",
        "    Thực hiện lan truyền ngược qua một lớp của mạng neural.\n",
        "\n",
        "    Hàm này tính toán gradient của hàm mất mát đối với các tham số của lớp (trọng số và bias)\n",
        "    và gradient đối với đầu vào của lớp đó. Đây là bước cần thiết để cập nhật các tham số trong quá trình huấn luyện.\n",
        "\n",
        "    Tham số:\n",
        "    dA -- Gradient của hàm mất mát đối với đầu ra của lớp hiện tại, có kích thước (số lượng đơn vị lớp hiện tại, số lượng ví dụ).\n",
        "    cache -- Dictionary chứa các giá trị cần thiết cho lan truyền ngược, bao gồm:\n",
        "        - \"Z\" -- Giá trị trước kích hoạt của lớp hiện tại.\n",
        "        - \"A_prev\" -- Đầu vào của lớp hiện tại.\n",
        "        - \"W\" -- Trọng số của lớp hiện tại.\n",
        "        - \"A\" -- Đầu ra của lớp hiện tại sau khi áp dụng hàm kích hoạt.\n",
        "    activation -- Loại hàm kích hoạt, có thể là \"relu\" hoặc \"linear\".\n",
        "\n",
        "    Trả về:\n",
        "    dA_prev -- Gradient của hàm mất mát đối với đầu vào của lớp hiện tại, có kích thước (số lượng đặc trưng, số lượng ví dụ).\n",
        "    dW -- Gradient của hàm mất mát đối với ma trận trọng số của lớp hiện tại.\n",
        "    db -- Gradient của hàm mất mát đối với vector bias của lớp hiện tại.\n",
        "    \"\"\"\n",
        "    Z = cache[\"Z\"]\n",
        "\n",
        "    if activation == \"relu\":\n",
        "        dZ = np.array(dA, copy=True)\n",
        "        dZ[Z <= 0] = 0\n",
        "    elif activation == \"linear\":\n",
        "        dZ = dA  # Đối với kích hoạt tuyến tính, dZ = dA\n",
        "    else:\n",
        "        raise ValueError(\"Hàm kích hoạt không được hỗ trợ\")\n",
        "\n",
        "    A_prev = cache[\"A_prev\"]\n",
        "    m = A_prev.shape[1]\n",
        "\n",
        "    dW = (1 / m) * np.dot(dZ, A_prev.T)\n",
        "    db = (1 / m) * np.sum(dZ, axis=1, keepdims=True)\n",
        "    dA_prev = np.dot(cache[\"W\"].T, dZ)\n",
        "\n",
        "    return dA_prev, dW, db"
      ],
      "metadata": {
        "id": "I5h6TqSrBDVf"
      },
      "execution_count": 33,
      "outputs": []
    },
    {
      "cell_type": "markdown",
      "source": [
        "## Gradient Descent\n",
        "\n",
        "Gradient Descent là một phương pháp tối ưu hóa được sử dụng để giảm thiểu hàm mất mát của mô hình. Bằng cách cập nhật các tham số theo hướng của gradient âm của hàm mất mát, gradient descent giúp tìm kiếm các tham số tối ưu nhằm giảm thiểu giá trị của hàm mất mát."
      ],
      "metadata": {
        "id": "TE0EfyluERgf"
      }
    },
    {
      "cell_type": "code",
      "source": [
        "def update_parameters(parameters, grads, learning_rate):\n",
        "    \"\"\"\n",
        "    Cập nhật tham số sử dụng gradient descent với gradient clipping.\n",
        "\n",
        "    Tham số:\n",
        "    parameters -- dictionary chứa các tham số\n",
        "    grads -- dictionary chứa các gradient\n",
        "    learning_rate -- tốc độ học của quy tắc cập nhật gradient descent\n",
        "\n",
        "    Trả về:\n",
        "    parameters -- dictionary chứa các tham số đã được cập nhật\n",
        "    \"\"\"\n",
        "    W = parameters[\"W\"].astype(float)  # Ensure W is a float array\n",
        "    b = parameters[\"b\"].astype(float)  # Ensure b is a float array\n",
        "\n",
        "    dW = grads[\"dW\"]\n",
        "    db = grads[\"db\"]\n",
        "\n",
        "    W -= learning_rate * dW\n",
        "    b -= learning_rate * db\n",
        "\n",
        "    parameters = {\"W\": W, \"b\": b}\n",
        "    return parameters"
      ],
      "metadata": {
        "id": "or9PKIxIBINv"
      },
      "execution_count": 34,
      "outputs": []
    },
    {
      "cell_type": "markdown",
      "source": [
        "# BÀI TẬP: Khởi tạo thông số\n",
        "Trong cell này, chúng ta định nghĩa hàm initialize_parameters để khởi tạo các tham số cho một lớp của mạng neural. Hàm này sẽ khởi tạo trọng số (W) sử dụng phương pháp He Normal initialization và bias (b) với giá trị 0."
      ],
      "metadata": {
        "id": "JBepb2YfC00R"
      }
    },
    {
      "cell_type": "markdown",
      "source": [
        "Dưới đây là miêu tả đã được sửa đổi cho việc khởi tạo tham số thông thường:\n",
        "\n",
        "## Khởi tạo Tham Số Thông Thường (Standard Initialization)\n",
        "\n",
        "Khởi tạo tham số thông thường là một phương pháp cơ bản để khởi tạo trọng số trong các mạng neural. Phương pháp này hữu ích cho các mạng nhỏ hoặc khi không có yêu cầu đặc biệt về khởi tạo trọng số. Trong phương pháp này, các trọng số được khởi tạo từ một phân phối chuẩn với giá trị nhỏ, thường được nhân với một hệ số nhỏ như 0.01 để tránh các vấn đề về gradient lớn hoặc nhỏ quá mức. Bias thường được khởi tạo bằng vector giá trị 0.\n",
        "\n",
        "Công thức cho khởi tạo trọng số cho $W$ là:\n",
        "\n",
        "\\begin{equation*}\n",
        "W = 0.01 \\times N(0, 1)^{(units, input\\_dim)}\n",
        "\\end{equation*}\n",
        "\n",
        "Trong đó:\n",
        "- $N(0, 1)$ là phân phối chuẩn với giá trị trung bình bằng 0 và độ lệch chuẩn bằng 1.\n",
        "- $units$ là số lượng đơn vị (neuron) trong lớp.\n",
        "- $input\\_dim$ là số lượng đầu vào của mỗi neuron.\n",
        "\n",
        "Dưới đây là công thức khởi tạo cho bias $b$:\n",
        "\n",
        "\\begin{equation*}\n",
        "b = \\mathbf{0}^{(units, 1)}\n",
        "\\end{equation*}\n",
        "\n",
        "Trong đó:\n",
        "- $units$ là số lượng đơn vị (neuron) trong lớp.\n",
        "- $\\mathbf{0}^{(units, 1)}$ biểu thị một vector có kích thước \\( (units, 1) \\) với tất cả các phần tử bằng 0.\n",
        "\n",
        "Phương pháp này giúp mạng neural bắt đầu huấn luyện với các trọng số nhỏ, ổn định và dễ dàng điều chỉnh qua quá trình huấn luyện, đặc biệt phù hợp khi không có yêu cầu sử dụng các phương pháp khởi tạo đặc biệt như He Normal hay Xavier.\n",
        "\n",
        "Gợi ý:\n",
        "- Sử dụng [numpy.random.randn](https://numpy.org/doc/2.0/reference/random/generated/numpy.random.randn.html) cho $N(0, 1)^{(units, input\\_dim)}$\n",
        "- Sử dụng [numpy.zeros](https://numpy.org/doc/stable/reference/generated/numpy.zeros.html) cho khởi tạo $b$."
      ],
      "metadata": {
        "id": "07f1eUWSDQnF"
      }
    },
    {
      "cell_type": "code",
      "source": [
        "# Khởi tạo tham số thông thường\n",
        "def initialize_parameters(input_dim, units):\n",
        "    \"\"\"\n",
        "    Khởi tạo trọng số với khởi tạo thông thường (Gaussian với phương sai nhỏ) và bias với giá trị 0.\n",
        "\n",
        "    Tham số:\n",
        "    input_dim -- kích thước của lớp đầu vào\n",
        "    units -- số lượng đơn vị trong lớp\n",
        "\n",
        "    Trả về:\n",
        "    parameters -- dictionary chứa các tham số:\n",
        "                    W -- ma trận trọng số có dạng (units, input_dim)\n",
        "                    b -- vector bias có dạng (units, 1)\n",
        "    \"\"\"\n",
        "    ### BEGIN SOLUTION\n",
        "    W = np.random.randn(units, input_dim) * 0.01  # Khởi tạo thông thường với giá trị nhỏ\n",
        "    b = np.zeros((units, 1))\n",
        "    ### END SOLUTION\n",
        "    parameters = {\"W\": W, \"b\": b}\n",
        "    return parameters"
      ],
      "metadata": {
        "id": "HcX1ZUpEA1WO"
      },
      "execution_count": 35,
      "outputs": []
    },
    {
      "cell_type": "code",
      "source": [
        "# Tests 10 points.\n",
        "\n",
        "def test_output_shape():\n",
        "    input_dim, units = 5, 3\n",
        "    params = initialize_parameters(input_dim, units)\n",
        "    assert params['W'].shape == (units, input_dim), f\"W shape is incorrect. Expected {(units, input_dim)}, but got {params['W'].shape}\"\n",
        "    assert params['b'].shape == (units, 1), f\"b shape is incorrect. Expected {(units, 1)}, but got {params['b'].shape}\"\n",
        "    print(\"test_output_shape passed!\")\n",
        "\n",
        "test_output_shape()\n",
        "\n",
        "### START HIDDEN TESTS\n",
        "\n",
        "def test_bias_initialization():\n",
        "    input_dim, units = 10, 7\n",
        "    params = initialize_parameters(input_dim, units)\n",
        "    assert np.allclose(params['b'], np.zeros((units, 1))), \"Bias initialization is incorrect. Expected all zeros.\"\n",
        "    print(\"test_bias_initialization passed!\")\n",
        "\n",
        "def test_weight_initialization_mean():\n",
        "    input_dim, units = 100, 50\n",
        "    params = initialize_parameters(input_dim, units)\n",
        "    assert abs(np.mean(params['W'])) < 0.01, f\"Weight mean is too large. Expected < 0.01, but got {abs(np.mean(params['W']))}\"\n",
        "    print(\"test_weight_initialization_mean passed!\")\n",
        "\n",
        "def test_weight_initialization_std():\n",
        "    input_dim, units = 1000, 500\n",
        "    params = initialize_parameters(input_dim, units)\n",
        "    std = np.std(params['W'])\n",
        "    assert 0.005 < std < 0.015, f\"Weight standard deviation is out of range. Expected between 0.005 and 0.015, but got {std}\"\n",
        "    print(\"test_weight_initialization_std passed!\")\n",
        "\n",
        "def test_reproducibility():\n",
        "    input_dim, units = 20, 15\n",
        "    params1 = initialize_parameters(input_dim, units)\n",
        "    params2 = initialize_parameters(input_dim, units)\n",
        "    assert np.allclose(params1['W'], params2['W']), \"Weight initialization is not reproducible\"\n",
        "    assert np.allclose(params1['b'], params2['b']), \"Bias initialization is not reproducible\"\n",
        "    print(\"test_reproducibility passed!\")\n",
        "\n",
        "def test_different_dimensions():\n",
        "    test_cases = [(1, 1), (100, 1), (1, 100), (50, 30)]\n",
        "    for input_dim, units in test_cases:\n",
        "        params = initialize_parameters(input_dim, units)\n",
        "        assert params['W'].shape == (units, input_dim), f\"W shape is incorrect for input_dim={input_dim}, units={units}. Expected {(units, input_dim)}, but got {params['W'].shape}\"\n",
        "        assert params['b'].shape == (units, 1), f\"b shape is incorrect for input_dim={input_dim}, units={units}. Expected {(units, 1)}, but got {params['b'].shape}\"\n",
        "    print(\"test_different_dimensions passed!\")\n",
        "\n",
        "def run_all_tests():\n",
        "    test_bias_initialization()\n",
        "    test_weight_initialization_mean()\n",
        "    test_weight_initialization_std()\n",
        "    test_reproducibility()\n",
        "    test_different_dimensions()\n",
        "    print(\"All tests passed!\")\n",
        "\n",
        "run_all_tests()\n",
        "\n",
        "### END HIDDEN TESTS"
      ],
      "metadata": {
        "colab": {
          "base_uri": "https://localhost:8080/"
        },
        "id": "l86xzNiBxQ4n",
        "outputId": "856b19b8-e221-43f8-c5aa-ccaf77971d16"
      },
      "execution_count": 36,
      "outputs": [
        {
          "output_type": "stream",
          "name": "stdout",
          "text": [
            "test_output_shape passed!\n",
            "test_bias_initialization passed!\n",
            "test_weight_initialization_mean passed!\n",
            "test_weight_initialization_std passed!\n",
            "test_reproducibility passed!\n",
            "test_different_dimensions passed!\n",
            "All tests passed!\n"
          ]
        }
      ]
    },
    {
      "cell_type": "markdown",
      "source": [
        "# Batch\n",
        "Trong machine learning, một \"batch\" đề cập đến một tập hợp các mẫu dữ liệu được sử dụng cùng một lúc để cập nhật trọng số của mô hình trong quá trình huấn luyện.\n",
        "\n",
        "Thay vì cập nhật trọng số của mô hình sau mỗi mẫu dữ liệu (điều này được gọi là \"stochastic gradient descent\"), chúng ta thường sử dụng các batch của dữ liệu để tính toán gradient và cập nhật trọng số. Việc này giúp tăng tốc quá trình huấn luyện bằng cách sử dụng tính đồng thời của các phép tính trên một tập hợp các mẫu dữ liệu.\n",
        "\n",
        "Số lượng mẫu dữ liệu trong mỗi batch được gọi là \"batch size\". Các giá trị phổ biến cho batch size thường là 16, 32, 64, 128, và 256, nhưng có thể thay đổi tùy thuộc vào quy mô của dữ liệu và tài nguyên tính toán có sẵn.\n",
        "\n",
        "Một số lợi ích của việc sử dụng batch trong quá trình huấn luyện bao gồm:\n",
        "\n",
        "Tăng tốc độ tính toán bằng cách sử dụng tính đồng thời của các phép tính trên batch. Giảm thiểu việc chi phí tính toán cho việc tính toán gradient trên toàn bộ dữ liệu huấn luyện. Làm giảm việc \"dao động\" (fluctuation) trong quá trình cập nhật trọng số của mô hình so với việc sử dụng stochastic gradient descent."
      ],
      "metadata": {
        "id": "6OyHgC_NSbxf"
      }
    },
    {
      "cell_type": "markdown",
      "source": [
        "# Epoch\n",
        "Trong machine learning, một \"epoch\" đề cập đến một vòng lặp hoàn toàn qua toàn bộ dữ liệu huấn luyện trong quá trình huấn luyện một mô hình.\n",
        "\n",
        "Trong mỗi epoch, toàn bộ dữ liệu huấn luyện được sử dụng một lần để cập nhật trọng số của mô hình. Mục tiêu là để mô hình học được càng nhiều từ dữ liệu huấn luyện càng tốt.\n",
        "\n",
        "Một epoch kết thúc khi tất cả các mẫu dữ liệu trong tập huấn luyện đã được sử dụng một lần để cập nhật trọng số của mô hình. Sau mỗi epoch, chúng ta có thể kiểm tra hiệu suất của mô hình trên tập kiểm tra hoặc tập xác thực để đánh giá sự hiệu quả của mô hình và tránh việc overfitting."
      ],
      "metadata": {
        "id": "Yk373CKVShWQ"
      }
    },
    {
      "cell_type": "markdown",
      "source": [
        "# Tổng hợp các functions trên để huấn luyện mô hình\n",
        "Như mô hình ở bài trước, chúng ta sẽ xây dựng mô hình như sau:\n",
        "* Input layer: một lớp Dense với 6 neurons tương ứng 6 thuộc tính.\n",
        "* Hidden layers: Thêm 1 lớp Dense với mỗi lớp có 10 neurons và hàm kích hoạt là 'relu'.\n",
        "* Output layer: Thêm một lớp Dense với 1 neurons (vì đây là bài toán dự đoán giá) mà không có activation function (hàm kích hoạt) (vì đây là bài toán linear regression (dự đoán giá trị liên tục))."
      ],
      "metadata": {
        "id": "sUsi_KNiLX6A"
      }
    },
    {
      "cell_type": "markdown",
      "source": [
        "![image.png](data:image/png;base64,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)"
      ],
      "metadata": {
        "id": "JG11mxoILrkp"
      }
    },
    {
      "cell_type": "markdown",
      "source": [
        "Hàm `nn_model` trong cell này triển khai một mô hình mạng neural hai lớp với kích thước batch và số lượng epochs sử dụng các functions mà chúng ta đã tạo. Dưới đây là giải thích chi tiết về từng phần của hàm:\n",
        "\n",
        "### Quy Trình\n",
        "\n",
        "1. **Khởi Tạo**\n",
        "\n",
        "   - **Khởi tạo Tham Số**:\n",
        "     - `np.random.seed(2)`: Đảm bảo rằng kết quả là có thể lặp lại.\n",
        "     - `n_x` và `m`: Số lượng đặc trưng và ví dụ từ dữ liệu đầu vào.\n",
        "     - Đảm bảo `Y` là một vector cột với kích thước `(1, m)`.\n",
        "\n",
        "   - **Khởi Tạo Tham Số Của Mạng**:\n",
        "     - `parameters['layer1']`: Khởi tạo tham số cho lớp ẩn đầu tiên với kích thước `(n_x, n_h)`.\n",
        "     - `parameters['layer2']`: Khởi tạo tham số cho lớp đầu ra với kích thước `(n_h, 1)`.\n",
        "\n",
        "2. **Vòng Lặp Epoch**\n",
        "\n",
        "   - **Tính Toán Số Lượng Batch**:\n",
        "     - `num_batches` tính số lượng batch cần thiết dựa trên kích thước của dữ liệu và kích thước batch.\n",
        "\n",
        "   - **Vòng Lặp Mini-Batch**:\n",
        "     - **Tách Dữ Liệu Thành Batch**:\n",
        "       - Xác định phạm vi của mỗi mini-batch bằng `start` và `end`.\n",
        "       - Tách dữ liệu đầu vào (`X_batch`) và nhãn (`Y_batch`) cho mỗi mini-batch.\n",
        "\n",
        "     - **Lan Truyền Xuôi**:\n",
        "       - `A1, cache1 = forward_propagation(X_batch.T, parameters['layer1'], 'relu')`: Lan truyền qua lớp ẩn với hàm kích hoạt ReLU.\n",
        "       - `A2, cache2 = forward_propagation(A1, parameters['layer2'], 'linear')`: Lan truyền qua lớp đầu ra với hàm kích hoạt Linear.\n",
        "\n",
        "     - **Tính Độ Mất Mát**:\n",
        "       - `batch_cost = compute_cost(A2, Y_batch)`: Tính toán độ mất mát cho batch hiện tại.\n",
        "       - Cập nhật `epoch_cost` với giá trị mất mát trung bình của tất cả các batch.\n",
        "\n",
        "     - **Lan Truyền Ngược**:\n",
        "       - `dA2 = -(Y_batch - A2)`: Tính toán gradient của đầu ra.\n",
        "       - `dA1, dW2, db2 = backward_propagation(dA2, cache2, 'linear')`: Tính toán gradient cho lớp đầu ra.\n",
        "       - `_, dW1, db1 = backward_propagation(dA1, cache1, 'relu')`: Tính toán gradient cho lớp ẩn.\n",
        "\n",
        "     - **Cập Nhật Tham Số**:\n",
        "       - Tạo dictionary `grads` chứa các gradient.\n",
        "       - Cập nhật các tham số của lớp ẩn và lớp đầu ra bằng cách sử dụng hàm `update_parameters` với tốc độ học `learning_rate`.\n",
        "\n",
        "3. **In Độ Mất Mát**\n",
        "\n",
        "   - Nếu `print_cost` là `True`, in ra độ mất mát mỗi epoch để theo dõi quá trình huấn luyện.\n",
        "\n",
        "Hàm `nn_model` giúp chúng ta huấn luyện một mô hình mạng neural hai lớp với sự kiểm soát kích thước batch và số lượng epochs, đồng thời theo dõi độ mất mát trong quá trình huấn luyện."
      ],
      "metadata": {
        "id": "_BnQ4U8aKJAd"
      }
    },
    {
      "cell_type": "code",
      "source": [
        "# Mô hình mạng neural hai lớp với kích thước batch và epochs\n",
        "def nn_model(X, Y, n_h, learning_rate=0.00001, num_epochs=100, batch_size=32, print_cost=False):\n",
        "    \"\"\"\n",
        "    Triển khai một mạng neural hai lớp: LINEAR->RELU->LINEAR->MSE.\n",
        "\n",
        "    Tham số:\n",
        "    X -- dữ liệu đầu vào có dạng (số lượng ví dụ, số lượng đặc trưng)\n",
        "    Y -- vector nhãn \"thật\" có dạng (số lượng ví dụ,)\n",
        "    n_h -- kích thước của lớp ẩn\n",
        "    learning_rate -- tốc độ học của quy tắc cập nhật gradient descent\n",
        "    num_epochs -- số lượng lượt qua tập huấn luyện\n",
        "    batch_size -- kích thước của mini-batch\n",
        "    print_cost -- nếu True, in ra chi phí mỗi epoch\n",
        "\n",
        "    Trả về:\n",
        "    parameters -- các tham số học được bởi mô hình. Chúng có thể được sử dụng để dự đoán.\n",
        "    \"\"\"\n",
        "    np.random.seed(2)\n",
        "    n_x = X.shape[1]  # Số lượng đặc trưng\n",
        "    m = X.shape[0]  # Số lượng ví dụ\n",
        "\n",
        "    # Đảm bảo Y là một vector cột\n",
        "    Y = Y.reshape(1, m)\n",
        "\n",
        "    # Khởi tạo tham số\n",
        "    parameters = {}\n",
        "    parameters['layer1'] = initialize_parameters(n_x, n_h)\n",
        "    parameters['layer2'] = initialize_parameters(n_h, 1)  # 1 đơn vị đầu ra cho hồi quy\n",
        "\n",
        "    # Vòng lặp epoch\n",
        "    for epoch in range(num_epochs):\n",
        "        epoch_cost = 0\n",
        "        num_batches = int(m / batch_size)\n",
        "\n",
        "        # Vòng lặp mini-batch\n",
        "        for batch in range(num_batches):\n",
        "            start = batch * batch_size\n",
        "            end = min(start + batch_size, m)\n",
        "            X_batch = X[start:end, :]\n",
        "            Y_batch = Y[:, start:end]\n",
        "\n",
        "            # Lan truyền xuôi\n",
        "            A1, cache1 = forward_propagation(X_batch.T, parameters['layer1'], 'relu')\n",
        "            A2, cache2 = forward_propagation(A1, parameters['layer2'], 'linear')\n",
        "\n",
        "            # Tính độ mất mát\n",
        "            batch_cost = compute_cost(A2, Y_batch)\n",
        "            epoch_cost += batch_cost / num_batches\n",
        "\n",
        "            # Lan truyền ngược\n",
        "            dA2 = -(Y_batch - A2)\n",
        "            dA1, dW2, db2 = backward_propagation(dA2, cache2, 'linear')\n",
        "            _, dW1, db1 = backward_propagation(dA1, cache1, 'relu')\n",
        "\n",
        "            # Cập nhật tham số\n",
        "            grads = {\"dW1\": dW1, \"db1\": db1, \"dW2\": dW2, \"db2\": db2}\n",
        "            parameters['layer1'] = update_parameters(parameters['layer1'], {\"dW\": dW1, \"db\": db1}, learning_rate)\n",
        "            parameters['layer2'] = update_parameters(parameters['layer2'], {\"dW\": dW2, \"db\": db2}, learning_rate)\n",
        "\n",
        "        # In độ mất mát mỗi epoch\n",
        "        if print_cost and epoch % 1 == 0:\n",
        "            print(\"Độ mất mát của epoch {}: {}\".format(epoch+1, epoch_cost))\n",
        "\n",
        "    return parameters"
      ],
      "metadata": {
        "id": "3ftpxrxFBMoS"
      },
      "execution_count": 37,
      "outputs": []
    },
    {
      "cell_type": "code",
      "source": [
        "# Huấn luyện mô hình với số neuron cho hidden layer, số lượng epochs và batch\n",
        "parameters = nn_model(X_train, y_train, n_h=10, num_epochs=100, batch_size=32, print_cost=True)"
      ],
      "metadata": {
        "colab": {
          "base_uri": "https://localhost:8080/"
        },
        "id": "JKvPgYsY4O5a",
        "outputId": "c4055bec-d196-4b84-9ef0-e30c207fe7a5"
      },
      "execution_count": 39,
      "outputs": [
        {
          "output_type": "stream",
          "name": "stdout",
          "text": [
            "Độ mất mát của epoch 1: 8864800.761239426\n",
            "Độ mất mát của epoch 2: 6627.9968895597685\n",
            "Độ mất mát của epoch 3: 6557.268498892819\n",
            "Độ mất mát của epoch 4: 6488.824969167539\n",
            "Độ mất mát của epoch 5: 6422.591982556768\n",
            "Độ mất mát của epoch 6: 6358.489425091029\n",
            "Độ mất mát của epoch 7: 5987.515683176053\n",
            "Độ mất mát của epoch 8: 6242.105131501079\n",
            "Độ mất mát của epoch 9: 6183.843448506434\n",
            "Độ mất mát của epoch 10: 6127.46397026408\n",
            "Độ mất mát của epoch 11: 6072.905889436216\n",
            "Độ mất mát của epoch 12: 6020.110363165885\n",
            "Độ mất mát của epoch 13: 5969.020449610991\n",
            "Độ mất mát của epoch 14: 5919.58106790473\n",
            "Độ mất mát của epoch 15: 5871.738888088895\n",
            "Độ mất mát của epoch 16: 5825.442294061212\n",
            "Độ mất mát của epoch 17: 5780.641353582948\n",
            "Độ mất mát của epoch 18: 5737.287747554547\n",
            "Độ mất mát của epoch 19: 5695.334717900604\n",
            "Độ mất mát của epoch 20: 5654.737017138319\n",
            "Độ mất mát của epoch 21: 5615.450859575222\n",
            "Độ mất mát của epoch 22: 5577.433874083642\n",
            "Độ mất mát của epoch 23: 5540.645058400842\n",
            "Độ mất mát của epoch 24: 5505.044734905555\n",
            "Độ mất mát của epoch 25: 5470.594507826234\n",
            "Độ mất mát của epoch 26: 5437.257221825672\n",
            "Độ mất mát của epoch 27: 5404.996921917003\n",
            "Độ mất mát của epoch 28: 5373.778814702717\n",
            "Độ mất mát của epoch 29: 5343.56923084361\n",
            "Độ mất mát của epoch 30: 5314.335588725597\n",
            "Độ mất mát của epoch 31: 5286.046359339617\n",
            "Độ mất mát của epoch 32: 5258.671032276513\n",
            "Độ mất mát của epoch 33: 5232.180082803513\n",
            "Độ mất mát của epoch 34: 5206.5449400347725\n",
            "Độ mất mát của epoch 35: 5181.737956093602\n",
            "Độ mất mát của epoch 36: 5157.732376330924\n",
            "Độ mất mát của epoch 37: 5134.502310433622\n",
            "Độ mất mát của epoch 38: 5112.022704520734\n",
            "Độ mất mát của epoch 39: 5090.269314105925\n",
            "Độ mất mát của epoch 40: 5069.218677957403\n",
            "Độ mất mát của epoch 41: 5048.848092801941\n",
            "Độ mất mát của epoch 42: 5029.135588821275\n",
            "Độ mất mát của epoch 43: 5010.059905964808\n",
            "Độ mất mát của epoch 44: 4991.600471019896\n",
            "Độ mất mát của epoch 45: 4973.737375420851\n",
            "Độ mất mát của epoch 46: 4956.4513537772345\n",
            "Độ mất mát của epoch 47: 4939.723763094016\n",
            "Độ mất mát của epoch 48: 4923.5365626655475\n",
            "Độ mất mát của epoch 49: 4907.8722947250535\n",
            "Độ mất mát của epoch 50: 4892.714065336588\n",
            "Độ mất mát của epoch 51: 4878.045526368594\n",
            "Độ mất mát của epoch 52: 4863.850857874261\n",
            "Độ mất mát của epoch 53: 4850.114751002928\n",
            "Độ mất mát của epoch 54: 4836.822391458822\n",
            "Độ mất mát của epoch 55: 4823.959443553993\n",
            "Độ mất mát của epoch 56: 4811.512034732092\n",
            "Độ mất mát của epoch 57: 4799.466740605635\n",
            "Độ mất mát của epoch 58: 4787.810570493717\n",
            "Độ mất mát của epoch 59: 4776.530953377827\n",
            "Độ mất mát của epoch 60: 4765.615724378331\n",
            "Độ mất mát của epoch 61: 4755.053111605056\n",
            "Độ mất mát của epoch 62: 4744.831723478304\n",
            "Độ mất mát của epoch 63: 4734.94053644584\n",
            "Độ mất mát của epoch 64: 4725.368883071423\n",
            "Độ mất mát của epoch 65: 4716.10644054932\n",
            "Độ mất mát của epoch 66: 4707.143219559531\n",
            "Độ mất mát của epoch 67: 4698.469553505804\n",
            "Độ mất mát của epoch 68: 4690.076088105852\n",
            "Độ mất mát của epoch 69: 4681.953771288682\n",
            "Độ mất mát của epoch 70: 4674.093843386569\n",
            "Độ mất mát của epoch 71: 4666.487827684696\n",
            "Độ mất mát của epoch 72: 4659.127521374927\n",
            "Độ mất mát của epoch 73: 4652.004986685185\n",
            "Độ mất mát của epoch 74: 4645.112542207961\n",
            "Độ mất mát của epoch 75: 4638.442754729828\n",
            "Độ mất mát của epoch 76: 4631.988431148762\n",
            "Độ mất mát của epoch 77: 4625.742610808761\n",
            "Độ mất mát của epoch 78: 4619.698557835849\n",
            "Độ mất mát của epoch 79: 4613.8497540168955\n",
            "Độ mất mát của epoch 80: 4608.189891916684\n",
            "Độ mất mát của epoch 81: 4602.712867492979\n",
            "Độ mất mát của epoch 82: 4597.41277418159\n",
            "Độ mất mát của epoch 83: 4592.283896032462\n",
            "Độ mất mát của epoch 84: 4587.320701900479\n",
            "Độ mất mát của epoch 85: 4582.517839261577\n",
            "Độ mất mát của epoch 86: 4577.870128589095\n",
            "Độ mất mát của epoch 87: 4573.372557539037\n",
            "Độ mất mát của epoch 88: 4569.020275911562\n",
            "Độ mất mát của epoch 89: 4564.808589999494\n",
            "Độ mất mát của epoch 90: 4560.732957844458\n",
            "Độ mất mát của epoch 91: 4556.788984068249\n",
            "Độ mất mát của epoch 92: 4552.972415298834\n",
            "Độ mất mát của epoch 93: 4549.279135836415\n",
            "Độ mất mát của epoch 94: 4545.705162847541\n",
            "Độ mất mát của epoch 95: 4542.246642047239\n",
            "Độ mất mát của epoch 96: 4538.899843692099\n",
            "Độ mất mát của epoch 97: 4535.661158498388\n",
            "Độ mất mát của epoch 98: 4532.527093791049\n",
            "Độ mất mát của epoch 99: 4529.494267500273\n",
            "Độ mất mát của epoch 100: 4526.559235835647\n"
          ]
        }
      ]
    },
    {
      "cell_type": "markdown",
      "source": [
        "Sau đó, ta sẽ dùng các thông số đã được huấn luyện để dự đoán `y_test` dựa trên `X_test`."
      ],
      "metadata": {
        "id": "728V7FvJKeNu"
      }
    },
    {
      "cell_type": "code",
      "source": [
        "# Hàm để dự đoán\n",
        "def predict(X, parameters):\n",
        "    \"\"\"\n",
        "    Thực hiện dự đoán sử dụng các tham số đã được huấn luyện.\n",
        "\n",
        "    Tham số:\n",
        "    X -- dữ liệu đầu vào có kích thước (số lượng ví dụ, số lượng đặc trưng)\n",
        "    parameters -- dictionary chứa các tham số đã được huấn luyện\n",
        "\n",
        "    Trả về:\n",
        "    predictions -- vector dự đoán\n",
        "    \"\"\"\n",
        "    A1, _ = forward_propagation(X.T, parameters['layer1'], activation='relu')\n",
        "    predictions, _ = forward_propagation(A1, parameters['layer2'], activation='linear')\n",
        "    return predictions"
      ],
      "metadata": {
        "id": "3k7c45u0-naO"
      },
      "execution_count": 40,
      "outputs": []
    },
    {
      "cell_type": "markdown",
      "source": [
        "Dựa vào các kết quả dự đoán, chúng ta sẽ đánh giá mô hình dựa vào hàm mất mát MSE."
      ],
      "metadata": {
        "id": "gFfmOZzHKt3D"
      }
    },
    {
      "cell_type": "code",
      "source": [
        "# Dự đoán giá trị dựa trên X_test và thông số đã được huấn luyện\n",
        "predictions = predict(X_test, parameters)\n",
        "\n",
        "# Đánh giá mô hình\n",
        "mse = compute_cost(predictions, y_test.reshape(1, -1))  # Đổi kích thước y_test để đồng nhất\n",
        "print(\"Mean Squared Error trên tệp Test:\", mse)"
      ],
      "metadata": {
        "id": "iUOU9tcz4XPh",
        "colab": {
          "base_uri": "https://localhost:8080/"
        },
        "outputId": "0ba25d38-f0a8-45c4-a6bb-6341bb8b1b87"
      },
      "execution_count": 41,
      "outputs": [
        {
          "output_type": "stream",
          "name": "stdout",
          "text": [
            "Mean Squared Error trên tệp Test: 2913.4803585880977\n"
          ]
        }
      ]
    },
    {
      "cell_type": "markdown",
      "source": [
        "Cuối cùng, để có cái nhìn trực quan hơn về kết quả, chúng ta sẽ in biểu đồ so sánh kết quả thực tế và kết quả dự đoán."
      ],
      "metadata": {
        "id": "yx1kQY5HLK-Z"
      }
    },
    {
      "cell_type": "code",
      "source": [
        "import matplotlib.pyplot as plt\n",
        "\n",
        "# Vẽ biểu đồ\n",
        "plt.scatter(y_test, predictions, color='blue', label='Predictions')\n",
        "plt.plot([min(y_test), max(y_test)], [min(y_test), max(y_test)], color='red', linestyle='--', label='Perfect prediction')\n",
        "plt.xlabel('True values')\n",
        "plt.ylabel('Predicted values')\n",
        "plt.title('True vs Predicted values')\n",
        "plt.legend()\n",
        "plt.show()"
      ],
      "metadata": {
        "id": "qQgi2HXp-Osa",
        "colab": {
          "base_uri": "https://localhost:8080/",
          "height": 472
        },
        "outputId": "bd91b7ec-e97c-4500-da06-75f33f12ccfd"
      },
      "execution_count": 42,
      "outputs": [
        {
          "output_type": "display_data",
          "data": {
            "text/plain": [
              "<Figure size 640x480 with 1 Axes>"
            ],
            "image/png": "[encoded data removed]"
          },
          "metadata": {}
        }
      ]
    },
    {
      "cell_type": "markdown",
      "source": [
        "#Thử với data trong dataset"
      ],
      "metadata": {
        "id": "M0z2QulD-nof"
      }
    },
    {
      "cell_type": "markdown",
      "source": [
        "Đầu tiên, ta sẽ lấy 1 data trong X_test và in ra thông tin trong đó."
      ],
      "metadata": {
        "id": "6Z2dIPvZ-3ji"
      }
    },
    {
      "cell_type": "code",
      "source": [
        "x_demo = X_test[0].reshape((1, -1))\n",
        "print(x_demo)"
      ],
      "metadata": {
        "id": "hhComlf8BJ5m",
        "colab": {
          "base_uri": "https://localhost:8080/"
        },
        "outputId": "cf46fb78-0eaf-4db6-dea8-9b9a1724d5e2"
      },
      "execution_count": 43,
      "outputs": [
        {
          "output_type": "stream",
          "name": "stdout",
          "text": [
            "[[ 17  18   2   6  38 151]]\n"
          ]
        }
      ]
    },
    {
      "cell_type": "markdown",
      "source": [
        "Để chuyển đổi data về giá trị ban đầu, ta cần:\n",
        "\n",
        "*   Trung bình bằng 0 và độ lệch chuẩn bằng 1\n",
        "*   LabelEncoder từ thư viện sklearn.preprocessing để chuyển đổi các giá trị trong các cột 'Đường', 'Quận', 'Huyện', và 'Loại hình nhà ở' từ dạng số sang dạng chuỗi."
      ],
      "metadata": {
        "id": "8yRlvNfqGuAd"
      }
    },
    {
      "cell_type": "markdown",
      "source": [
        "Đầu tiên, ta cần tải các encoder đã được tạo sẵn (tuần 3) sử dụng thư viện joblib."
      ],
      "metadata": {
        "id": "XkXXE55TSz6v"
      }
    },
    {
      "cell_type": "code",
      "source": [
        "# Convert categorical features back to original values\n",
        "quan = quan_label_encoder.inverse_transform([int(x_demo[0][0])])[0]\n",
        "huyen = huyen_label_encoder.inverse_transform([int(x_demo[0][1])])[0]\n",
        "loai_hinh_nha_o = loai_hinh_nha_o_label_encoder.inverse_transform([int(x_demo[0][2])])[0]\n",
        "duong = duong_label_encoder.inverse_transform([int(x_demo[0][5])])[0]\n",
        "so_phong_ngu = int(x_demo[0][3])\n",
        "dien_tich = int(x_demo[0][4])\n",
        "\n",
        "print({'đường': duong, 'quận': quan, 'huyện': huyen, 'loại hình nhà ở': loai_hinh_nha_o, 'số phòng ngủ': so_phong_ngu, 'diện tích': dien_tich})"
      ],
      "metadata": {
        "id": "sUVCqpKOBoy0",
        "colab": {
          "base_uri": "https://localhost:8080/"
        },
        "outputId": "632fb496-16a9-4dd3-928e-9ffdae71df8c"
      },
      "execution_count": 44,
      "outputs": [
        {
          "output_type": "stream",
          "name": "stdout",
          "text": [
            "{'đường': 'cầu giấy', 'quận': 'Quận Cầu Giấy', 'huyện': 'Phường Dịch Vọng', 'loại hình nhà ở': 'Nhà ngõ, hẻm', 'số phòng ngủ': 6, 'diện tích': 38}\n"
          ]
        }
      ]
    },
    {
      "cell_type": "markdown",
      "source": [
        "Cuối cùng, xem giá nhà dự đoán ở vị trí X_train[0]."
      ],
      "metadata": {
        "id": "i3SfDYV5HP4N"
      }
    },
    {
      "cell_type": "code",
      "source": [
        "demo_prediction = predict(x_demo, parameters)\n",
        "print(f\"Giá nhà dự đoán {demo_prediction}\")\n",
        "print(f\"Giá nhà thực tế {y_test[0]}\")"
      ],
      "metadata": {
        "id": "21oPQ67u_6-z",
        "colab": {
          "base_uri": "https://localhost:8080/"
        },
        "outputId": "d6886b42-01d1-4885-9efd-8c45db74f0c5"
      },
      "execution_count": 45,
      "outputs": [
        {
          "output_type": "stream",
          "name": "stdout",
          "text": [
            "Giá nhà dự đoán [[38.1269246]]\n",
            "Giá nhà thực tế 38\n"
          ]
        }
      ]
    },
    {
      "cell_type": "markdown",
      "source": [
        "# Thử với data của bạn"
      ],
      "metadata": {
        "id": "JAvVLBVG-ldJ"
      }
    },
    {
      "cell_type": "markdown",
      "source": [
        "Đầu tiên, ta cần nhập vào input và mã hóa các thông tin của đường, quận, huyện, loại hình nhà ở. Ta sẽ sử dụng LabelEncoder để chuyển hóa dữ liệu từ số sang chữ (giải thích kĩ ở tuần 3).\n",
        "\n",
        "Lưu ý:\n",
        "* Chỉ nhập tên đường, không bắt đầu bằng \"đường\" hoặc \"phố\".\n",
        "* Đối với data không được train, cell này sẽ xảy ra lỗi."
      ],
      "metadata": {
        "id": "O5F4fzHm-pM7"
      }
    },
    {
      "cell_type": "code",
      "source": [
        "duong = 'minh khai'\n",
        "quan = 'Quận Hai Bà Trưng'\n",
        "huyen = 'Phường Minh Khai'\n",
        "loai = 'Nhà mặt phố, mặt tiền'\n",
        "so_phong = 6\n",
        "dien_tich = 50\n",
        "\n",
        "# Chuyển đổi cột 'Địa chỉ'\n",
        "duong = duong_label_encoder.transform([duong])[0]\n",
        "\n",
        "# Chuyển đổi cột 'Quận'\n",
        "quan = quan_label_encoder.transform([quan])[0]\n",
        "\n",
        "# Chuyển đổi cột 'Huyện'\n",
        "huyen = huyen_label_encoder.transform([huyen])[0]\n",
        "\n",
        "# Chuyển đổi cột 'Loại hình nhà ở'\n",
        "loai = loai_hinh_nha_o_label_encoder.transform([loai])[0]"
      ],
      "metadata": {
        "id": "9C6RSq8N3T1Z"
      },
      "execution_count": 46,
      "outputs": []
    },
    {
      "cell_type": "markdown",
      "source": [
        "Sau đó, chúng ta chuẩn hóa x cho chúng có trung bình bằng 0 và độ lệch chuẩn bằng 1. (giải thích kĩ ở tuần 3)"
      ],
      "metadata": {
        "id": "Ja75hN6Y_lx2"
      }
    },
    {
      "cell_type": "code",
      "source": [
        "input = [[quan, huyen, loai, so_phong, dien_tich, duong]]\n",
        "input = np.array(input)\n",
        "print(input)"
      ],
      "metadata": {
        "id": "yPvS5LPovloI",
        "colab": {
          "base_uri": "https://localhost:8080/"
        },
        "outputId": "fb6c418f-a267-44bb-9f89-1553a9533d0b"
      },
      "execution_count": 47,
      "outputs": [
        {
          "output_type": "stream",
          "name": "stdout",
          "text": [
            "[[ 18  58   1   6  50 529]]\n"
          ]
        }
      ]
    },
    {
      "cell_type": "markdown",
      "source": [
        "Cuối cùng, xem giá nhà dự đoán của bạn."
      ],
      "metadata": {
        "id": "ILKw2Cb5_mmI"
      }
    },
    {
      "cell_type": "code",
      "source": [
        "input_prediction = predict(input, parameters)\n",
        "print(input_prediction)"
      ],
      "metadata": {
        "id": "9sMHGuePxmyK",
        "colab": {
          "base_uri": "https://localhost:8080/"
        },
        "outputId": "70b54b5b-e8e1-4384-e6d5-e5b36962c290"
      },
      "execution_count": 48,
      "outputs": [
        {
          "output_type": "stream",
          "name": "stdout",
          "text": [
            "[[38.1269246]]\n"
          ]
        }
      ]
    },
    {
      "cell_type": "code",
      "source": [],
      "metadata": {
        "id": "j0rNeB2sSBEr"
      },
      "execution_count": 48,
      "outputs": []
    }
  ]
}